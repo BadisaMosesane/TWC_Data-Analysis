{
 "cells": [
  {
   "cell_type": "code",
   "execution_count": 1,
   "metadata": {},
   "outputs": [
    {
     "data": {
      "text/plain": [
       "'/Users/badisa'"
      ]
     },
     "execution_count": 1,
     "metadata": {},
     "output_type": "execute_result"
    }
   ],
   "source": [
    "pwd"
   ]
  },
  {
   "cell_type": "markdown",
   "metadata": {},
   "source": [
    "# Notes \n",
    "\n",
    "- Start thinking about writing code as classes | beyond notebooks, some form of an app to be deployed\n",
    "- Write functions as pure functions, clojure\n",
    "- Do a config block at the top | specify how one will run the notebook, spec file_paths\n",
    "- Pass arguments to functions i.e. call a func and prompt user to put in file_path\n",
    "- Patent for groundwater collection and processing | collect and spin to an HPC machine that processes at high speeds\n",
    "- Read files into memory"
   ]
  },
  {
   "cell_type": "code",
   "execution_count": 5,
   "metadata": {},
   "outputs": [
    {
     "name": "stdout",
     "output_type": "stream",
     "text": [
      "/Users/badisa\n"
     ]
    }
   ],
   "source": [
    "#get the current working directory\n",
    "print(os.getcwd())"
   ]
  },
  {
   "cell_type": "code",
   "execution_count": 6,
   "metadata": {},
   "outputs": [],
   "source": [
    "#change the directory to where the files are\n",
    "\n",
    "os.chdir(\"/Users/badisa/TWC_Datasets/\")"
   ]
  },
  {
   "cell_type": "code",
   "execution_count": 7,
   "metadata": {},
   "outputs": [
    {
     "name": "stdout",
     "output_type": "stream",
     "text": [
      "All files and dirs in the TWC_Datasets directory: \n",
      " ['~$Ramotswa_all.xlsx', '.DS_Store', 'RIMS_boreholes_template.xlsx', 'Ramotswa_all.xlsx', '~$RIMS_boreholes_template.xlsx', 'NGA', 'RTBA_BOREHOLES']\n"
     ]
    }
   ],
   "source": [
    "def listDirs():\n",
    "    \"\"\" get the list of all files and directories in the current working directory, TWC_Datasets \"\"\"\n",
    "    print(\"All files and dirs in the TWC_Datasets directory: \\n\", os.listdir())\n",
    "listDirs()"
   ]
  },
  {
   "cell_type": "markdown",
   "metadata": {},
   "source": [
    "# TO-DO !!!\n",
    "call python | bash scripts inside the Jupyter notebook for handling TWC datasets"
   ]
  },
  {
   "cell_type": "code",
   "execution_count": 8,
   "metadata": {},
   "outputs": [
    {
     "ename": "SyntaxError",
     "evalue": "invalid syntax (<ipython-input-8-9a5daf4b6ecc>, line 2)",
     "output_type": "error",
     "traceback": [
      "\u001b[0;36m  File \u001b[0;32m\"<ipython-input-8-9a5daf4b6ecc>\"\u001b[0;36m, line \u001b[0;32m2\u001b[0m\n\u001b[0;31m    ls -al | cd NGA/ | ls -al\u001b[0m\n\u001b[0m                  ^\u001b[0m\n\u001b[0;31mSyntaxError\u001b[0m\u001b[0;31m:\u001b[0m invalid syntax\n"
     ]
    }
   ],
   "source": [
    "# do a bash-like script or python regex for listing all files in the directories, NGA, RTBA etc \n",
    "ls -al | cd NGA/ | ls -al"
   ]
  },
  {
   "cell_type": "code",
   "execution_count": 9,
   "metadata": {},
   "outputs": [],
   "source": [
    "#define funcs for listing files (by types) inside NGA dir\n",
    "\n",
    "def findCSVfiles(path_to_dir, suffix = \".csv\"):\n",
    "    \"\"\" func for finding csv files in the NGA directory \"\"\"\n",
    "    path = \"/Users/badisa/TWC_Datasets/NGA/NGA_and_WMS_databases/\"\n",
    "    dir_list = os.listdir(path)\n",
    "    return [file for file in dir_list if file.endswith(suffix)]\n",
    "\n",
    "def findXLSXfiles(path_to_dir, suffix = \".xlsx\"):\n",
    "    \"\"\" func for finding xlsx files in the NGA directory \"\"\"\n",
    "    path = \"/Users/badisa/TWC_Datasets/NGA/NGA_and_WMS_databases/\"\n",
    "    dir_list = os.listdir(path)\n",
    "    return [file for file in dir_list if file.endswith(suffix)]\n",
    "\n",
    "def findXLSfiles(path_to_dir, suffix = \".xls\"):\n",
    "    \"\"\" func for finding xls files in the NGA directory\"\"\"\n",
    "    path = \"/Users/badisa/TWC_Datasets/NGA/NGA_and_WMS_databases/\"\n",
    "    dir_list = os.listdir(path)\n",
    "    return [file for file in dir_list if file.endswith(suffix)]\n",
    "\n",
    "def findTXTfiles(path_to_dir, suffix = \".TXT\"):\n",
    "    \"\"\" func for finding TXT files in the specified directory \"\"\"\n",
    "    path = \"/Users/badisa/TWC_Datasets/NGA/NGA_and_WMS_databases/\"\n",
    "    dir_list = os.listdir(path)\n",
    "    return [file for file in dir_list if file.endswith(suffix)]\n"
   ]
  },
  {
   "cell_type": "code",
   "execution_count": 10,
   "metadata": {},
   "outputs": [
    {
     "data": {
      "text/plain": [
       "(['A3N0513_WaterLevels.csv',\n",
       "  'A3N0521_WaterLevels.csv',\n",
       "  'D4N2517_WaterLevels.csv',\n",
       "  'A3N0514_WaterLevels.csv',\n",
       "  'A1N0001_WaterLevels.csv',\n",
       "  'Ramotswa data 2 20190904.csv',\n",
       "  'A3N0015_WaterLevels.csv',\n",
       "  'D4N2516_WaterLevels.csv',\n",
       "  'D4N1658_WaterLevels.csv',\n",
       "  'Ramotswa data 1 20190904.csv',\n",
       "  'A1N0002_WaterLevels.csv',\n",
       "  'mergedWaterLevels.csv',\n",
       "  'D4N1468_WaterLevels.csv',\n",
       "  'A3N0519_WaterLevels.csv',\n",
       "  'D4N2515_WaterLevels.csv',\n",
       "  'A3N0516_WaterLevels.csv',\n",
       "  'Ramotswa variables inventory 20190904.csv',\n",
       "  'D4N1666_WaterLevels.csv',\n",
       "  'A1N0003_WaterLevels.csv'],\n",
       " ['~$Quality Code Description.xlsx',\n",
       "  'Quality Code Description.xlsx',\n",
       "  'A1H001 Upper Eye Dinokana.xlsx',\n",
       "  'A1H002 Lower Eye Dinokana.xlsx',\n",
       "  'A1H003 Upper Eye Tweefontein.xlsx',\n",
       "  'A1H004 Lower Eye Tweefontein.xlsx',\n",
       "  'A1H005 Skilpad Eye.xlsx',\n",
       "  '~$A1H001 Upper Eye Dinokana.xlsx',\n",
       "  'Ramotswa study area plus 10km.xlsx'],\n",
       " ['Quality codes.xls'],\n",
       " ['Ramotswa variables inventory 20190904_CSV.TXT',\n",
       "  'Ramotswa data 1 20190904_CSV.TXT',\n",
       "  'Ramotswa data 2 20190904_CSV.TXT'])"
      ]
     },
     "execution_count": 10,
     "metadata": {},
     "output_type": "execute_result"
    }
   ],
   "source": [
    "# call all files functions\n",
    "def call_file_funcs():\n",
    "    \"\"\" func that calls all the find files functions \"\"\"\n",
    "    \"\"\" prints all files from funcs above and displays all csv, xlsx and txt files \"\"\"\n",
    "    files_path = \"/Users/badisa/TWC_Datasets/NGA/NGA_and_WMS_databases/\"\n",
    "    return findCSVfiles(files_path), findXLSXfiles(files_path), findXLSfiles(files_path), findTXTfiles(files_path) \n",
    "\n",
    "call_file_funcs()"
   ]
  },
  {
   "cell_type": "code",
   "execution_count": 11,
   "metadata": {},
   "outputs": [
    {
     "name": "stdout",
     "output_type": "stream",
     "text": [
      "A3N0513_WaterLevels.csv\n",
      "A3N0521_WaterLevels.csv\n",
      "D4N2517_WaterLevels.csv\n",
      "A3N0514_WaterLevels.csv\n",
      "A1N0001_WaterLevels.csv\n",
      "Ramotswa data 2 20190904.csv\n",
      "A3N0015_WaterLevels.csv\n",
      "D4N2516_WaterLevels.csv\n",
      "D4N1658_WaterLevels.csv\n",
      "Ramotswa data 1 20190904.csv\n",
      "A1N0002_WaterLevels.csv\n",
      "mergedWaterLevels.csv\n",
      "D4N1468_WaterLevels.csv\n",
      "A3N0519_WaterLevels.csv\n",
      "D4N2515_WaterLevels.csv\n",
      "A3N0516_WaterLevels.csv\n",
      "Ramotswa variables inventory 20190904.csv\n",
      "D4N1666_WaterLevels.csv\n",
      "A1N0003_WaterLevels.csv\n",
      "~$Quality Code Description.xlsx\n",
      "Quality Code Description.xlsx\n",
      "A1H001 Upper Eye Dinokana.xlsx\n",
      "A1H002 Lower Eye Dinokana.xlsx\n",
      "A1H003 Upper Eye Tweefontein.xlsx\n",
      "A1H004 Lower Eye Tweefontein.xlsx\n",
      "A1H005 Skilpad Eye.xlsx\n",
      "~$A1H001 Upper Eye Dinokana.xlsx\n",
      "Ramotswa study area plus 10km.xlsx\n",
      "Quality codes.xls\n",
      "Ramotswa variables inventory 20190904_CSV.TXT\n",
      "Ramotswa data 1 20190904_CSV.TXT\n",
      "Ramotswa data 2 20190904_CSV.TXT\n"
     ]
    }
   ],
   "source": [
    "# print all files, not as a list of a list\n",
    "files_path = \"/Users/badisa/TWC_Datasets/NGA/NGA_and_WMS_databases/\"\n",
    "def cat_files():\n",
    "    \"\"\" func that prints out file names as a list, without apostrophes \"\"\"\n",
    "    CSVs = findCSVfiles(files_path)\n",
    "    XLSXs = findXLSXfiles(files_path)\n",
    "    XLSs = findXLSfiles(files_path)\n",
    "    TXTs = findTXTfiles(files_path)\n",
    "    \n",
    "    \"\"\"\n",
    "    for file, file2, file3, file4 in CSVs, XLSXs, XLSs, TXTs:\n",
    "        print(file, file2, file3, file4)\n",
    "    \"\"\"\n",
    "# check for a better way of chunking vars in the for loop, i.e. use a single for loop for all filenames\n",
    "    for file in CSVs:\n",
    "        print(file)\n",
    "\n",
    "    for file2 in XLSXs:\n",
    "        print(file2)\n",
    "    \n",
    "    for file3 in XLSs:\n",
    "        print(file3)\n",
    "\n",
    "    for file4 in TXTs:\n",
    "        print(file4)\n",
    "         \n",
    "cat_files()\n",
    "\n",
    "\n",
    "config block at the top\n",
    "pass arguments to functions"
   ]
  },
  {
   "cell_type": "code",
   "execution_count": 12,
   "metadata": {},
   "outputs": [],
   "source": [
    "#check why this only returns one file !!!\n",
    "def findCSV2(path_to_dir, suffix = \".csv\"):\n",
    "    \"\"\" func for\"\"\"\n",
    "    path = \"/Users/badisa/TWC_Datasets/NGA/NGA_and_WMS_databases/\"\n",
    "    dir_list = os.listdir(path)\n",
    "    for file in dir_list:\n",
    "        if file.endswith(suffix):\n",
    "            return file"
   ]
  },
  {
   "cell_type": "code",
   "execution_count": 13,
   "metadata": {},
   "outputs": [
    {
     "data": {
      "text/plain": [
       "'A3N0513_WaterLevels.csv'"
      ]
     },
     "execution_count": 13,
     "metadata": {},
     "output_type": "execute_result"
    }
   ],
   "source": [
    "# check | investigate this\n",
    "findCSV2(\"/Users/badisa/TWC_Datasets/NGA/NGA_and_WMS_databases/\")"
   ]
  },
  {
   "cell_type": "code",
   "execution_count": 14,
   "metadata": {},
   "outputs": [
    {
     "name": "stdout",
     "output_type": "stream",
     "text": [
      "A3N0513_WaterLevels.csv\n",
      "A3N0521_WaterLevels.csv\n",
      "D4N2517_WaterLevels.csv\n",
      "A3N0514_WaterLevels.csv\n",
      "A1N0001_WaterLevels.csv\n",
      "Ramotswa data 2 20190904.csv\n",
      "A3N0015_WaterLevels.csv\n",
      "D4N2516_WaterLevels.csv\n",
      "D4N1658_WaterLevels.csv\n",
      "Ramotswa data 1 20190904.csv\n",
      "A1N0002_WaterLevels.csv\n",
      "mergedWaterLevels.csv\n",
      "D4N1468_WaterLevels.csv\n",
      "A3N0519_WaterLevels.csv\n",
      "D4N2515_WaterLevels.csv\n",
      "A3N0516_WaterLevels.csv\n",
      "Ramotswa variables inventory 20190904.csv\n",
      "D4N1666_WaterLevels.csv\n",
      "A1N0003_WaterLevels.csv\n",
      "~$Quality Code Description.xlsx\n",
      "Quality Code Description.xlsx\n",
      "A1H001 Upper Eye Dinokana.xlsx\n",
      "A1H002 Lower Eye Dinokana.xlsx\n",
      "A1H003 Upper Eye Tweefontein.xlsx\n",
      "A1H004 Lower Eye Tweefontein.xlsx\n",
      "A1H005 Skilpad Eye.xlsx\n",
      "~$A1H001 Upper Eye Dinokana.xlsx\n",
      "Ramotswa study area plus 10km.xlsx\n",
      "Quality codes.xls\n",
      "Ramotswa variables inventory 20190904_CSV.TXT\n",
      "Ramotswa data 1 20190904_CSV.TXT\n",
      "Ramotswa data 2 20190904_CSV.TXT\n"
     ]
    }
   ],
   "source": [
    "# merge spreadsheets and append, chunk water levels together, water_quality together etc\n",
    "# Read in and merge water levels\n",
    "cat_files()"
   ]
  },
  {
   "cell_type": "code",
   "execution_count": 24,
   "metadata": {},
   "outputs": [
    {
     "data": {
      "text/plain": [
       "['/Users/badisa/TWC_Datasets/NGA/NGA_and_WMS_databases/A3N0513_WaterLevels.csv',\n",
       " '/Users/badisa/TWC_Datasets/NGA/NGA_and_WMS_databases/A3N0521_WaterLevels.csv',\n",
       " '/Users/badisa/TWC_Datasets/NGA/NGA_and_WMS_databases/D4N2517_WaterLevels.csv',\n",
       " '/Users/badisa/TWC_Datasets/NGA/NGA_and_WMS_databases/A3N0514_WaterLevels.csv',\n",
       " '/Users/badisa/TWC_Datasets/NGA/NGA_and_WMS_databases/A1N0001_WaterLevels.csv',\n",
       " '/Users/badisa/TWC_Datasets/NGA/NGA_and_WMS_databases/A3N0015_WaterLevels.csv',\n",
       " '/Users/badisa/TWC_Datasets/NGA/NGA_and_WMS_databases/D4N2516_WaterLevels.csv',\n",
       " '/Users/badisa/TWC_Datasets/NGA/NGA_and_WMS_databases/D4N1658_WaterLevels.csv',\n",
       " '/Users/badisa/TWC_Datasets/NGA/NGA_and_WMS_databases/A1N0002_WaterLevels.csv',\n",
       " '/Users/badisa/TWC_Datasets/NGA/NGA_and_WMS_databases/D4N1468_WaterLevels.csv',\n",
       " '/Users/badisa/TWC_Datasets/NGA/NGA_and_WMS_databases/A3N0519_WaterLevels.csv',\n",
       " '/Users/badisa/TWC_Datasets/NGA/NGA_and_WMS_databases/D4N2515_WaterLevels.csv',\n",
       " '/Users/badisa/TWC_Datasets/NGA/NGA_and_WMS_databases/A3N0516_WaterLevels.csv',\n",
       " '/Users/badisa/TWC_Datasets/NGA/NGA_and_WMS_databases/D4N1666_WaterLevels.csv',\n",
       " '/Users/badisa/TWC_Datasets/NGA/NGA_and_WMS_databases/A1N0003_WaterLevels.csv']"
      ]
     },
     "execution_count": 24,
     "metadata": {},
     "output_type": "execute_result"
    }
   ],
   "source": [
    "\"\"\" use glob func to match files with similar names, match all waterLevel files and sort them \"\"\"\n",
    "water_level_filenames = (glob.glob('/Users/badisa/TWC_Datasets/NGA/NGA_and_WMS_databases/*_WaterLevels.csv'))\n",
    "water_level_filenames"
   ]
  },
  {
   "cell_type": "code",
   "execution_count": 16,
   "metadata": {},
   "outputs": [
    {
     "data": {
      "text/html": [
       "<div>\n",
       "<style scoped>\n",
       "    .dataframe tbody tr th:only-of-type {\n",
       "        vertical-align: middle;\n",
       "    }\n",
       "\n",
       "    .dataframe tbody tr th {\n",
       "        vertical-align: top;\n",
       "    }\n",
       "\n",
       "    .dataframe thead th {\n",
       "        text-align: right;\n",
       "    }\n",
       "</style>\n",
       "<table border=\"1\" class=\"dataframe\">\n",
       "  <thead>\n",
       "    <tr style=\"text-align: right;\">\n",
       "      <th></th>\n",
       "      <th>station</th>\n",
       "      <th>date</th>\n",
       "      <th>time</th>\n",
       "      <th>water_level</th>\n",
       "      <th>quality</th>\n",
       "      <th>datatrans</th>\n",
       "      <th>comment</th>\n",
       "      <th>unnamed: 7</th>\n",
       "    </tr>\n",
       "  </thead>\n",
       "  <tbody>\n",
       "    <tr>\n",
       "      <td>0</td>\n",
       "      <td>A3N0513</td>\n",
       "      <td>19980904</td>\n",
       "      <td>12:00</td>\n",
       "      <td>-12.10</td>\n",
       "      <td>26</td>\n",
       "      <td>7</td>\n",
       "      <td>...</td>\n",
       "      <td>NaN</td>\n",
       "    </tr>\n",
       "    <tr>\n",
       "      <td>1</td>\n",
       "      <td>A3N0513</td>\n",
       "      <td>19991215</td>\n",
       "      <td>12:00</td>\n",
       "      <td>-14.82</td>\n",
       "      <td>26</td>\n",
       "      <td>7</td>\n",
       "      <td>...</td>\n",
       "      <td>NaN</td>\n",
       "    </tr>\n",
       "    <tr>\n",
       "      <td>2</td>\n",
       "      <td>A3N0513</td>\n",
       "      <td>20000215</td>\n",
       "      <td>12:00</td>\n",
       "      <td>-10.06</td>\n",
       "      <td>26</td>\n",
       "      <td>7</td>\n",
       "      <td>...</td>\n",
       "      <td>NaN</td>\n",
       "    </tr>\n",
       "    <tr>\n",
       "      <td>3</td>\n",
       "      <td>A3N0513</td>\n",
       "      <td>20000315</td>\n",
       "      <td>12:00</td>\n",
       "      <td>-10.06</td>\n",
       "      <td>26</td>\n",
       "      <td>7</td>\n",
       "      <td>...</td>\n",
       "      <td>NaN</td>\n",
       "    </tr>\n",
       "    <tr>\n",
       "      <td>4</td>\n",
       "      <td>A3N0513</td>\n",
       "      <td>20000316</td>\n",
       "      <td>12:00</td>\n",
       "      <td>-8.79</td>\n",
       "      <td>26</td>\n",
       "      <td>7</td>\n",
       "      <td>...</td>\n",
       "      <td>NaN</td>\n",
       "    </tr>\n",
       "    <tr>\n",
       "      <td>...</td>\n",
       "      <td>...</td>\n",
       "      <td>...</td>\n",
       "      <td>...</td>\n",
       "      <td>...</td>\n",
       "      <td>...</td>\n",
       "      <td>...</td>\n",
       "      <td>...</td>\n",
       "      <td>...</td>\n",
       "    </tr>\n",
       "    <tr>\n",
       "      <td>1070</td>\n",
       "      <td>A1N0003</td>\n",
       "      <td>19960615</td>\n",
       "      <td>12:00</td>\n",
       "      <td>-26.57</td>\n",
       "      <td>26</td>\n",
       "      <td>7</td>\n",
       "      <td>...</td>\n",
       "      <td>NaN</td>\n",
       "    </tr>\n",
       "    <tr>\n",
       "      <td>1071</td>\n",
       "      <td>A1N0003</td>\n",
       "      <td>19960715</td>\n",
       "      <td>12:00</td>\n",
       "      <td>-28.93</td>\n",
       "      <td>26</td>\n",
       "      <td>7</td>\n",
       "      <td>...</td>\n",
       "      <td>NaN</td>\n",
       "    </tr>\n",
       "    <tr>\n",
       "      <td>1072</td>\n",
       "      <td>A1N0003</td>\n",
       "      <td>19960815</td>\n",
       "      <td>12:00</td>\n",
       "      <td>-27.91</td>\n",
       "      <td>26</td>\n",
       "      <td>7</td>\n",
       "      <td>...</td>\n",
       "      <td>NaN</td>\n",
       "    </tr>\n",
       "    <tr>\n",
       "      <td>1073</td>\n",
       "      <td>A1N0003</td>\n",
       "      <td>19960915</td>\n",
       "      <td>12:00</td>\n",
       "      <td>-27.00</td>\n",
       "      <td>26</td>\n",
       "      <td>7</td>\n",
       "      <td>...</td>\n",
       "      <td>NaN</td>\n",
       "    </tr>\n",
       "    <tr>\n",
       "      <td>1074</td>\n",
       "      <td>A1N0003</td>\n",
       "      <td>19961015</td>\n",
       "      <td>12:00</td>\n",
       "      <td>-27.06</td>\n",
       "      <td>26</td>\n",
       "      <td>7</td>\n",
       "      <td>...</td>\n",
       "      <td>NaN</td>\n",
       "    </tr>\n",
       "  </tbody>\n",
       "</table>\n",
       "<p>1075 rows × 8 columns</p>\n",
       "</div>"
      ],
      "text/plain": [
       "       station      date   time  water_level  quality  datatrans  \\\n",
       "0     A3N0513   19980904  12:00       -12.10       26          7   \n",
       "1     A3N0513   19991215  12:00       -14.82       26          7   \n",
       "2     A3N0513   20000215  12:00       -10.06       26          7   \n",
       "3     A3N0513   20000315  12:00       -10.06       26          7   \n",
       "4     A3N0513   20000316  12:00        -8.79       26          7   \n",
       "...        ...       ...    ...          ...      ...        ...   \n",
       "1070  A1N0003   19960615  12:00       -26.57       26          7   \n",
       "1071  A1N0003   19960715  12:00       -28.93       26          7   \n",
       "1072  A1N0003   19960815  12:00       -27.91       26          7   \n",
       "1073  A1N0003   19960915  12:00       -27.00       26          7   \n",
       "1074  A1N0003   19961015  12:00       -27.06       26          7   \n",
       "\n",
       "                                                comment unnamed: 7  \n",
       "0                                                   ...        NaN  \n",
       "1                                                   ...        NaN  \n",
       "2                                                   ...        NaN  \n",
       "3                                                   ...        NaN  \n",
       "4                                                   ...        NaN  \n",
       "...                                                 ...        ...  \n",
       "1070                                                ...        NaN  \n",
       "1071                                                ...        NaN  \n",
       "1072                                                ...        NaN  \n",
       "1073                                                ...        NaN  \n",
       "1074                                                ...        NaN  \n",
       "\n",
       "[1075 rows x 8 columns]"
      ]
     },
     "execution_count": 16,
     "metadata": {},
     "output_type": "execute_result"
    }
   ],
   "source": [
    "# create water level dataframe\n",
    "water_levels = pd.DataFrame()\n",
    "\n",
    "# append each water_level file to the dataframe\n",
    "for wl_file in water_level_filenames:\n",
    "    wl_df = pd.read_csv(wl_file, parse_dates = True, date_parser = True)\n",
    "    wl_df.rename(columns = lambda x: x.strip().lower(), inplace = True)\n",
    "    water_levels = water_levels.append(wl_df, ignore_index = True, sort = False)\n",
    "\n",
    "# Inspect the first 10 records\n",
    "water_levels.head(-10)\n"
   ]
  },
  {
   "cell_type": "code",
   "execution_count": 116,
   "metadata": {},
   "outputs": [
    {
     "name": "stdout",
     "output_type": "stream",
     "text": [
      "current water levels: ['A3N0513 ' 'A3N0521 ' 'D4N2517 ' 'A3N0514 ' 'A1N0001 ' 'A3N0015 '\n",
      " 'D4N2516 ' 'D4N1658 ' 'A1N0002 ' 'D4N1468 ' 'A3N0519 ' 'D4N2515 '\n",
      " 'A3N0516 ' 'D4N1666 ' 'A1N0003 '] \n",
      "\n"
     ]
    }
   ],
   "source": [
    "water_levels\n",
    "print('current water levels: {} \\n'.format(water_levels ['station'].unique()))"
   ]
  },
  {
   "cell_type": "code",
   "execution_count": 22,
   "metadata": {},
   "outputs": [],
   "source": [
    "# merged all water levels in cwd (NGA_and_WMS_databases) into mergedWaterLevels.csv file\n",
    "water_levels.to_csv(\"/Users/badisa/TWC_Datasets/NGA/NGA_and_WMS_databases/mergedWaterLevels.csv\", index=False)"
   ]
  },
  {
   "cell_type": "code",
   "execution_count": 19,
   "metadata": {},
   "outputs": [
    {
     "name": "stdout",
     "output_type": "stream",
     "text": [
      "<class 'pandas.core.frame.DataFrame'>\n",
      "RangeIndex: 1085 entries, 0 to 1084\n",
      "Data columns (total 8 columns):\n",
      "station        1085 non-null object\n",
      "date           1085 non-null int64\n",
      "time           1085 non-null object\n",
      "water_level    1085 non-null float64\n",
      "quality        1085 non-null int64\n",
      "datatrans      1085 non-null int64\n",
      "comment        1085 non-null object\n",
      "unnamed: 7     3 non-null object\n",
      "dtypes: float64(1), int64(3), object(4)\n",
      "memory usage: 67.9+ KB\n"
     ]
    }
   ],
   "source": [
    "# inspect water levels info\n",
    "water_levels.info()"
   ]
  },
  {
   "cell_type": "markdown",
   "metadata": {},
   "source": [
    "# Merging water quality files\n",
    "\n"
   ]
  },
  {
   "cell_type": "code",
   "execution_count": 53,
   "metadata": {},
   "outputs": [
    {
     "data": {
      "text/plain": [
       "['/Users/badisa/TWC_Datasets/NGA/NGA_and_WMS_databases/A1H001 Upper Eye Dinokana.xlsx',\n",
       " '/Users/badisa/TWC_Datasets/NGA/NGA_and_WMS_databases/A1H002 Lower Eye Dinokana.xlsx',\n",
       " '/Users/badisa/TWC_Datasets/NGA/NGA_and_WMS_databases/A1H003 Upper Eye Tweefontein.xlsx',\n",
       " '/Users/badisa/TWC_Datasets/NGA/NGA_and_WMS_databases/A1H004 Lower Eye Tweefontein.xlsx',\n",
       " '/Users/badisa/TWC_Datasets/NGA/NGA_and_WMS_databases/A1H005 Skilpad Eye.xlsx']"
      ]
     },
     "execution_count": 53,
     "metadata": {},
     "output_type": "execute_result"
    }
   ],
   "source": [
    "\"\"\" use glob func to match all water quality files inside NGA dir\"\"\"\n",
    "#TODO: construct a proper file pattern matching for Water Quality files\n",
    "water_quality_filenames = sorted(glob.glob('/Users/badisa/TWC_Datasets/NGA/NGA_and_WMS_databases/*[eye]*.xlsx'))\n",
    "# look for filenames containing chars \"eye\", pick the first 5 (those for water quality)\n",
    "water_quality_files = water_quality_filenames[:5]\n",
    "water_quality_files"
   ]
  },
  {
   "cell_type": "code",
   "execution_count": 110,
   "metadata": {},
   "outputs": [
    {
     "data": {
      "text/html": [
       "<div>\n",
       "<style scoped>\n",
       "    .dataframe tbody tr th:only-of-type {\n",
       "        vertical-align: middle;\n",
       "    }\n",
       "\n",
       "    .dataframe tbody tr th {\n",
       "        vertical-align: top;\n",
       "    }\n",
       "\n",
       "    .dataframe thead th {\n",
       "        text-align: right;\n",
       "    }\n",
       "</style>\n",
       "<table border=\"1\" class=\"dataframe\">\n",
       "  <thead>\n",
       "    <tr style=\"text-align: right;\">\n",
       "      <th></th>\n",
       "      <th>date_time</th>\n",
       "      <th>mean_discharge_cumecs</th>\n",
       "      <th>w_quality</th>\n",
       "      <th>name</th>\n",
       "    </tr>\n",
       "  </thead>\n",
       "  <tbody>\n",
       "    <tr>\n",
       "      <td>0</td>\n",
       "      <td>1960-05-10 00:00:00</td>\n",
       "      <td>NaN</td>\n",
       "      <td>255</td>\n",
       "      <td>A1H001</td>\n",
       "    </tr>\n",
       "    <tr>\n",
       "      <td>1</td>\n",
       "      <td>1960-05-11 00:00:00</td>\n",
       "      <td>0.095</td>\n",
       "      <td>26</td>\n",
       "      <td>A1H001</td>\n",
       "    </tr>\n",
       "    <tr>\n",
       "      <td>2</td>\n",
       "      <td>1960-05-12 00:00:00</td>\n",
       "      <td>0.095</td>\n",
       "      <td>26</td>\n",
       "      <td>A1H001</td>\n",
       "    </tr>\n",
       "    <tr>\n",
       "      <td>3</td>\n",
       "      <td>1960-05-13 00:00:00</td>\n",
       "      <td>0.095</td>\n",
       "      <td>26</td>\n",
       "      <td>A1H001</td>\n",
       "    </tr>\n",
       "    <tr>\n",
       "      <td>4</td>\n",
       "      <td>1960-05-14 00:00:00</td>\n",
       "      <td>0.095</td>\n",
       "      <td>26</td>\n",
       "      <td>A1H001</td>\n",
       "    </tr>\n",
       "    <tr>\n",
       "      <td>...</td>\n",
       "      <td>...</td>\n",
       "      <td>...</td>\n",
       "      <td>...</td>\n",
       "      <td>...</td>\n",
       "    </tr>\n",
       "    <tr>\n",
       "      <td>68356</td>\n",
       "      <td>1999-03-11 00:00:00</td>\n",
       "      <td>0</td>\n",
       "      <td>1</td>\n",
       "      <td>A1H005</td>\n",
       "    </tr>\n",
       "    <tr>\n",
       "      <td>68357</td>\n",
       "      <td>1999-03-12 00:00:00</td>\n",
       "      <td>0</td>\n",
       "      <td>1</td>\n",
       "      <td>A1H005</td>\n",
       "    </tr>\n",
       "    <tr>\n",
       "      <td>68358</td>\n",
       "      <td>1999-03-13 00:00:00</td>\n",
       "      <td>0</td>\n",
       "      <td>1</td>\n",
       "      <td>A1H005</td>\n",
       "    </tr>\n",
       "    <tr>\n",
       "      <td>68359</td>\n",
       "      <td>1999-03-14 00:00:00</td>\n",
       "      <td>0</td>\n",
       "      <td>1</td>\n",
       "      <td>A1H005</td>\n",
       "    </tr>\n",
       "    <tr>\n",
       "      <td>68360</td>\n",
       "      <td>1999-03-15 00:00:00</td>\n",
       "      <td>0</td>\n",
       "      <td>1</td>\n",
       "      <td>A1H005</td>\n",
       "    </tr>\n",
       "  </tbody>\n",
       "</table>\n",
       "<p>68361 rows × 4 columns</p>\n",
       "</div>"
      ],
      "text/plain": [
       "                 date_time mean_discharge_cumecs w_quality    name\n",
       "0      1960-05-10 00:00:00                   NaN       255  A1H001\n",
       "1      1960-05-11 00:00:00                 0.095        26  A1H001\n",
       "2      1960-05-12 00:00:00                 0.095        26  A1H001\n",
       "3      1960-05-13 00:00:00                 0.095        26  A1H001\n",
       "4      1960-05-14 00:00:00                 0.095        26  A1H001\n",
       "...                    ...                   ...       ...     ...\n",
       "68356  1999-03-11 00:00:00                     0         1  A1H005\n",
       "68357  1999-03-12 00:00:00                     0         1  A1H005\n",
       "68358  1999-03-13 00:00:00                     0         1  A1H005\n",
       "68359  1999-03-14 00:00:00                     0         1  A1H005\n",
       "68360  1999-03-15 00:00:00                     0         1  A1H005\n",
       "\n",
       "[68361 rows x 4 columns]"
      ]
     },
     "execution_count": 110,
     "metadata": {},
     "output_type": "execute_result"
    }
   ],
   "source": [
    "# create water quality dataframe, wq_df means water quality dataframe\n",
    "# files have different columns, rename cols to the same col_names\n",
    "# merge all water quality files into one water quality file\n",
    "\n",
    "merged_water_quality = pd.DataFrame()\n",
    "for f in water_quality_files:\n",
    "    wq_df = pd.read_excel(f, header = None, parse_dates = True)\n",
    "    wq_df ['name'] = wq_df.iloc[0,1][0:6]\n",
    "    wq_df = wq_df.iloc[4:, :]\n",
    "    wq_df.columns = ['date_time','mean_discharge_cumecs', 'w_quality', 'name'] # cumecs ~ Cubic metres per second measure for water discharge\n",
    "    merged_water_quality = merged_water_quality.append(wq_df, ignore_index = True)\n",
    "    \n",
    "# see last 20 records in the dataframe   \n",
    "merged_water_quality.head(-20)\n"
   ]
  },
  {
   "cell_type": "code",
   "execution_count": 111,
   "metadata": {},
   "outputs": [],
   "source": [
    "# save merged WQ files to an xlsx file called mergedWaterQuality.xlsx\n",
    "merged_water_quality.to_excel(\"mergedWaterQuality.xlsx\", index = False)"
   ]
  },
  {
   "cell_type": "code",
   "execution_count": 113,
   "metadata": {},
   "outputs": [
    {
     "data": {
      "text/html": [
       "<div>\n",
       "<style scoped>\n",
       "    .dataframe tbody tr th:only-of-type {\n",
       "        vertical-align: middle;\n",
       "    }\n",
       "\n",
       "    .dataframe tbody tr th {\n",
       "        vertical-align: top;\n",
       "    }\n",
       "\n",
       "    .dataframe thead th {\n",
       "        text-align: right;\n",
       "    }\n",
       "</style>\n",
       "<table border=\"1\" class=\"dataframe\">\n",
       "  <thead>\n",
       "    <tr style=\"text-align: right;\">\n",
       "      <th></th>\n",
       "      <th>date_time</th>\n",
       "      <th>mean_discharge_cumecs</th>\n",
       "      <th>w_quality</th>\n",
       "      <th>name</th>\n",
       "    </tr>\n",
       "  </thead>\n",
       "  <tbody>\n",
       "    <tr>\n",
       "      <td>0</td>\n",
       "      <td>1960-05-10 00:00:00</td>\n",
       "      <td>NaN</td>\n",
       "      <td>255</td>\n",
       "      <td>A1H001</td>\n",
       "    </tr>\n",
       "    <tr>\n",
       "      <td>1</td>\n",
       "      <td>1960-05-11 00:00:00</td>\n",
       "      <td>0.095</td>\n",
       "      <td>26</td>\n",
       "      <td>A1H001</td>\n",
       "    </tr>\n",
       "    <tr>\n",
       "      <td>2</td>\n",
       "      <td>1960-05-12 00:00:00</td>\n",
       "      <td>0.095</td>\n",
       "      <td>26</td>\n",
       "      <td>A1H001</td>\n",
       "    </tr>\n",
       "    <tr>\n",
       "      <td>3</td>\n",
       "      <td>1960-05-13 00:00:00</td>\n",
       "      <td>0.095</td>\n",
       "      <td>26</td>\n",
       "      <td>A1H001</td>\n",
       "    </tr>\n",
       "    <tr>\n",
       "      <td>4</td>\n",
       "      <td>1960-05-14 00:00:00</td>\n",
       "      <td>0.095</td>\n",
       "      <td>26</td>\n",
       "      <td>A1H001</td>\n",
       "    </tr>\n",
       "    <tr>\n",
       "      <td>5</td>\n",
       "      <td>1960-05-15 00:00:00</td>\n",
       "      <td>0.095</td>\n",
       "      <td>26</td>\n",
       "      <td>A1H001</td>\n",
       "    </tr>\n",
       "    <tr>\n",
       "      <td>6</td>\n",
       "      <td>1960-05-16 00:00:00</td>\n",
       "      <td>0.095</td>\n",
       "      <td>26</td>\n",
       "      <td>A1H001</td>\n",
       "    </tr>\n",
       "    <tr>\n",
       "      <td>7</td>\n",
       "      <td>1960-05-17 00:00:00</td>\n",
       "      <td>0.095</td>\n",
       "      <td>26</td>\n",
       "      <td>A1H001</td>\n",
       "    </tr>\n",
       "    <tr>\n",
       "      <td>8</td>\n",
       "      <td>1960-05-18 00:00:00</td>\n",
       "      <td>0.095</td>\n",
       "      <td>26</td>\n",
       "      <td>A1H001</td>\n",
       "    </tr>\n",
       "    <tr>\n",
       "      <td>9</td>\n",
       "      <td>1960-05-19 00:00:00</td>\n",
       "      <td>0.095</td>\n",
       "      <td>26</td>\n",
       "      <td>A1H001</td>\n",
       "    </tr>\n",
       "  </tbody>\n",
       "</table>\n",
       "</div>"
      ],
      "text/plain": [
       "             date_time mean_discharge_cumecs w_quality    name\n",
       "0  1960-05-10 00:00:00                   NaN       255  A1H001\n",
       "1  1960-05-11 00:00:00                 0.095        26  A1H001\n",
       "2  1960-05-12 00:00:00                 0.095        26  A1H001\n",
       "3  1960-05-13 00:00:00                 0.095        26  A1H001\n",
       "4  1960-05-14 00:00:00                 0.095        26  A1H001\n",
       "5  1960-05-15 00:00:00                 0.095        26  A1H001\n",
       "6  1960-05-16 00:00:00                 0.095        26  A1H001\n",
       "7  1960-05-17 00:00:00                 0.095        26  A1H001\n",
       "8  1960-05-18 00:00:00                 0.095        26  A1H001\n",
       "9  1960-05-19 00:00:00                 0.095        26  A1H001"
      ]
     },
     "execution_count": 113,
     "metadata": {},
     "output_type": "execute_result"
    }
   ],
   "source": [
    "merged_water_quality.head(10)"
   ]
  },
  {
   "cell_type": "code",
   "execution_count": null,
   "metadata": {},
   "outputs": [],
   "source": [
    "#Map the quality code to description\n",
    "# i.e. change the 170 to reflect period of no record"
   ]
  },
  {
   "cell_type": "code",
   "execution_count": null,
   "metadata": {},
   "outputs": [],
   "source": []
  },
  {
   "cell_type": "code",
   "execution_count": null,
   "metadata": {},
   "outputs": [],
   "source": []
  }
 ],
 "metadata": {
  "kernelspec": {
   "display_name": "Python 3",
   "language": "python",
   "name": "python3"
  },
  "language_info": {
   "codemirror_mode": {
    "name": "ipython",
    "version": 3
   },
   "file_extension": ".py",
   "mimetype": "text/x-python",
   "name": "python",
   "nbconvert_exporter": "python",
   "pygments_lexer": "ipython3",
   "version": "3.7.4"
  }
 },
 "nbformat": 4,
 "nbformat_minor": 2
}

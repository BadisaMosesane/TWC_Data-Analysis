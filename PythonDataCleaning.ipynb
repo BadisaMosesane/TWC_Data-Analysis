{
 "cells": [
  {
   "cell_type": "code",
   "execution_count": 16,
   "metadata": {},
   "outputs": [],
   "source": [
    "#import libraries\n",
    "\n",
    "import pandas as pd\n",
    "import numpy as np\n",
    "import os\n",
    "import glob\n",
    "from os import listdir\n",
    "\n",
    "import matplotlib as plt\n",
    "import seaborn as sns\n",
    "\n",
    "# set matplotlib backend to inline to view visuals in Jupyter Notebook\n",
    "%matplotlib inline"
   ]
  },
  {
   "cell_type": "code",
   "execution_count": 3,
   "metadata": {},
   "outputs": [
    {
     "name": "stdout",
     "output_type": "stream",
     "text": [
      "/Users/badisa\n"
     ]
    }
   ],
   "source": [
    "#get the current working directory\n",
    "print(os.getcwd())"
   ]
  },
  {
   "cell_type": "code",
   "execution_count": 4,
   "metadata": {},
   "outputs": [],
   "source": [
    "#change the directory to where the files are\n",
    "\n",
    "os.chdir(\"/Users/badisa/TWC_Datasets/\")"
   ]
  },
  {
   "cell_type": "code",
   "execution_count": 59,
   "metadata": {},
   "outputs": [
    {
     "name": "stdout",
     "output_type": "stream",
     "text": [
      "All files and dirs in the TWC_Datasets directory: \n",
      " ['~$Ramotswa_all.xlsx', '.DS_Store', 'RIMS_boreholes_template.xlsx', 'Ramotswa_all.xlsx', '~$RIMS_boreholes_template.xlsx', 'NGA', 'RTBA_BOREHOLES']\n"
     ]
    }
   ],
   "source": [
    "def listDirs():\n",
    "    \"\"\" get the list of all files and directories in the current working directory, TWC_Datasets \"\"\"\n",
    "    print(\"All files and dirs in the TWC_Datasets directory: \\n\", os.listdir())\n",
    "listDirs()"
   ]
  },
  {
   "cell_type": "code",
   "execution_count": 44,
   "metadata": {},
   "outputs": [
    {
     "ename": "SyntaxError",
     "evalue": "invalid syntax (<ipython-input-44-9a5daf4b6ecc>, line 2)",
     "output_type": "error",
     "traceback": [
      "\u001b[0;36m  File \u001b[0;32m\"<ipython-input-44-9a5daf4b6ecc>\"\u001b[0;36m, line \u001b[0;32m2\u001b[0m\n\u001b[0;31m    ls -al | cd NGA/ | ls -al\u001b[0m\n\u001b[0m                  ^\u001b[0m\n\u001b[0;31mSyntaxError\u001b[0m\u001b[0;31m:\u001b[0m invalid syntax\n"
     ]
    }
   ],
   "source": [
    "# do a bash-like script or python regex for listing all files in the directories, NGA, RTBA etc \n",
    "ls -al | cd NGA/ | ls -al"
   ]
  },
  {
   "cell_type": "code",
   "execution_count": 62,
   "metadata": {},
   "outputs": [],
   "source": [
    "#define a func for listing csv files inside NGA dir\n",
    "\n",
    "def findCSVfiles(path_to_dir, suffix = \".csv\"):\n",
    "    \"\"\" func for finding csv files in the NGA directory \"\"\"\n",
    "    path = \"/Users/badisa/TWC_Datasets/NGA/NGA and WMS databases/\"\n",
    "    dir_list = os.listdir(path)\n",
    "    return [file for file in dir_list if file.endswith(suffix)]"
   ]
  },
  {
   "cell_type": "code",
   "execution_count": 63,
   "metadata": {},
   "outputs": [],
   "source": [
    "#check why this only returns one file !!!\n",
    "def findCSV2(path_to_dir, suffix = \".csv\"):\n",
    "    \"\"\" func for\"\"\"\n",
    "    path = \"/Users/badisa/TWC_Datasets/NGA/NGA and WMS databases/\"\n",
    "    dir_list = os.listdir(path)\n",
    "    for file in dir_list:\n",
    "        if file.endswith(suffix):\n",
    "            return file"
   ]
  },
  {
   "cell_type": "code",
   "execution_count": 61,
   "metadata": {},
   "outputs": [
    {
     "data": {
      "text/plain": [
       "'A3N0513_WaterLevels.csv'"
      ]
     },
     "execution_count": 61,
     "metadata": {},
     "output_type": "execute_result"
    }
   ],
   "source": [
    "findCSV2(\"/Users/badisa/TWC_Datasets/NGA/NGA and WMS databases/\")"
   ]
  },
  {
   "cell_type": "code",
   "execution_count": 64,
   "metadata": {},
   "outputs": [
    {
     "data": {
      "text/plain": [
       "['A3N0513_WaterLevels.csv',\n",
       " 'A3N0521_WaterLevels.csv',\n",
       " 'D4N2517_WaterLevels.csv',\n",
       " 'A3N0514_WaterLevels.csv',\n",
       " 'A1N0001_WaterLevels.csv',\n",
       " 'Ramotswa data 2 20190904.csv',\n",
       " 'A3N0015_WaterLevels.csv',\n",
       " 'D4N2516_WaterLevels.csv',\n",
       " 'D4N1658_WaterLevels.csv',\n",
       " 'Ramotswa data 1 20190904.csv',\n",
       " 'A1N0002_WaterLevels.csv',\n",
       " 'D4N1468_WaterLevels.csv',\n",
       " 'A3N0519_WaterLevels.csv',\n",
       " 'D4N2515_WaterLevels.csv',\n",
       " 'A3N0516_WaterLevels.csv',\n",
       " 'Ramotswa variables inventory 20190904.csv',\n",
       " 'D4N1666_WaterLevels.csv',\n",
       " 'A1N0003_WaterLevels.csv']"
      ]
     },
     "execution_count": 64,
     "metadata": {},
     "output_type": "execute_result"
    }
   ],
   "source": [
    "findCSVfiles(\"/Users/badisa/TWC_Datasets/NGA/NGA and WMS databases/\")"
   ]
  },
  {
   "cell_type": "code",
   "execution_count": 27,
   "metadata": {},
   "outputs": [],
   "source": [
    "#func for finding xlsx files in cwd \n",
    "\n",
    "def findXLSXfiles(path_to_dir, suffix = \".xlsx\"):\n",
    "    path = \"/Users/badisa/TWC_Datasets/NGA/NGA and WMS databases/\"\n",
    "    dir_list = os.listdir(path)\n",
    "    return [file for file in dir_list if file.endswith(suffix)]"
   ]
  },
  {
   "cell_type": "code",
   "execution_count": 28,
   "metadata": {},
   "outputs": [
    {
     "data": {
      "text/plain": [
       "['~$Quality Code Description.xlsx',\n",
       " 'Quality Code Description.xlsx',\n",
       " 'A1H001 Upper Eye Dinokana.xlsx',\n",
       " 'A1H002 Lower Eye Dinokana.xlsx',\n",
       " 'A1H003 Upper Eye Tweefontein.xlsx',\n",
       " 'A1H004 Lower Eye Tweefontein.xlsx',\n",
       " 'A1H005 Skilpad Eye.xlsx',\n",
       " '~$A1H001 Upper Eye Dinokana.xlsx',\n",
       " 'Ramotswa study area plus 10km.xlsx']"
      ]
     },
     "execution_count": 28,
     "metadata": {},
     "output_type": "execute_result"
    }
   ],
   "source": [
    "findXLSXfiles(\"/Users/badisa/TWC_Datasets/NGA/NGA and WMS databases/\")"
   ]
  },
  {
   "cell_type": "code",
   "execution_count": 137,
   "metadata": {},
   "outputs": [],
   "source": [
    "#func that calls all the other funcs\n",
    "def callfuncs():\n",
    "    return findCSVfiles(\"/Users/badisa/TWC_Datasets/NGA/NGA and WMS databases/\"), findXLSXfiles(\"/Users/badisa/TWC_Datasets/NGA/NGA and WMS databases/\")\n"
   ]
  },
  {
   "cell_type": "code",
   "execution_count": 138,
   "metadata": {},
   "outputs": [
    {
     "data": {
      "text/plain": [
       "(['A3N0513_WaterLevels.csv',\n",
       "  'A3N0521_WaterLevels.csv',\n",
       "  'D4N2517_WaterLevels.csv',\n",
       "  'A3N0514_WaterLevels.csv',\n",
       "  'A1N0001_WaterLevels.csv',\n",
       "  'Ramotswa data 2 20190904.csv',\n",
       "  'A3N0015_WaterLevels.csv',\n",
       "  'D4N2516_WaterLevels.csv',\n",
       "  'D4N1658_WaterLevels.csv',\n",
       "  'Ramotswa data 1 20190904.csv',\n",
       "  'A1N0002_WaterLevels.csv',\n",
       "  'D4N1468_WaterLevels.csv',\n",
       "  'A3N0519_WaterLevels.csv',\n",
       "  'D4N2515_WaterLevels.csv',\n",
       "  'A3N0516_WaterLevels.csv',\n",
       "  'Ramotswa variables inventory 20190904.csv',\n",
       "  'D4N1666_WaterLevels.csv',\n",
       "  'A1N0003_WaterLevels.csv'],\n",
       " ['~$Quality Code Description.xlsx',\n",
       "  'Quality Code Description.xlsx',\n",
       "  'A1H001 Upper Eye Dinokana.xlsx',\n",
       "  'A1H002 Lower Eye Dinokana.xlsx',\n",
       "  'A1H003 Upper Eye Tweefontein.xlsx',\n",
       "  'A1H004 Lower Eye Tweefontein.xlsx',\n",
       "  'A1H005 Skilpad Eye.xlsx',\n",
       "  '~$A1H001 Upper Eye Dinokana.xlsx',\n",
       "  'Ramotswa study area plus 10km.xlsx'])"
      ]
     },
     "execution_count": 138,
     "metadata": {},
     "output_type": "execute_result"
    }
   ],
   "source": [
    "callfuncs()\n"
   ]
  },
  {
   "cell_type": "code",
   "execution_count": null,
   "metadata": {},
   "outputs": [],
   "source": []
  },
  {
   "cell_type": "code",
   "execution_count": null,
   "metadata": {},
   "outputs": [],
   "source": []
  },
  {
   "cell_type": "code",
   "execution_count": null,
   "metadata": {},
   "outputs": [],
   "source": []
  },
  {
   "cell_type": "code",
   "execution_count": 79,
   "metadata": {},
   "outputs": [],
   "source": [
    "list1 = pd.DataFrame()"
   ]
  },
  {
   "cell_type": "code",
   "execution_count": 4,
   "metadata": {},
   "outputs": [],
   "source": [
    "filenames = ['A1H001 Upper Eye Dinokana.xlsx','A1H002 Lower Eye Dinokana.xlsx']"
   ]
  },
  {
   "cell_type": "code",
   "execution_count": 81,
   "metadata": {},
   "outputs": [],
   "source": [
    "for i in filenames:\n",
    "    df = pd.read_excel(i, header = None, parse_dates = True)\n",
    "    df ['name'] = df.iloc[0,1][0:6]\n",
    "    df = df.iloc[4:, :]\n",
    "    df.columns = ['date', 'mean_dis_cub', 'quality', 'name']\n",
    "    list1 = list1.append(df, ignore_index = True)"
   ]
  },
  {
   "cell_type": "code",
   "execution_count": 82,
   "metadata": {},
   "outputs": [
    {
     "data": {
      "text/html": [
       "<div>\n",
       "<style scoped>\n",
       "    .dataframe tbody tr th:only-of-type {\n",
       "        vertical-align: middle;\n",
       "    }\n",
       "\n",
       "    .dataframe tbody tr th {\n",
       "        vertical-align: top;\n",
       "    }\n",
       "\n",
       "    .dataframe thead th {\n",
       "        text-align: right;\n",
       "    }\n",
       "</style>\n",
       "<table border=\"1\" class=\"dataframe\">\n",
       "  <thead>\n",
       "    <tr style=\"text-align: right;\">\n",
       "      <th></th>\n",
       "      <th>date</th>\n",
       "      <th>mean_dis_cub</th>\n",
       "      <th>quality</th>\n",
       "      <th>name</th>\n",
       "    </tr>\n",
       "  </thead>\n",
       "  <tbody>\n",
       "    <tr>\n",
       "      <td>0</td>\n",
       "      <td>1960-05-10 00:00:00</td>\n",
       "      <td>NaN</td>\n",
       "      <td>255</td>\n",
       "      <td>A1H001</td>\n",
       "    </tr>\n",
       "    <tr>\n",
       "      <td>1</td>\n",
       "      <td>1960-05-11 00:00:00</td>\n",
       "      <td>0.095</td>\n",
       "      <td>26</td>\n",
       "      <td>A1H001</td>\n",
       "    </tr>\n",
       "    <tr>\n",
       "      <td>2</td>\n",
       "      <td>1960-05-12 00:00:00</td>\n",
       "      <td>0.095</td>\n",
       "      <td>26</td>\n",
       "      <td>A1H001</td>\n",
       "    </tr>\n",
       "    <tr>\n",
       "      <td>3</td>\n",
       "      <td>1960-05-13 00:00:00</td>\n",
       "      <td>0.095</td>\n",
       "      <td>26</td>\n",
       "      <td>A1H001</td>\n",
       "    </tr>\n",
       "    <tr>\n",
       "      <td>4</td>\n",
       "      <td>1960-05-14 00:00:00</td>\n",
       "      <td>0.095</td>\n",
       "      <td>26</td>\n",
       "      <td>A1H001</td>\n",
       "    </tr>\n",
       "  </tbody>\n",
       "</table>\n",
       "</div>"
      ],
      "text/plain": [
       "                  date mean_dis_cub quality    name\n",
       "0  1960-05-10 00:00:00          NaN     255  A1H001\n",
       "1  1960-05-11 00:00:00        0.095      26  A1H001\n",
       "2  1960-05-12 00:00:00        0.095      26  A1H001\n",
       "3  1960-05-13 00:00:00        0.095      26  A1H001\n",
       "4  1960-05-14 00:00:00        0.095      26  A1H001"
      ]
     },
     "execution_count": 82,
     "metadata": {},
     "output_type": "execute_result"
    }
   ],
   "source": [
    "list1.head()"
   ]
  },
  {
   "cell_type": "code",
   "execution_count": 11,
   "metadata": {},
   "outputs": [],
   "source": [
    "#Bd add\n",
    "fileList = pd.DataFrame()\n",
    "filenames = ['A1H001 Upper Eye Dinokana.xlsx','A1H002 Lower Eye Dinokana.xlsx']"
   ]
  },
  {
   "cell_type": "code",
   "execution_count": 12,
   "metadata": {},
   "outputs": [
    {
     "data": {
      "text/html": [
       "<div>\n",
       "<style scoped>\n",
       "    .dataframe tbody tr th:only-of-type {\n",
       "        vertical-align: middle;\n",
       "    }\n",
       "\n",
       "    .dataframe tbody tr th {\n",
       "        vertical-align: top;\n",
       "    }\n",
       "\n",
       "    .dataframe thead th {\n",
       "        text-align: right;\n",
       "    }\n",
       "</style>\n",
       "<table border=\"1\" class=\"dataframe\">\n",
       "  <thead>\n",
       "    <tr style=\"text-align: right;\">\n",
       "      <th></th>\n",
       "      <th>date</th>\n",
       "      <th>mean_dis_cub</th>\n",
       "      <th>wquality</th>\n",
       "      <th>name</th>\n",
       "    </tr>\n",
       "  </thead>\n",
       "  <tbody>\n",
       "    <tr>\n",
       "      <td>0</td>\n",
       "      <td>1960-05-10 00:00:00</td>\n",
       "      <td>NaN</td>\n",
       "      <td>255</td>\n",
       "      <td>A1H001</td>\n",
       "    </tr>\n",
       "    <tr>\n",
       "      <td>1</td>\n",
       "      <td>1960-05-11 00:00:00</td>\n",
       "      <td>0.095</td>\n",
       "      <td>26</td>\n",
       "      <td>A1H001</td>\n",
       "    </tr>\n",
       "    <tr>\n",
       "      <td>2</td>\n",
       "      <td>1960-05-12 00:00:00</td>\n",
       "      <td>0.095</td>\n",
       "      <td>26</td>\n",
       "      <td>A1H001</td>\n",
       "    </tr>\n",
       "    <tr>\n",
       "      <td>3</td>\n",
       "      <td>1960-05-13 00:00:00</td>\n",
       "      <td>0.095</td>\n",
       "      <td>26</td>\n",
       "      <td>A1H001</td>\n",
       "    </tr>\n",
       "    <tr>\n",
       "      <td>4</td>\n",
       "      <td>1960-05-14 00:00:00</td>\n",
       "      <td>0.095</td>\n",
       "      <td>26</td>\n",
       "      <td>A1H001</td>\n",
       "    </tr>\n",
       "  </tbody>\n",
       "</table>\n",
       "</div>"
      ],
      "text/plain": [
       "                  date mean_dis_cub wquality    name\n",
       "0  1960-05-10 00:00:00          NaN      255  A1H001\n",
       "1  1960-05-11 00:00:00        0.095       26  A1H001\n",
       "2  1960-05-12 00:00:00        0.095       26  A1H001\n",
       "3  1960-05-13 00:00:00        0.095       26  A1H001\n",
       "4  1960-05-14 00:00:00        0.095       26  A1H001"
      ]
     },
     "execution_count": 12,
     "metadata": {},
     "output_type": "execute_result"
    }
   ],
   "source": [
    "for f in filenames:\n",
    "    df = pd.read_excel(f, header = None, parse_dates = True)\n",
    "    df ['FileName'] = df.iloc[0,1][0:6]\n",
    "    df = df.iloc[4:, :]\n",
    "    df.columns = ['date', 'mean_dis_cub', 'wquality', 'name']\n",
    "    fileList = fileList.append(df, ignore_index = True)\n",
    "fileList.head()"
   ]
  },
  {
   "cell_type": "code",
   "execution_count": 20,
   "metadata": {},
   "outputs": [],
   "source": [
    "fileList.to_excel('newFileName.xlsx', index = False)"
   ]
  },
  {
   "cell_type": "code",
   "execution_count": null,
   "metadata": {},
   "outputs": [],
   "source": [
    "#Map the quality code to description\n",
    "# i.e. change the 170 to reflect period of no record"
   ]
  },
  {
   "cell_type": "code",
   "execution_count": null,
   "metadata": {},
   "outputs": [],
   "source": [
    "ls"
   ]
  },
  {
   "cell_type": "code",
   "execution_count": null,
   "metadata": {},
   "outputs": [],
   "source": []
  },
  {
   "cell_type": "code",
   "execution_count": 90,
   "metadata": {},
   "outputs": [],
   "source": [
    "list1.to_csv('test.csv', index = False)"
   ]
  },
  {
   "cell_type": "code",
   "execution_count": 87,
   "metadata": {},
   "outputs": [
    {
     "data": {
      "text/plain": [
       "0         True\n",
       "1         True\n",
       "2         True\n",
       "3         True\n",
       "4         True\n",
       "         ...  \n",
       "33961    False\n",
       "33962    False\n",
       "33963    False\n",
       "33964    False\n",
       "33965    False\n",
       "Name: name, Length: 33966, dtype: bool"
      ]
     },
     "execution_count": 87,
     "metadata": {},
     "output_type": "execute_result"
    }
   ],
   "source": [
    "list1 ['name'] != 'A1H002'"
   ]
  },
  {
   "cell_type": "code",
   "execution_count": 75,
   "metadata": {},
   "outputs": [
    {
     "data": {
      "text/plain": [
       "array(['A1H001', 'A1H002', nan], dtype=object)"
      ]
     },
     "execution_count": 75,
     "metadata": {},
     "output_type": "execute_result"
    }
   ],
   "source": [
    "list1['name'].unique()"
   ]
  },
  {
   "cell_type": "code",
   "execution_count": 54,
   "metadata": {},
   "outputs": [
    {
     "data": {
      "text/plain": [
       "array(['A1H001', 'A1H002'], dtype=object)"
      ]
     },
     "execution_count": 54,
     "metadata": {},
     "output_type": "execute_result"
    }
   ],
   "source": [
    "list1 ['name'].unique()"
   ]
  },
  {
   "cell_type": "code",
   "execution_count": 55,
   "metadata": {},
   "outputs": [
    {
     "data": {
      "text/plain": [
       "2"
      ]
     },
     "execution_count": 55,
     "metadata": {},
     "output_type": "execute_result"
    }
   ],
   "source": [
    "list1 ['name'].nunique()"
   ]
  },
  {
   "cell_type": "code",
   "execution_count": 56,
   "metadata": {},
   "outputs": [
    {
     "data": {
      "text/html": [
       "<div>\n",
       "<style scoped>\n",
       "    .dataframe tbody tr th:only-of-type {\n",
       "        vertical-align: middle;\n",
       "    }\n",
       "\n",
       "    .dataframe tbody tr th {\n",
       "        vertical-align: top;\n",
       "    }\n",
       "\n",
       "    .dataframe thead th {\n",
       "        text-align: right;\n",
       "    }\n",
       "</style>\n",
       "<table border=\"1\" class=\"dataframe\">\n",
       "  <thead>\n",
       "    <tr style=\"text-align: right;\">\n",
       "      <th></th>\n",
       "      <th>date</th>\n",
       "      <th>mean_dis_cub</th>\n",
       "      <th>quality</th>\n",
       "      <th>name</th>\n",
       "    </tr>\n",
       "  </thead>\n",
       "  <tbody>\n",
       "    <tr>\n",
       "      <td>63057</td>\n",
       "      <td>1981-12-07 00:00:00</td>\n",
       "      <td>0.086</td>\n",
       "      <td>1</td>\n",
       "      <td>A1H002</td>\n",
       "    </tr>\n",
       "    <tr>\n",
       "      <td>12956</td>\n",
       "      <td>1995-10-30 00:00:00</td>\n",
       "      <td>NaN</td>\n",
       "      <td>170</td>\n",
       "      <td>A1H001</td>\n",
       "    </tr>\n",
       "    <tr>\n",
       "      <td>33680</td>\n",
       "      <td>1994-07-01 00:00:00</td>\n",
       "      <td>0.016</td>\n",
       "      <td>1</td>\n",
       "      <td>A1H002</td>\n",
       "    </tr>\n",
       "    <tr>\n",
       "      <td>57286</td>\n",
       "      <td>1966-02-18 00:00:00</td>\n",
       "      <td>0.029</td>\n",
       "      <td>1</td>\n",
       "      <td>A1H002</td>\n",
       "    </tr>\n",
       "    <tr>\n",
       "      <td>8615</td>\n",
       "      <td>1983-12-11 00:00:00</td>\n",
       "      <td>0.149</td>\n",
       "      <td>1</td>\n",
       "      <td>A1H001</td>\n",
       "    </tr>\n",
       "    <tr>\n",
       "      <td>30332</td>\n",
       "      <td>1985-05-01 00:00:00</td>\n",
       "      <td>0.021</td>\n",
       "      <td>1</td>\n",
       "      <td>A1H002</td>\n",
       "    </tr>\n",
       "    <tr>\n",
       "      <td>28364</td>\n",
       "      <td>1979-12-11 00:00:00</td>\n",
       "      <td>0.1</td>\n",
       "      <td>1</td>\n",
       "      <td>A1H002</td>\n",
       "    </tr>\n",
       "    <tr>\n",
       "      <td>59869</td>\n",
       "      <td>1973-03-16 00:00:00</td>\n",
       "      <td>0.028</td>\n",
       "      <td>1</td>\n",
       "      <td>A1H002</td>\n",
       "    </tr>\n",
       "    <tr>\n",
       "      <td>7626</td>\n",
       "      <td>1981-03-27 00:00:00</td>\n",
       "      <td>0.19</td>\n",
       "      <td>1</td>\n",
       "      <td>A1H001</td>\n",
       "    </tr>\n",
       "    <tr>\n",
       "      <td>59367</td>\n",
       "      <td>1971-10-31 00:00:00</td>\n",
       "      <td>NaN</td>\n",
       "      <td>170</td>\n",
       "      <td>A1H002</td>\n",
       "    </tr>\n",
       "  </tbody>\n",
       "</table>\n",
       "</div>"
      ],
      "text/plain": [
       "                      date mean_dis_cub quality    name\n",
       "63057  1981-12-07 00:00:00        0.086       1  A1H002\n",
       "12956  1995-10-30 00:00:00          NaN     170  A1H001\n",
       "33680  1994-07-01 00:00:00        0.016       1  A1H002\n",
       "57286  1966-02-18 00:00:00        0.029       1  A1H002\n",
       "8615   1983-12-11 00:00:00        0.149       1  A1H001\n",
       "30332  1985-05-01 00:00:00        0.021       1  A1H002\n",
       "28364  1979-12-11 00:00:00          0.1       1  A1H002\n",
       "59869  1973-03-16 00:00:00        0.028       1  A1H002\n",
       "7626   1981-03-27 00:00:00         0.19       1  A1H001\n",
       "59367  1971-10-31 00:00:00          NaN     170  A1H002"
      ]
     },
     "execution_count": 56,
     "metadata": {},
     "output_type": "execute_result"
    }
   ],
   "source": [
    "list1.sample(10)"
   ]
  },
  {
   "cell_type": "code",
   "execution_count": 57,
   "metadata": {},
   "outputs": [
    {
     "data": {
      "text/html": [
       "<div>\n",
       "<style scoped>\n",
       "    .dataframe tbody tr th:only-of-type {\n",
       "        vertical-align: middle;\n",
       "    }\n",
       "\n",
       "    .dataframe tbody tr th {\n",
       "        vertical-align: top;\n",
       "    }\n",
       "\n",
       "    .dataframe thead th {\n",
       "        text-align: right;\n",
       "    }\n",
       "</style>\n",
       "<table border=\"1\" class=\"dataframe\">\n",
       "  <thead>\n",
       "    <tr style=\"text-align: right;\">\n",
       "      <th></th>\n",
       "      <th>date</th>\n",
       "      <th>mean_dis_cub</th>\n",
       "      <th>quality</th>\n",
       "      <th>name</th>\n",
       "    </tr>\n",
       "  </thead>\n",
       "  <tbody>\n",
       "    <tr>\n",
       "      <td>0</td>\n",
       "      <td>1960-05-10 00:00:00</td>\n",
       "      <td>NaN</td>\n",
       "      <td>255</td>\n",
       "      <td>A1H001</td>\n",
       "    </tr>\n",
       "    <tr>\n",
       "      <td>1</td>\n",
       "      <td>1960-05-11 00:00:00</td>\n",
       "      <td>0.095</td>\n",
       "      <td>26</td>\n",
       "      <td>A1H001</td>\n",
       "    </tr>\n",
       "    <tr>\n",
       "      <td>2</td>\n",
       "      <td>1960-05-12 00:00:00</td>\n",
       "      <td>0.095</td>\n",
       "      <td>26</td>\n",
       "      <td>A1H001</td>\n",
       "    </tr>\n",
       "    <tr>\n",
       "      <td>3</td>\n",
       "      <td>1960-05-13 00:00:00</td>\n",
       "      <td>0.095</td>\n",
       "      <td>26</td>\n",
       "      <td>A1H001</td>\n",
       "    </tr>\n",
       "    <tr>\n",
       "      <td>4</td>\n",
       "      <td>1960-05-14 00:00:00</td>\n",
       "      <td>0.095</td>\n",
       "      <td>26</td>\n",
       "      <td>A1H001</td>\n",
       "    </tr>\n",
       "  </tbody>\n",
       "</table>\n",
       "</div>"
      ],
      "text/plain": [
       "                  date mean_dis_cub quality    name\n",
       "0  1960-05-10 00:00:00          NaN     255  A1H001\n",
       "1  1960-05-11 00:00:00        0.095      26  A1H001\n",
       "2  1960-05-12 00:00:00        0.095      26  A1H001\n",
       "3  1960-05-13 00:00:00        0.095      26  A1H001\n",
       "4  1960-05-14 00:00:00        0.095      26  A1H001"
      ]
     },
     "execution_count": 57,
     "metadata": {},
     "output_type": "execute_result"
    }
   ],
   "source": [
    "list1.head()"
   ]
  },
  {
   "cell_type": "code",
   "execution_count": 58,
   "metadata": {},
   "outputs": [
    {
     "data": {
      "text/html": [
       "<div>\n",
       "<style scoped>\n",
       "    .dataframe tbody tr th:only-of-type {\n",
       "        vertical-align: middle;\n",
       "    }\n",
       "\n",
       "    .dataframe tbody tr th {\n",
       "        vertical-align: top;\n",
       "    }\n",
       "\n",
       "    .dataframe thead th {\n",
       "        text-align: right;\n",
       "    }\n",
       "</style>\n",
       "<table border=\"1\" class=\"dataframe\">\n",
       "  <thead>\n",
       "    <tr style=\"text-align: right;\">\n",
       "      <th></th>\n",
       "      <th>date</th>\n",
       "      <th>mean_dis_cub</th>\n",
       "      <th>quality</th>\n",
       "      <th>name</th>\n",
       "    </tr>\n",
       "  </thead>\n",
       "  <tbody>\n",
       "    <tr>\n",
       "      <td>67927</td>\n",
       "      <td>1995-04-08 00:00:00</td>\n",
       "      <td>0.016</td>\n",
       "      <td>1</td>\n",
       "      <td>A1H002</td>\n",
       "    </tr>\n",
       "    <tr>\n",
       "      <td>67928</td>\n",
       "      <td>1995-04-09 00:00:00</td>\n",
       "      <td>0.017</td>\n",
       "      <td>1</td>\n",
       "      <td>A1H002</td>\n",
       "    </tr>\n",
       "    <tr>\n",
       "      <td>67929</td>\n",
       "      <td>1995-04-10 00:00:00</td>\n",
       "      <td>0.017</td>\n",
       "      <td>1</td>\n",
       "      <td>A1H002</td>\n",
       "    </tr>\n",
       "    <tr>\n",
       "      <td>67930</td>\n",
       "      <td>1995-04-11 00:00:00</td>\n",
       "      <td>0.017</td>\n",
       "      <td>1</td>\n",
       "      <td>A1H002</td>\n",
       "    </tr>\n",
       "    <tr>\n",
       "      <td>67931</td>\n",
       "      <td>1995-04-12 00:00:00</td>\n",
       "      <td>0.017</td>\n",
       "      <td>1</td>\n",
       "      <td>A1H002</td>\n",
       "    </tr>\n",
       "  </tbody>\n",
       "</table>\n",
       "</div>"
      ],
      "text/plain": [
       "                      date mean_dis_cub quality    name\n",
       "67927  1995-04-08 00:00:00        0.016       1  A1H002\n",
       "67928  1995-04-09 00:00:00        0.017       1  A1H002\n",
       "67929  1995-04-10 00:00:00        0.017       1  A1H002\n",
       "67930  1995-04-11 00:00:00        0.017       1  A1H002\n",
       "67931  1995-04-12 00:00:00        0.017       1  A1H002"
      ]
     },
     "execution_count": 58,
     "metadata": {},
     "output_type": "execute_result"
    }
   ],
   "source": [
    "list1.tail()"
   ]
  },
  {
   "cell_type": "code",
   "execution_count": null,
   "metadata": {},
   "outputs": [],
   "source": []
  }
 ],
 "metadata": {
  "kernelspec": {
   "display_name": "Python 3",
   "language": "python",
   "name": "python3"
  },
  "language_info": {
   "codemirror_mode": {
    "name": "ipython",
    "version": 3
   },
   "file_extension": ".py",
   "mimetype": "text/x-python",
   "name": "python",
   "nbconvert_exporter": "python",
   "pygments_lexer": "ipython3",
   "version": "3.7.4"
  }
 },
 "nbformat": 4,
 "nbformat_minor": 2
}

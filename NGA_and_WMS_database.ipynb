{
 "cells": [
  {
   "cell_type": "markdown",
   "metadata": {},
   "source": [
    "# Cleaning NGA and WMS data"
   ]
  },
  {
   "cell_type": "markdown",
   "metadata": {},
   "source": [
    "The NGA and WMS was send by Ramusiya Fhedzisani, Scientific Manager: Groundwater Resources Assessment & Monitoring. Department of Water and Sanitation South Africa. The data needed to be transformed into a format suitable for upload to RIMS database."
   ]
  },
  {
   "cell_type": "markdown",
   "metadata": {},
   "source": [
    "## Loading in the libraries"
   ]
  },
  {
   "cell_type": "code",
   "execution_count": 1,
   "metadata": {},
   "outputs": [],
   "source": [
    "import pandas as pd\n",
    "import numpy as np\n",
    "import os \n",
    "import glob\n",
    "from os import listdir\n",
    "\n",
    "import matplotlib.pyplot as plt\n",
    "import seaborn as sns\n",
    "%matplotlib inline"
   ]
  },
  {
   "cell_type": "markdown",
   "metadata": {},
   "source": [
    "## Reading in the data"
   ]
  },
  {
   "cell_type": "markdown",
   "metadata": {},
   "source": [
    "File formats received: xls, xlsx, csv and text files. Structurally, most of files  followed the format of RIMS i.e. samples as rows and features as columns. All similarly formatted files were concatenated and then cleaned, while other files required additional formatting and then concatenated into a single file. "
   ]
  },
  {
   "cell_type": "code",
   "execution_count": 2,
   "metadata": {},
   "outputs": [
    {
     "name": "stdout",
     "output_type": "stream",
     "text": [
      "C:\\Users\\ebrahiem.a\\Desktop\\Manipulated NGA\\NGA and WMS databases\n"
     ]
    }
   ],
   "source": [
    "print (os.getcwd())\n",
    "os.chdir(\"C:\\\\Users\\\\ebrahiem.a\\\\Desktop\\\\Manipulated NGA\\\\NGA and WMS databases\")"
   ]
  },
  {
   "cell_type": "code",
   "execution_count": 3,
   "metadata": {},
   "outputs": [],
   "source": [
    "def find_csv_filenames(path_to_dir, suffix = \".csv\" ):\n",
    "    filenames = listdir(path_to_dir)\n",
    "    return [filename for filename in filenames if filename.endswith(suffix)]\n",
    "\n",
    "def find_xlsx_filenames(path_to_dir, suffix = \".xlsx\" ):\n",
    "    filenames = listdir(path_to_dir)\n",
    "    return [filename for filename in filenames if filename.endswith(suffix)]\n",
    "\n",
    "def find_xls_filenames(path_to_dir, suffix = \".xls\" ):\n",
    "    filenames = listdir(path_to_dir)\n",
    "    return [filename for filename in filenames if filename.endswith(suffix)]\n",
    "\n",
    "def find_txt_filenames(path_to_dir, suffix = \".TXT\" ):\n",
    "    filenames = listdir(path_to_dir)\n",
    "    return [filename for filename in filenames if filename.endswith(suffix)]"
   ]
  },
  {
   "cell_type": "code",
   "execution_count": 4,
   "metadata": {},
   "outputs": [
    {
     "name": "stdout",
     "output_type": "stream",
     "text": [
      "A1N0001_WaterLevels.csv\n",
      "A1N0002_WaterLevels.csv\n",
      "A1N0003_WaterLevels.csv\n",
      "A3N0015_WaterLevels.csv\n",
      "A3N0513_WaterLevels.csv\n",
      "A3N0514_WaterLevels.csv\n",
      "A3N0516_WaterLevels.csv\n",
      "A3N0519_WaterLevels.csv\n",
      "A3N0521_WaterLevels.csv\n",
      "D4N1468_WaterLevels.csv\n",
      "D4N1658_WaterLevels.csv\n",
      "D4N1666_WaterLevels.csv\n",
      "D4N2515_WaterLevels.csv\n",
      "D4N2516_WaterLevels.csv\n",
      "D4N2517_WaterLevels.csv\n",
      "Ramotswa data 1 20190904.csv\n",
      "Ramotswa data 2 20190904.csv\n",
      "Ramotswa variables inventory 20190904.csv\n",
      "SITE_INFORA10A.csv\n",
      "A1H001 Upper Eye Dinokana.xlsx\n",
      "A1H002 Lower Eye Dinokana.xlsx\n",
      "A1H003 Upper Eye Tweefontein.xlsx\n",
      "A1H004 Lower Eye Tweefontein.xlsx\n",
      "A1H005 Skilpad Eye.xlsx\n",
      "Quality Code Description.xlsx\n",
      "Ramotswa study area plus 10km.xlsx\n",
      "Quality codes.xls\n",
      "Ramotswa data 1 20190904_CSV.TXT\n",
      "Ramotswa data 2 20190904_CSV.TXT\n",
      "Ramotswa variables inventory 20190904_CSV.TXT\n"
     ]
    }
   ],
   "source": [
    "filenames1 = find_csv_filenames(\"C:\\\\Users\\\\ebrahiem.a\\\\Desktop\\\\Manipulated NGA\\\\NGA and WMS databases\")\n",
    "filenames2 = find_xlsx_filenames(\"C:\\\\Users\\\\ebrahiem.a\\\\Desktop\\\\Manipulated NGA\\\\NGA and WMS databases\")\n",
    "filenames3 = find_xls_filenames(\"C:\\\\Users\\\\ebrahiem.a\\\\Desktop\\\\Manipulated NGA\\\\NGA and WMS databases\")\n",
    "filenames4 = find_txt_filenames(\"C:\\\\Users\\\\ebrahiem.a\\\\Desktop\\\\Manipulated NGA\\\\NGA and WMS databases\")\n",
    "\n",
    "for name1 in filenames1:\n",
    "  print (name1)\n",
    "for name2 in filenames2:\n",
    "  print (name2)\n",
    "for name3 in filenames3:\n",
    "  print (name3)\n",
    "for name4 in filenames4:\n",
    "  print (name4)"
   ]
  },
  {
   "cell_type": "markdown",
   "metadata": {},
   "source": [
    "## Reading in water levels"
   ]
  },
  {
   "cell_type": "code",
   "execution_count": 5,
   "metadata": {},
   "outputs": [],
   "source": [
    "# list of csv files in folder \n",
    "\n",
    "files = ['A1N0001_WaterLevels.csv', 'A1N0002_WaterLevels.csv', 'A1N0003_WaterLevels.csv', 'A3N0015_WaterLevels.csv',\n",
    "         'A3N0513_WaterLevels.csv', 'A3N0514_WaterLevels.csv', 'A3N0516_WaterLevels.csv', 'A3N0519_WaterLevels.csv',\n",
    "         'A3N0521_WaterLevels.csv', 'D4N1468_WaterLevels.csv', 'D4N1658_WaterLevels.csv', 'D4N1666_WaterLevels.csv',\n",
    "         'D4N2515_WaterLevels.csv', 'D4N2516_WaterLevels.csv', 'D4N2517_WaterLevels.csv']"
   ]
  },
  {
   "cell_type": "code",
   "execution_count": 6,
   "metadata": {},
   "outputs": [
    {
     "data": {
      "text/html": [
       "<div>\n",
       "<style scoped>\n",
       "    .dataframe tbody tr th:only-of-type {\n",
       "        vertical-align: middle;\n",
       "    }\n",
       "\n",
       "    .dataframe tbody tr th {\n",
       "        vertical-align: top;\n",
       "    }\n",
       "\n",
       "    .dataframe thead th {\n",
       "        text-align: right;\n",
       "    }\n",
       "</style>\n",
       "<table border=\"1\" class=\"dataframe\">\n",
       "  <thead>\n",
       "    <tr style=\"text-align: right;\">\n",
       "      <th></th>\n",
       "      <th>station</th>\n",
       "      <th>date</th>\n",
       "      <th>time</th>\n",
       "      <th>water_level</th>\n",
       "      <th>quality</th>\n",
       "      <th>datatrans</th>\n",
       "      <th>comment</th>\n",
       "      <th>unnamed: 7</th>\n",
       "    </tr>\n",
       "  </thead>\n",
       "  <tbody>\n",
       "    <tr>\n",
       "      <th>0</th>\n",
       "      <td>A1N0001</td>\n",
       "      <td>19770121</td>\n",
       "      <td>00:00</td>\n",
       "      <td>-27.39</td>\n",
       "      <td>26</td>\n",
       "      <td>7</td>\n",
       "      <td>...</td>\n",
       "      <td>NaN</td>\n",
       "    </tr>\n",
       "    <tr>\n",
       "      <th>1</th>\n",
       "      <td>A1N0001</td>\n",
       "      <td>19770315</td>\n",
       "      <td>12:00</td>\n",
       "      <td>-27.58</td>\n",
       "      <td>26</td>\n",
       "      <td>7</td>\n",
       "      <td>...</td>\n",
       "      <td>NaN</td>\n",
       "    </tr>\n",
       "  </tbody>\n",
       "</table>\n",
       "</div>"
      ],
      "text/plain": [
       "    station      date   time  water_level  quality  datatrans  \\\n",
       "0  A1N0001   19770121  00:00       -27.39       26          7   \n",
       "1  A1N0001   19770315  12:00       -27.58       26          7   \n",
       "\n",
       "                                             comment unnamed: 7  \n",
       "0                                                ...        NaN  \n",
       "1                                                ...        NaN  "
      ]
     },
     "execution_count": 6,
     "metadata": {},
     "output_type": "execute_result"
    }
   ],
   "source": [
    "# create emtpy dataframe for water levels\n",
    "\n",
    "water_levels = pd.DataFrame()\n",
    "\n",
    "# append each csv file to water level dataframe\n",
    "\n",
    "for f in files:\n",
    "    df = pd.read_csv(f, parse_dates=True, date_parser = True)\n",
    "    #df = pd.read_csv(f, header = 0)\n",
    "    df.rename(columns = lambda x: x.strip().lower(), inplace = True)\n",
    "    water_levels = water_levels.append(df, ignore_index = True, sort = False)\n",
    "    #water_levels = water_levels.drop(water_levels.index[[0]])\n",
    "\n",
    "water_levels.head(2)"
   ]
  },
  {
   "cell_type": "markdown",
   "metadata": {},
   "source": [
    "### Assessing water levels"
   ]
  },
  {
   "cell_type": "code",
   "execution_count": 7,
   "metadata": {},
   "outputs": [
    {
     "name": "stdout",
     "output_type": "stream",
     "text": [
      "<class 'pandas.core.frame.DataFrame'>\n",
      "RangeIndex: 1085 entries, 0 to 1084\n",
      "Data columns (total 8 columns):\n",
      "station        1085 non-null object\n",
      "date           1085 non-null int64\n",
      "time           1085 non-null object\n",
      "water_level    1085 non-null float64\n",
      "quality        1085 non-null int64\n",
      "datatrans      1085 non-null int64\n",
      "comment        1085 non-null object\n",
      "unnamed: 7     3 non-null object\n",
      "dtypes: float64(1), int64(3), object(4)\n",
      "memory usage: 67.9+ KB\n"
     ]
    }
   ],
   "source": [
    "water_levels.info()"
   ]
  },
  {
   "cell_type": "code",
   "execution_count": 8,
   "metadata": {},
   "outputs": [
    {
     "name": "stdout",
     "output_type": "stream",
     "text": [
      "\n",
      " List of unique stations: \n",
      " ['A1N0001 ' 'A1N0002 ' 'A1N0003 ' 'A3N0015 ' 'A3N0513 ' 'A3N0514 '\n",
      " 'A3N0516 ' 'A3N0519 ' 'A3N0521 ' 'D4N1468 ' 'D4N1658 ' 'D4N1666 '\n",
      " 'D4N2515 ' 'D4N2516 ' 'D4N2517 ']\n",
      "\n",
      " Number of unique stations: \n",
      " 15\n"
     ]
    }
   ],
   "source": [
    "# List unique stations and number of unique stations\n",
    "print ('\\n List of unique stations: \\n {}'.format(water_levels ['station'].unique()))\n",
    "print ('\\n Number of unique stations: \\n {}'.format(water_levels ['station'].nunique()))"
   ]
  },
  {
   "cell_type": "code",
   "execution_count": 9,
   "metadata": {},
   "outputs": [
    {
     "data": {
      "text/plain": [
       "A3N0015     293\n",
       "A1N0001     275\n",
       "A1N0003     217\n",
       "D4N1468      92\n",
       "A1N0002      45\n",
       "D4N2517      34\n",
       "D4N2516      26\n",
       "A3N0516      24\n",
       "A3N0514      19\n",
       "D4N2515      18\n",
       "A3N0513      14\n",
       "A3N0521      12\n",
       "D4N1658       8\n",
       "A3N0519       6\n",
       "D4N1666       2\n",
       "Name: station, dtype: int64"
      ]
     },
     "execution_count": 9,
     "metadata": {},
     "output_type": "execute_result"
    }
   ],
   "source": [
    "# data entries per station or bh_id\n",
    "water_levels.station.value_counts()"
   ]
  },
  {
   "cell_type": "code",
   "execution_count": 10,
   "metadata": {},
   "outputs": [
    {
     "data": {
      "text/plain": [
       "array(['                                                                                                    ',\n",
       "       '03/03/2011- dry', '09/06/2010- filled with bees',\n",
       "       '01/12/2016 Dry                                                                                      ',\n",
       "       'Dry from 25/11/2010 till 10/2013.                                                                   ',\n",
       "       'DRY                                                                                                 ',\n",
       "       'dry                                                                                                 ',\n",
       "       'dry',\n",
       "       '25/11/2010 Bees                                                                                     ',\n",
       "       '26/06/2014 Bees                                                                                     ',\n",
       "       '12/11/2015 No entry                                                                                 ',\n",
       "       'Created by HYCREATE. DEFAULT 08:16_29/07/2005 from V:\\\\OPLAAI\\\\DOCUMENT10.TXT                         ',\n",
       "       'Created by HYCREATE. DEFAULT 08:13_29/07/2005 from V:\\\\OPLAAI\\\\DOCUMENT3.TXT                          ',\n",
       "       '04/03/2015 No access                                                                                ',\n",
       "       '30/11/2016 Inaccessible                                                                             ',\n",
       "       '06/09/2012 No entry                                                                                 '],\n",
       "      dtype=object)"
      ]
     },
     "execution_count": 10,
     "metadata": {},
     "output_type": "execute_result"
    }
   ],
   "source": [
    "# distinct values of comment column\n",
    "water_levels ['comment'].unique()"
   ]
  },
  {
   "cell_type": "code",
   "execution_count": 11,
   "metadata": {},
   "outputs": [
    {
     "data": {
      "text/plain": [
       "array([nan,\n",
       "       'collapsed at about 4m.                                                              ',\n",
       "       ' assumed dry. 06/08/2011 till 26/06/2014 - no acces                    ',\n",
       "       ' collapsed                                                                                      '],\n",
       "      dtype=object)"
      ]
     },
     "execution_count": 11,
     "metadata": {},
     "output_type": "execute_result"
    }
   ],
   "source": [
    "# distinct values of unnamed: 7 column\n",
    "water_levels ['unnamed: 7'].unique()"
   ]
  },
  {
   "cell_type": "code",
   "execution_count": 12,
   "metadata": {},
   "outputs": [
    {
     "data": {
      "text/plain": [
       "array([7], dtype=int64)"
      ]
     },
     "execution_count": 12,
     "metadata": {},
     "output_type": "execute_result"
    }
   ],
   "source": [
    "# distinct values of datatrans column\n",
    "water_levels ['datatrans'].unique()"
   ]
  },
  {
   "cell_type": "code",
   "execution_count": 13,
   "metadata": {},
   "outputs": [
    {
     "data": {
      "text/plain": [
       "array([26, 93,  1], dtype=int64)"
      ]
     },
     "execution_count": 13,
     "metadata": {},
     "output_type": "execute_result"
    }
   ],
   "source": [
    "# distinct values of quality columns\n",
    "water_levels ['quality'].unique()"
   ]
  },
  {
   "cell_type": "code",
   "execution_count": 14,
   "metadata": {},
   "outputs": [
    {
     "name": "stdout",
     "output_type": "stream",
     "text": [
      "[19770121 19770315 19770414 19770525 19770626]\n"
     ]
    }
   ],
   "source": [
    "# formatting of the date column\n",
    "print (water_levels ['date'].unique()[:5])"
   ]
  },
  {
   "cell_type": "markdown",
   "metadata": {},
   "source": [
    "### Cleaning water levels"
   ]
  },
  {
   "cell_type": "markdown",
   "metadata": {},
   "source": [
    "#### Issues listed with water levels "
   ]
  },
  {
   "cell_type": "markdown",
   "metadata": {},
   "source": [
    "- strip spaces from station names using the strip function.\n",
    "- Quality and datatrans are codes, describing the condition. Should we add the code description? The code files are listed in 'Quality Code Description.xlsx' and 'Quality codes.xls'. Use map function to convert code number to description of code. \n",
    "- Comments and unnamed: 7, are comments and can be merged. Concatenate columns by adding (+) string values. Drop unnamed: 7 column\n",
    "- Date column not in correct format, current date entry e.g. 19780529. Use to datatime module and convert date to yyy/mm/dd.\n",
    "- change water level to swl as per RIMS\n",
    "- water levels are given with a negative, mbgl? RIMS swl meters below surface? \n",
    "- Get latitudes and longitudes\n",
    "- Provide source and contact details?\n",
    "- Rename columns according to rims. For example Station name to borehole id (bh_id) as in RIMS\n",
    "- Drop unecessary columns: water_level, datatrans, quality"
   ]
  },
  {
   "cell_type": "code",
   "execution_count": 15,
   "metadata": {},
   "outputs": [],
   "source": [
    "water_levels_cleaning = water_levels.copy()"
   ]
  },
  {
   "cell_type": "code",
   "execution_count": 16,
   "metadata": {},
   "outputs": [
    {
     "name": "stdout",
     "output_type": "stream",
     "text": [
      "\n",
      " Stations names before being stripped: \n",
      " ['A1N0001 ' 'A1N0002 ' 'A1N0003 ' 'A3N0015 ' 'A3N0513 ' 'A3N0514 '\n",
      " 'A3N0516 ' 'A3N0519 ' 'A3N0521 ' 'D4N1468 ' 'D4N1658 ' 'D4N1666 '\n",
      " 'D4N2515 ' 'D4N2516 ' 'D4N2517 ']\n",
      "\n",
      " Stations names after being stripped: \n",
      " ['A1N0001' 'A1N0002' 'A1N0003' 'A3N0015' 'A3N0513' 'A3N0514' 'A3N0516'\n",
      " 'A3N0519' 'A3N0521' 'D4N1468' 'D4N1658' 'D4N1666' 'D4N2515' 'D4N2516'\n",
      " 'D4N2517']\n"
     ]
    }
   ],
   "source": [
    "# Removed spaces at the end of station names\n",
    "print ('\\n Stations names before being stripped: \\n {}'.format(water_levels ['station'].unique()))\n",
    "water_levels_cleaning ['station'] = water_levels_cleaning ['station'].str.replace(' ', '')\n",
    "print ('\\n Stations names after being stripped: \\n {}'.format(water_levels_cleaning ['station'].unique()))"
   ]
  },
  {
   "cell_type": "code",
   "execution_count": 17,
   "metadata": {},
   "outputs": [
    {
     "name": "stdout",
     "output_type": "stream",
     "text": [
      "\n",
      " quality column before: \n",
      " [26 93  1]\n",
      "\n",
      " quality column after: \n",
      " ['Gauge Plate Readings / dip level readings' 'Dry borehole'\n",
      " 'Good continuous data']\n"
     ]
    }
   ],
   "source": [
    "# convert quality code to descriptive quality code\n",
    "print('\\n quality column before: \\n {}'.format(water_levels_cleaning ['quality'].unique()))\n",
    "water_levels_cleaning ['quality'] = water_levels_cleaning ['quality'].map({26: 'Gauge Plate Readings / dip level readings',\n",
    "                                        93: 'Dry borehole', 1: 'Good continuous data'})\n",
    "print('\\n quality column after: \\n {}'.format(water_levels_cleaning ['quality'].unique()))"
   ]
  },
  {
   "cell_type": "code",
   "execution_count": 18,
   "metadata": {},
   "outputs": [
    {
     "name": "stdout",
     "output_type": "stream",
     "text": [
      "\n",
      " datatrans column before: \n",
      " [7]\n",
      "\n",
      " datatrans column after: \n",
      " ['Point data, no interpolaton - Monthly readings, hand measurements']\n"
     ]
    }
   ],
   "source": [
    "# convert datatrans code to descriptive datatrans code\n",
    "print('\\n datatrans column before: \\n {}'.format(water_levels_cleaning ['datatrans'].unique()))\n",
    "water_levels_cleaning ['datatrans'] = water_levels_cleaning ['datatrans'].map({7: 'Point data, no interpolaton - Monthly readings, hand measurements'})\n",
    "print('\\n datatrans column after: \\n {}'.format(water_levels_cleaning ['datatrans'].unique()))"
   ]
  },
  {
   "cell_type": "code",
   "execution_count": 19,
   "metadata": {},
   "outputs": [
    {
     "data": {
      "text/plain": [
       "array(['                                                                                                     ',\n",
       "       '03/03/2011- drycollapsed at about 4m.                                                              ',\n",
       "       '09/06/2010- filled with bees assumed dry. 06/08/2011 till 26/06/2014 - no acces                    ',\n",
       "       '01/12/2016 Dry                                                                                       ',\n",
       "       'Dry from 25/11/2010 till 10/2013.                                                                    ',\n",
       "       'DRY                                                                                                  ',\n",
       "       'dry                                                                                                  ',\n",
       "       'dry collapsed                                                                                      ',\n",
       "       '25/11/2010 Bees                                                                                      ',\n",
       "       '26/06/2014 Bees                                                                                      ',\n",
       "       '12/11/2015 No entry                                                                                  ',\n",
       "       'Created by HYCREATE. DEFAULT 08:16_29/07/2005 from V:\\\\OPLAAI\\\\DOCUMENT10.TXT                          ',\n",
       "       'Created by HYCREATE. DEFAULT 08:13_29/07/2005 from V:\\\\OPLAAI\\\\DOCUMENT3.TXT                           ',\n",
       "       '04/03/2015 No access                                                                                 ',\n",
       "       '30/11/2016 Inaccessible                                                                              ',\n",
       "       '06/09/2012 No entry                                                                                  '],\n",
       "      dtype=object)"
      ]
     },
     "execution_count": 19,
     "metadata": {},
     "output_type": "execute_result"
    }
   ],
   "source": [
    "# concatenate comment and unnamed: 7 columns\n",
    "water_levels_cleaning = water_levels_cleaning.replace(np.nan, ' ')\n",
    "water_levels_cleaning ['comment'] =  water_levels_cleaning ['comment'] +  water_levels_cleaning ['unnamed: 7']\n",
    "water_levels_cleaning ['comment'].unique()"
   ]
  },
  {
   "cell_type": "code",
   "execution_count": 20,
   "metadata": {},
   "outputs": [
    {
     "data": {
      "text/html": [
       "<div>\n",
       "<style scoped>\n",
       "    .dataframe tbody tr th:only-of-type {\n",
       "        vertical-align: middle;\n",
       "    }\n",
       "\n",
       "    .dataframe tbody tr th {\n",
       "        vertical-align: top;\n",
       "    }\n",
       "\n",
       "    .dataframe thead th {\n",
       "        text-align: right;\n",
       "    }\n",
       "</style>\n",
       "<table border=\"1\" class=\"dataframe\">\n",
       "  <thead>\n",
       "    <tr style=\"text-align: right;\">\n",
       "      <th></th>\n",
       "      <th>station</th>\n",
       "      <th>date</th>\n",
       "      <th>time</th>\n",
       "      <th>water_level</th>\n",
       "      <th>quality</th>\n",
       "      <th>datatrans</th>\n",
       "      <th>comment</th>\n",
       "      <th>unnamed: 7</th>\n",
       "      <th>year</th>\n",
       "      <th>month</th>\n",
       "      <th>day</th>\n",
       "      <th>new_date</th>\n",
       "    </tr>\n",
       "  </thead>\n",
       "  <tbody>\n",
       "    <tr>\n",
       "      <th>0</th>\n",
       "      <td>A1N0001</td>\n",
       "      <td>19770121</td>\n",
       "      <td>00:00</td>\n",
       "      <td>-27.39</td>\n",
       "      <td>Gauge Plate Readings / dip level readings</td>\n",
       "      <td>Point data, no interpolaton - Monthly readings...</td>\n",
       "      <td>...</td>\n",
       "      <td></td>\n",
       "      <td>1977</td>\n",
       "      <td>01</td>\n",
       "      <td>21</td>\n",
       "      <td>1977-01-21</td>\n",
       "    </tr>\n",
       "  </tbody>\n",
       "</table>\n",
       "</div>"
      ],
      "text/plain": [
       "   station      date   time  water_level  \\\n",
       "0  A1N0001  19770121  00:00       -27.39   \n",
       "\n",
       "                                     quality  \\\n",
       "0  Gauge Plate Readings / dip level readings   \n",
       "\n",
       "                                           datatrans  \\\n",
       "0  Point data, no interpolaton - Monthly readings...   \n",
       "\n",
       "                                             comment unnamed: 7  year month  \\\n",
       "0                                                ...             1977    01   \n",
       "\n",
       "  day    new_date  \n",
       "0  21  1977-01-21  "
      ]
     },
     "execution_count": 20,
     "metadata": {},
     "output_type": "execute_result"
    }
   ],
   "source": [
    "# make string version of original column, call it 'col'\n",
    "water_levels_cleaning['date'] = water_levels['date'].astype(str)\n",
    "\n",
    "water_levels_cleaning['year'] = water_levels_cleaning['date'].str[0:4]\n",
    "water_levels_cleaning['month'] = water_levels_cleaning['date'].str[4:6]\n",
    "water_levels_cleaning['day'] = water_levels_cleaning['date'].str[6:]\n",
    "\n",
    "water_levels_cleaning ['new_date'] =  water_levels_cleaning ['year'] + '-' + water_levels_cleaning ['month'] + '-' + water_levels_cleaning ['day'] \n",
    "\n",
    "water_levels_cleaning.head(1)"
   ]
  },
  {
   "cell_type": "code",
   "execution_count": 21,
   "metadata": {},
   "outputs": [],
   "source": [
    "# Insert file name\n",
    "water_levels_cleaning.loc[water_levels_cleaning['station'].str.contains('A1N0001'), 'file_name'] = 'A1N0001_WaterLevels.csv'\n",
    "water_levels_cleaning.loc[water_levels_cleaning['station'].str.contains('A1N0002'), 'file_name'] = 'A1N0002_WaterLevels.csv'\n",
    "water_levels_cleaning.loc[water_levels_cleaning['station'].str.contains('A1N0003'), 'file_name'] = 'A1N0003_WaterLevels.csv'\n",
    "water_levels_cleaning.loc[water_levels_cleaning['station'].str.contains('A3N0015'), 'file_name'] = 'A3N0015_WaterLevels.csv'\n",
    "water_levels_cleaning.loc[water_levels_cleaning['station'].str.contains('A3N0513'), 'file_name'] = 'A3N0513_WaterLevels.csv'\n",
    "water_levels_cleaning.loc[water_levels_cleaning['station'].str.contains('A3N0514'), 'file_name'] = 'A3N0514_WaterLevels.csv'\n",
    "water_levels_cleaning.loc[water_levels_cleaning['station'].str.contains('A3N0516'), 'file_name'] = 'A3N0516_WaterLevels.csv'\n",
    "water_levels_cleaning.loc[water_levels_cleaning['station'].str.contains('A3N0519'), 'file_name'] = 'A3N0519_WaterLevels.csv'\n",
    "water_levels_cleaning.loc[water_levels_cleaning['station'].str.contains('A3N0521'), 'file_name'] = 'A3N0521_WaterLevels.csv'\n",
    "water_levels_cleaning.loc[water_levels_cleaning['station'].str.contains('D4N1468'), 'file_name'] = 'D4N1468_WaterLevels.csv'\n",
    "water_levels_cleaning.loc[water_levels_cleaning['station'].str.contains('D4N1658'), 'file_name'] = 'D4N1658_WaterLevels.csv'\n",
    "water_levels_cleaning.loc[water_levels_cleaning['station'].str.contains('D4N1666'), 'file_name'] = 'D4N1666_WaterLevels.csv'\n",
    "water_levels_cleaning.loc[water_levels_cleaning['station'].str.contains('D4N2515'), 'file_name'] = 'D4N2515_WaterLevels.csv'\n",
    "water_levels_cleaning.loc[water_levels_cleaning['station'].str.contains('D4N2516'), 'file_name'] = 'D4N2516_WaterLevels.csv'\n",
    "water_levels_cleaning.loc[water_levels_cleaning['station'].str.contains('D4N2517'), 'file_name'] = 'D4N2517_WaterLevels.csv'"
   ]
  },
  {
   "cell_type": "code",
   "execution_count": 22,
   "metadata": {},
   "outputs": [],
   "source": [
    "# change negative water level measurements to absolute water level\n",
    "water_levels_cleaning['Water_level'] = water_levels_cleaning['water_level'].abs()"
   ]
  },
  {
   "cell_type": "code",
   "execution_count": 23,
   "metadata": {},
   "outputs": [],
   "source": [
    "# Append to RIMS structure\n",
    "\n",
    "water_levels_RIMS = pd.DataFrame({'bh_id':[],'country':[],'latitude':[],'longitude':[], 'swl_m':[], 'swl_date':[],\n",
    "                                  'comment_waterlevel':[], 'dataowner' :[], 'contact_person': [],'email': [],\n",
    "                                  'file_name': []})\n",
    "\n",
    "water_levels_RIMS ['bh_id'] = water_levels_cleaning ['station']\n",
    "water_levels_RIMS ['country'] = 'South Africa'\n",
    "water_levels_RIMS ['swl_m'] = water_levels_cleaning ['Water_level']\n",
    "water_levels_RIMS ['swl_date'] = water_levels_cleaning ['new_date']\n",
    "water_levels_RIMS ['comment_waterlevel'] = water_levels_cleaning ['comment']\n",
    "water_levels_RIMS ['file_name'] = water_levels_cleaning ['file_name']\n",
    "water_levels_RIMS ['dataowner'] = \"Department of Water and Sanitation South Africa\"\n",
    "water_levels_RIMS ['contact_person'] = \"Ramusiya, Fhedzisani\"\n",
    "water_levels_RIMS ['email'] = \"RamusiyaF@dws.gov.za\" "
   ]
  },
  {
   "cell_type": "code",
   "execution_count": 24,
   "metadata": {},
   "outputs": [
    {
     "data": {
      "text/html": [
       "<div>\n",
       "<style scoped>\n",
       "    .dataframe tbody tr th:only-of-type {\n",
       "        vertical-align: middle;\n",
       "    }\n",
       "\n",
       "    .dataframe tbody tr th {\n",
       "        vertical-align: top;\n",
       "    }\n",
       "\n",
       "    .dataframe thead th {\n",
       "        text-align: right;\n",
       "    }\n",
       "</style>\n",
       "<table border=\"1\" class=\"dataframe\">\n",
       "  <thead>\n",
       "    <tr style=\"text-align: right;\">\n",
       "      <th></th>\n",
       "      <th>bh_id</th>\n",
       "      <th>latitude</th>\n",
       "      <th>longitude</th>\n",
       "    </tr>\n",
       "  </thead>\n",
       "  <tbody>\n",
       "    <tr>\n",
       "      <th>0</th>\n",
       "      <td>A1N0001</td>\n",
       "      <td>-25.549722</td>\n",
       "      <td>25.927500</td>\n",
       "    </tr>\n",
       "    <tr>\n",
       "      <th>1</th>\n",
       "      <td>A1N0002</td>\n",
       "      <td>-25.550278</td>\n",
       "      <td>25.915278</td>\n",
       "    </tr>\n",
       "    <tr>\n",
       "      <th>2</th>\n",
       "      <td>A1N0003</td>\n",
       "      <td>-25.520583</td>\n",
       "      <td>25.919634</td>\n",
       "    </tr>\n",
       "    <tr>\n",
       "      <th>3</th>\n",
       "      <td>A3H012</td>\n",
       "      <td>-25.552222</td>\n",
       "      <td>25.997167</td>\n",
       "    </tr>\n",
       "    <tr>\n",
       "      <th>4</th>\n",
       "      <td>A3N0015</td>\n",
       "      <td>-25.614167</td>\n",
       "      <td>25.925556</td>\n",
       "    </tr>\n",
       "  </tbody>\n",
       "</table>\n",
       "</div>"
      ],
      "text/plain": [
       "     bh_id   latitude  longitude\n",
       "0  A1N0001 -25.549722  25.927500\n",
       "1  A1N0002 -25.550278  25.915278\n",
       "2  A1N0003 -25.520583  25.919634\n",
       "3   A3H012 -25.552222  25.997167\n",
       "4  A3N0015 -25.614167  25.925556"
      ]
     },
     "execution_count": 24,
     "metadata": {},
     "output_type": "execute_result"
    }
   ],
   "source": [
    "# Get coordinates of stations\n",
    "fields = ['#STATION', 'LATITUDE', 'LONGITUDE']\n",
    "coordinates = pd.read_csv ('SITE_INFORA10A.csv', usecols = fields)\n",
    "coordinates.rename(columns = {'#STATION':'bh_id', 'LATITUDE':'latitude', 'LONGITUDE':'longitude'}, inplace = True)\n",
    "coordinates.drop_duplicates(inplace = True)\n",
    "coordinates.head()"
   ]
  },
  {
   "cell_type": "code",
   "execution_count": 25,
   "metadata": {},
   "outputs": [
    {
     "name": "stdout",
     "output_type": "stream",
     "text": [
      "\n",
      " Unique bh_id: \n",
      " ['A1N0001' 'A1N0002' 'A1N0003' 'A3N0015' 'A3N0513' 'A3N0514' 'A3N0516'\n",
      " 'A3N0519' 'A3N0521' 'D4N1468' 'D4N1658' 'D4N1666' 'D4N2515' 'D4N2516'\n",
      " 'D4N2517']\n",
      "\n",
      " Unique bh_id: \n",
      " ['A1N0001' 'A1N0002' 'A1N0003' 'A3H012' 'A3N0015' 'A3N0513' 'A3N0514'\n",
      " 'A3N0516' 'A3N0519' 'A3N0521' 'D4N1468' 'D4N1658' 'D4N1666' 'D4N2515'\n",
      " 'D4N2516' 'D4N2517']\n"
     ]
    }
   ],
   "source": [
    "print ('\\n Unique bh_id: \\n {}'.format(water_levels_RIMS ['bh_id'].unique()))\n",
    "print ('\\n Unique bh_id: \\n {}'.format(coordinates ['bh_id'].unique()))"
   ]
  },
  {
   "cell_type": "code",
   "execution_count": 26,
   "metadata": {},
   "outputs": [
    {
     "name": "stdout",
     "output_type": "stream",
     "text": [
      "<class 'pandas.core.frame.DataFrame'>\n",
      "Int64Index: 15 entries, 0 to 15\n",
      "Data columns (total 3 columns):\n",
      "bh_id        15 non-null object\n",
      "latitude     15 non-null float64\n",
      "longitude    15 non-null float64\n",
      "dtypes: float64(2), object(1)\n",
      "memory usage: 480.0+ bytes\n"
     ]
    }
   ],
   "source": [
    "pd.options.mode.chained_assignment = None\n",
    "\n",
    "coord = coordinates[['bh_id','latitude','longitude']]\n",
    "bhid_rims = list(water_levels_RIMS['bh_id'].unique())\n",
    "\n",
    "coord_rims = coord [coord ['bh_id'].isin(bhid_rims) == True]\n",
    "coord_rims.drop_duplicates(inplace = True)\n",
    "coord_rims.info()"
   ]
  },
  {
   "cell_type": "code",
   "execution_count": 27,
   "metadata": {},
   "outputs": [
    {
     "name": "stdout",
     "output_type": "stream",
     "text": [
      "<class 'pandas.core.frame.DataFrame'>\n",
      "Int64Index: 1085 entries, 0 to 1084\n",
      "Data columns (total 13 columns):\n",
      "bh_id                 1085 non-null object\n",
      "country               1085 non-null object\n",
      "latitude_x            0 non-null float64\n",
      "longitude_x           0 non-null float64\n",
      "swl_m                 1085 non-null float64\n",
      "swl_date              1085 non-null object\n",
      "comment_waterlevel    1085 non-null object\n",
      "dataowner             1085 non-null object\n",
      "contact_person        1085 non-null object\n",
      "email                 1085 non-null object\n",
      "file_name             1085 non-null object\n",
      "latitude_y            1085 non-null float64\n",
      "longitude_y           1085 non-null float64\n",
      "dtypes: float64(5), object(8)\n",
      "memory usage: 118.7+ KB\n"
     ]
    }
   ],
   "source": [
    "RIMS_water_levels = water_levels_RIMS.merge(coord_rims, on = 'bh_id')\n",
    "RIMS_water_levels.info()"
   ]
  },
  {
   "cell_type": "code",
   "execution_count": 28,
   "metadata": {},
   "outputs": [
    {
     "data": {
      "text/html": [
       "<div>\n",
       "<style scoped>\n",
       "    .dataframe tbody tr th:only-of-type {\n",
       "        vertical-align: middle;\n",
       "    }\n",
       "\n",
       "    .dataframe tbody tr th {\n",
       "        vertical-align: top;\n",
       "    }\n",
       "\n",
       "    .dataframe thead th {\n",
       "        text-align: right;\n",
       "    }\n",
       "</style>\n",
       "<table border=\"1\" class=\"dataframe\">\n",
       "  <thead>\n",
       "    <tr style=\"text-align: right;\">\n",
       "      <th></th>\n",
       "      <th>bh_id</th>\n",
       "      <th>country</th>\n",
       "      <th>swl_m</th>\n",
       "      <th>swl_date</th>\n",
       "      <th>comment_waterlevel</th>\n",
       "      <th>dataowner</th>\n",
       "      <th>contact_person</th>\n",
       "      <th>email</th>\n",
       "      <th>file_name</th>\n",
       "      <th>latitude</th>\n",
       "      <th>longitude</th>\n",
       "    </tr>\n",
       "  </thead>\n",
       "  <tbody>\n",
       "    <tr>\n",
       "      <th>0</th>\n",
       "      <td>A1N0001</td>\n",
       "      <td>South Africa</td>\n",
       "      <td>27.39</td>\n",
       "      <td>1977-01-21</td>\n",
       "      <td>...</td>\n",
       "      <td>Department of Water and Sanitation South Africa</td>\n",
       "      <td>Ramusiya, Fhedzisani</td>\n",
       "      <td>RamusiyaF@dws.gov.za</td>\n",
       "      <td>A1N0001_WaterLevels.csv</td>\n",
       "      <td>-25.549722</td>\n",
       "      <td>25.9275</td>\n",
       "    </tr>\n",
       "    <tr>\n",
       "      <th>1</th>\n",
       "      <td>A1N0001</td>\n",
       "      <td>South Africa</td>\n",
       "      <td>27.58</td>\n",
       "      <td>1977-03-15</td>\n",
       "      <td>...</td>\n",
       "      <td>Department of Water and Sanitation South Africa</td>\n",
       "      <td>Ramusiya, Fhedzisani</td>\n",
       "      <td>RamusiyaF@dws.gov.za</td>\n",
       "      <td>A1N0001_WaterLevels.csv</td>\n",
       "      <td>-25.549722</td>\n",
       "      <td>25.9275</td>\n",
       "    </tr>\n",
       "  </tbody>\n",
       "</table>\n",
       "</div>"
      ],
      "text/plain": [
       "     bh_id       country  swl_m    swl_date  \\\n",
       "0  A1N0001  South Africa  27.39  1977-01-21   \n",
       "1  A1N0001  South Africa  27.58  1977-03-15   \n",
       "\n",
       "                                  comment_waterlevel  \\\n",
       "0                                                ...   \n",
       "1                                                ...   \n",
       "\n",
       "                                         dataowner        contact_person  \\\n",
       "0  Department of Water and Sanitation South Africa  Ramusiya, Fhedzisani   \n",
       "1  Department of Water and Sanitation South Africa  Ramusiya, Fhedzisani   \n",
       "\n",
       "                  email                file_name   latitude  longitude  \n",
       "0  RamusiyaF@dws.gov.za  A1N0001_WaterLevels.csv -25.549722    25.9275  \n",
       "1  RamusiyaF@dws.gov.za  A1N0001_WaterLevels.csv -25.549722    25.9275  "
      ]
     },
     "execution_count": 28,
     "metadata": {},
     "output_type": "execute_result"
    }
   ],
   "source": [
    "RIMS_water_levels.drop(['latitude_x', 'longitude_x'], axis = 1, inplace = True)\n",
    "RIMS_water_levels.rename(columns = {'latitude_y': 'latitude', 'longitude_y': 'longitude'}, inplace =True)\n",
    "RIMS_water_levels.head(2)"
   ]
  },
  {
   "cell_type": "code",
   "execution_count": 29,
   "metadata": {},
   "outputs": [
    {
     "data": {
      "text/plain": [
       "A3N0015    293\n",
       "A1N0001    275\n",
       "A1N0003    217\n",
       "D4N1468     92\n",
       "A1N0002     45\n",
       "D4N2517     34\n",
       "D4N2516     26\n",
       "A3N0516     24\n",
       "A3N0514     19\n",
       "D4N2515     18\n",
       "A3N0513     14\n",
       "A3N0521     12\n",
       "D4N1658      8\n",
       "A3N0519      6\n",
       "D4N1666      2\n",
       "Name: bh_id, dtype: int64"
      ]
     },
     "execution_count": 29,
     "metadata": {},
     "output_type": "execute_result"
    }
   ],
   "source": [
    "RIMS_water_levels.bh_id.value_counts()"
   ]
  },
  {
   "cell_type": "code",
   "execution_count": 30,
   "metadata": {},
   "outputs": [],
   "source": [
    "A1N0001 = RIMS_water_levels [RIMS_water_levels ['bh_id'] == 'A1N0001']"
   ]
  },
  {
   "cell_type": "code",
   "execution_count": 31,
   "metadata": {},
   "outputs": [
    {
     "data": {
      "image/png": "[encoded data removed]",
      "text/plain": [
       "<Figure size 1296x432 with 1 Axes>"
      ]
     },
     "metadata": {
      "needs_background": "light"
     },
     "output_type": "display_data"
    }
   ],
   "source": [
    "A1N0001.plot.line(x='swl_date', y = 'swl_m', figsize=(18,6), lw = 1)\n",
    "\n",
    "plt.title('A1N0001', fontsize = 16)\n",
    "plt.xlabel('Date', fontsize = 12)\n",
    "plt.ylabel('Static water level', fontsize = 12);"
   ]
  },
  {
   "cell_type": "code",
   "execution_count": 32,
   "metadata": {},
   "outputs": [
    {
     "name": "stdout",
     "output_type": "stream",
     "text": [
      "1977-01-21\n",
      "2011-09-27\n"
     ]
    }
   ],
   "source": [
    "print (A1N0001 ['swl_date'].min())\n",
    "print (A1N0001 ['swl_date'].max())"
   ]
  },
  {
   "cell_type": "code",
   "execution_count": 33,
   "metadata": {},
   "outputs": [],
   "source": [
    "A3N0015 = water_levels_RIMS [water_levels_RIMS ['bh_id'] == 'A3N0015']"
   ]
  },
  {
   "cell_type": "code",
   "execution_count": 34,
   "metadata": {},
   "outputs": [
    {
     "data": {
      "image/png": "[encoded data removed]",
      "text/plain": [
       "<Figure size 1296x432 with 1 Axes>"
      ]
     },
     "metadata": {
      "needs_background": "light"
     },
     "output_type": "display_data"
    }
   ],
   "source": [
    "A3N0015.plot.line(x='swl_date', y = 'swl_m', figsize=(18,6), lw = 1)\n",
    "\n",
    "plt.title('A3N0015', fontsize = 16)\n",
    "plt.xlabel('Date', fontsize = 12)\n",
    "plt.ylabel('Static water level', fontsize = 12);"
   ]
  },
  {
   "cell_type": "code",
   "execution_count": 35,
   "metadata": {},
   "outputs": [
    {
     "name": "stdout",
     "output_type": "stream",
     "text": [
      "1977-01-21\n",
      "2005-01-15\n"
     ]
    }
   ],
   "source": [
    "print (A3N0015 ['swl_date'].min())\n",
    "print (A3N0015 ['swl_date'].max())"
   ]
  },
  {
   "cell_type": "code",
   "execution_count": 36,
   "metadata": {},
   "outputs": [],
   "source": [
    "A1N0003 = RIMS_water_levels [RIMS_water_levels ['bh_id'] == 'A1N0003']"
   ]
  },
  {
   "cell_type": "code",
   "execution_count": 37,
   "metadata": {},
   "outputs": [
    {
     "data": {
      "image/png": "[encoded data removed]",
      "text/plain": [
       "<Figure size 1296x432 with 1 Axes>"
      ]
     },
     "metadata": {
      "needs_background": "light"
     },
     "output_type": "display_data"
    }
   ],
   "source": [
    "A1N0003.plot.line(x='swl_date', y = 'swl_m', figsize=(18,6), lw = 1)\n",
    "\n",
    "plt.title('A1N0003', fontsize = 16)\n",
    "plt.xlabel('Date', fontsize = 12)\n",
    "plt.ylabel('Static water level', fontsize = 12);"
   ]
  },
  {
   "cell_type": "code",
   "execution_count": 38,
   "metadata": {},
   "outputs": [
    {
     "name": "stdout",
     "output_type": "stream",
     "text": [
      "1977-02-18\n",
      "2000-06-30\n"
     ]
    }
   ],
   "source": [
    "print (A1N0003 ['swl_date'].min())\n",
    "print (A1N0003 ['swl_date'].max())"
   ]
  },
  {
   "cell_type": "markdown",
   "metadata": {},
   "source": [
    "## Reading in Ramotswa 1 and 2"
   ]
  },
  {
   "cell_type": "code",
   "execution_count": 39,
   "metadata": {},
   "outputs": [],
   "source": [
    "ramotswa1 = pd.read_csv('Ramotswa data 1 20190904.csv', header = 0, encoding = 'unicode_escape')\n",
    "ramotswa2 = pd.read_csv('Ramotswa data 2 20190904.csv', header = 0, encoding = 'unicode_escape')"
   ]
  },
  {
   "cell_type": "markdown",
   "metadata": {},
   "source": [
    "### Assessing Ramotswa 1 and Ramotswa 2"
   ]
  },
  {
   "cell_type": "code",
   "execution_count": 40,
   "metadata": {},
   "outputs": [
    {
     "data": {
      "text/html": [
       "<div>\n",
       "<style scoped>\n",
       "    .dataframe tbody tr th:only-of-type {\n",
       "        vertical-align: middle;\n",
       "    }\n",
       "\n",
       "    .dataframe tbody tr th {\n",
       "        vertical-align: top;\n",
       "    }\n",
       "\n",
       "    .dataframe thead th {\n",
       "        text-align: right;\n",
       "    }\n",
       "</style>\n",
       "<table border=\"1\" class=\"dataframe\">\n",
       "  <thead>\n",
       "    <tr style=\"text-align: right;\">\n",
       "      <th></th>\n",
       "      <th>Monitoring Point ID</th>\n",
       "      <th>Monitoring Point Name</th>\n",
       "      <th>Latitude</th>\n",
       "      <th>Longitude</th>\n",
       "      <th>Located on Feature Name</th>\n",
       "      <th>Located on Type</th>\n",
       "      <th>Drainage Region Name</th>\n",
       "      <th>Feature Reference Code</th>\n",
       "      <th>Monitoring Active</th>\n",
       "      <th>Sample Start Date</th>\n",
       "      <th>...</th>\n",
       "      <th>pH-Diss-Water (PH) (pH units) Greater Than</th>\n",
       "      <th>pHs-Calc-Water (PH AT SATURATION WITH RESPECT TO CACO3) (null) Result</th>\n",
       "      <th>pHs-Calc-Water (PH AT SATURATION WITH RESPECT TO CACO3) (null) Detection Limit</th>\n",
       "      <th>pHs-Calc-Water (PH AT SATURATION WITH RESPECT TO CACO3) (null) Greater Than</th>\n",
       "      <th>NO2-N-Diss-Water (NITRITE NITROGEN) (mg/L) Result</th>\n",
       "      <th>NO2-N-Diss-Water (NITRITE NITROGEN) (mg/L) Detection Limit</th>\n",
       "      <th>NO2-N-Diss-Water (NITRITE NITROGEN) (mg/L) Greater Than</th>\n",
       "      <th>N-Tot-Calc-Water (TOTAL NITROGEN CALCULATED) (mg/L) Result</th>\n",
       "      <th>N-Tot-Calc-Water (TOTAL NITROGEN CALCULATED) (mg/L) Detection Limit</th>\n",
       "      <th>N-Tot-Calc-Water (TOTAL NITROGEN CALCULATED) (mg/L) Greater Than</th>\n",
       "    </tr>\n",
       "  </thead>\n",
       "  <tbody>\n",
       "    <tr>\n",
       "      <th>0</th>\n",
       "      <td>84958</td>\n",
       "      <td>A1E001 MOILWAS 900 JO (GOPANE) EVAPORATION STA...</td>\n",
       "      <td>-25.193581</td>\n",
       "      <td>25.801222</td>\n",
       "      <td>NaN</td>\n",
       "      <td>NaN</td>\n",
       "      <td>A10B</td>\n",
       "      <td>NaN</td>\n",
       "      <td>No</td>\n",
       "      <td>1999-10-25</td>\n",
       "      <td>...</td>\n",
       "      <td>NaN</td>\n",
       "      <td>7.687</td>\n",
       "      <td>NaN</td>\n",
       "      <td>NaN</td>\n",
       "      <td>NaN</td>\n",
       "      <td>NaN</td>\n",
       "      <td>NaN</td>\n",
       "      <td>NaN</td>\n",
       "      <td>NaN</td>\n",
       "      <td>NaN</td>\n",
       "    </tr>\n",
       "  </tbody>\n",
       "</table>\n",
       "<p>1 rows × 109 columns</p>\n",
       "</div>"
      ],
      "text/plain": [
       "   Monitoring Point ID                              Monitoring Point Name  \\\n",
       "0                84958  A1E001 MOILWAS 900 JO (GOPANE) EVAPORATION STA...   \n",
       "\n",
       "    Latitude  Longitude Located on Feature Name Located on Type  \\\n",
       "0 -25.193581  25.801222                     NaN             NaN   \n",
       "\n",
       "  Drainage Region Name  Feature Reference Code Monitoring Active  \\\n",
       "0                 A10B                     NaN                No   \n",
       "\n",
       "  Sample Start Date  ... pH-Diss-Water (PH) (pH units) Greater Than  \\\n",
       "0        1999-10-25  ...                                        NaN   \n",
       "\n",
       "   pHs-Calc-Water (PH AT SATURATION WITH RESPECT TO CACO3) (null) Result  \\\n",
       "0                                              7.687                       \n",
       "\n",
       "   pHs-Calc-Water (PH AT SATURATION WITH RESPECT TO CACO3) (null) Detection Limit  \\\n",
       "0                                                NaN                                \n",
       "\n",
       "   pHs-Calc-Water (PH AT SATURATION WITH RESPECT TO CACO3) (null) Greater Than  \\\n",
       "0                                                NaN                             \n",
       "\n",
       "   NO2-N-Diss-Water (NITRITE NITROGEN) (mg/L) Result  \\\n",
       "0                                                NaN   \n",
       "\n",
       "   NO2-N-Diss-Water (NITRITE NITROGEN) (mg/L) Detection Limit  \\\n",
       "0                                                NaN            \n",
       "\n",
       "   NO2-N-Diss-Water (NITRITE NITROGEN) (mg/L) Greater Than  \\\n",
       "0                                                NaN         \n",
       "\n",
       "  N-Tot-Calc-Water (TOTAL NITROGEN CALCULATED) (mg/L) Result  \\\n",
       "0                                                NaN           \n",
       "\n",
       "  N-Tot-Calc-Water (TOTAL NITROGEN CALCULATED) (mg/L) Detection Limit  \\\n",
       "0                                                NaN                    \n",
       "\n",
       "   N-Tot-Calc-Water (TOTAL NITROGEN CALCULATED) (mg/L) Greater Than  \n",
       "0                                                NaN                 \n",
       "\n",
       "[1 rows x 109 columns]"
      ]
     },
     "execution_count": 40,
     "metadata": {},
     "output_type": "execute_result"
    }
   ],
   "source": [
    "ramotswa1.head(1)"
   ]
  },
  {
   "cell_type": "code",
   "execution_count": 41,
   "metadata": {},
   "outputs": [
    {
     "data": {
      "text/html": [
       "<div>\n",
       "<style scoped>\n",
       "    .dataframe tbody tr th:only-of-type {\n",
       "        vertical-align: middle;\n",
       "    }\n",
       "\n",
       "    .dataframe tbody tr th {\n",
       "        vertical-align: top;\n",
       "    }\n",
       "\n",
       "    .dataframe thead th {\n",
       "        text-align: right;\n",
       "    }\n",
       "</style>\n",
       "<table border=\"1\" class=\"dataframe\">\n",
       "  <thead>\n",
       "    <tr style=\"text-align: right;\">\n",
       "      <th></th>\n",
       "      <th>Monitoring Point ID</th>\n",
       "      <th>Monitoring Point Name</th>\n",
       "      <th>Latitude</th>\n",
       "      <th>Longitude</th>\n",
       "      <th>Located on Feature Name</th>\n",
       "      <th>Located on Type</th>\n",
       "      <th>Drainage Region Name</th>\n",
       "      <th>Feature Reference Code</th>\n",
       "      <th>Monitoring Active</th>\n",
       "      <th>Sample Start Date</th>\n",
       "      <th>...</th>\n",
       "      <th>O-Diss-Water (OXYGEN DISSOLVED) (mg/L) Greater Than</th>\n",
       "      <th>SOLIDS-Susp-Water (TOTAL SUSPENDED SOLIDS) (mg/L) Result</th>\n",
       "      <th>SOLIDS-Susp-Water (TOTAL SUSPENDED SOLIDS) (mg/L) Detection Limit</th>\n",
       "      <th>SOLIDS-Susp-Water (TOTAL SUSPENDED SOLIDS) (mg/L) Greater Than</th>\n",
       "      <th>TC-SuspMPN-Water (TOTAL COLIFORM COUNT BY MPN METHOD) (MPN/100mL) Result</th>\n",
       "      <th>TC-SuspMPN-Water (TOTAL COLIFORM COUNT BY MPN METHOD) (MPN/100mL) Detection Limit</th>\n",
       "      <th>TC-SuspMPN-Water (TOTAL COLIFORM COUNT BY MPN METHOD) (MPN/100mL) Greater Than</th>\n",
       "      <th>TEMP-Phys-Water (TEMPERATURE) (°C) Result</th>\n",
       "      <th>TEMP-Phys-Water (TEMPERATURE) (°C) Detection Limit</th>\n",
       "      <th>TEMP-Phys-Water (TEMPERATURE) (°C) Greater Than</th>\n",
       "    </tr>\n",
       "  </thead>\n",
       "  <tbody>\n",
       "    <tr>\n",
       "      <th>0</th>\n",
       "      <td>84958</td>\n",
       "      <td>A1E001 MOILWAS 900 JO (GOPANE) EVAPORATION STA...</td>\n",
       "      <td>-25.193581</td>\n",
       "      <td>25.801222</td>\n",
       "      <td>NaN</td>\n",
       "      <td>NaN</td>\n",
       "      <td>A10B</td>\n",
       "      <td>NaN</td>\n",
       "      <td>No</td>\n",
       "      <td>2000-05-30</td>\n",
       "      <td>...</td>\n",
       "      <td>NaN</td>\n",
       "      <td>NaN</td>\n",
       "      <td>NaN</td>\n",
       "      <td>NaN</td>\n",
       "      <td>NaN</td>\n",
       "      <td>NaN</td>\n",
       "      <td>NaN</td>\n",
       "      <td>NaN</td>\n",
       "      <td>NaN</td>\n",
       "      <td>NaN</td>\n",
       "    </tr>\n",
       "  </tbody>\n",
       "</table>\n",
       "<p>1 rows × 94 columns</p>\n",
       "</div>"
      ],
      "text/plain": [
       "   Monitoring Point ID                              Monitoring Point Name  \\\n",
       "0                84958  A1E001 MOILWAS 900 JO (GOPANE) EVAPORATION STA...   \n",
       "\n",
       "    Latitude  Longitude Located on Feature Name Located on Type  \\\n",
       "0 -25.193581  25.801222                     NaN             NaN   \n",
       "\n",
       "  Drainage Region Name  Feature Reference Code Monitoring Active  \\\n",
       "0                 A10B                     NaN                No   \n",
       "\n",
       "  Sample Start Date  ... O-Diss-Water (OXYGEN DISSOLVED) (mg/L) Greater Than  \\\n",
       "0        2000-05-30  ...                                                NaN    \n",
       "\n",
       "   SOLIDS-Susp-Water (TOTAL SUSPENDED SOLIDS) (mg/L) Result  \\\n",
       "0                                                NaN          \n",
       "\n",
       "   SOLIDS-Susp-Water (TOTAL SUSPENDED SOLIDS) (mg/L) Detection Limit  \\\n",
       "0                                                NaN                   \n",
       "\n",
       "   SOLIDS-Susp-Water (TOTAL SUSPENDED SOLIDS) (mg/L) Greater Than  \\\n",
       "0                                                NaN                \n",
       "\n",
       "   TC-SuspMPN-Water (TOTAL COLIFORM COUNT BY MPN METHOD) (MPN/100mL) Result  \\\n",
       "0                                                NaN                          \n",
       "\n",
       "   TC-SuspMPN-Water (TOTAL COLIFORM COUNT BY MPN METHOD) (MPN/100mL) Detection Limit  \\\n",
       "0                                                NaN                                   \n",
       "\n",
       "   TC-SuspMPN-Water (TOTAL COLIFORM COUNT BY MPN METHOD) (MPN/100mL) Greater Than  \\\n",
       "0                                                NaN                                \n",
       "\n",
       "  TEMP-Phys-Water (TEMPERATURE) (°C) Result  \\\n",
       "0                                       NaN   \n",
       "\n",
       "  TEMP-Phys-Water (TEMPERATURE) (°C) Detection Limit  \\\n",
       "0                                                NaN   \n",
       "\n",
       "   TEMP-Phys-Water (TEMPERATURE) (°C) Greater Than  \n",
       "0                                              NaN  \n",
       "\n",
       "[1 rows x 94 columns]"
      ]
     },
     "execution_count": 41,
     "metadata": {},
     "output_type": "execute_result"
    }
   ],
   "source": [
    "ramotswa2.head(1)"
   ]
  },
  {
   "cell_type": "markdown",
   "metadata": {},
   "source": [
    "### Cleaning  Ramotswa 1 and Ramotswa 2"
   ]
  },
  {
   "cell_type": "markdown",
   "metadata": {},
   "source": [
    "#### Issues listed with Ramotswa 1 and Ramotswa 2"
   ]
  },
  {
   "cell_type": "markdown",
   "metadata": {},
   "source": [
    "- Extract variable result column\n",
    "- Rename columns \n",
    "- Contact details from Andrew\n",
    "- File names \n",
    "- Check units with RIMS\n",
    "- Check names with RIMS\n",
    "- Check water levels (negative sign, strip)\n",
    "- Fill in quality description and datatrans: use code above to fill in"
   ]
  },
  {
   "cell_type": "code",
   "execution_count": 125,
   "metadata": {},
   "outputs": [],
   "source": [
    "#r1.loc[:, r1.columns.str.contains('Result')]\n",
    "#r_df1 = ramotswa1.iloc[:, np.r_[:19]]\n",
    "#r_df2 = ramotswa1.loc[:, ramotswa1.columns.str.contains('Result')]\n",
    "#r_df2_changed = r_df2.rename(columns = lambda x : str(x)[:15])\n",
    "#r_df2.rename(columns = lambda x : str(x)[:-32])\n",
    "#r_df2.rename(columns = lambda x : str(x)[:14])\n",
    "#new_data = [r_df1, r_df2]\n",
    "#ramotswa1_2_new = pd.concat(new_data, sort = False)"
   ]
  },
  {
   "cell_type": "markdown",
   "metadata": {},
   "source": [
    "#### Cleaning Ramotswa 1"
   ]
  },
  {
   "cell_type": "code",
   "execution_count": 42,
   "metadata": {},
   "outputs": [],
   "source": [
    "r1 = ramotswa1.copy()"
   ]
  },
  {
   "cell_type": "code",
   "execution_count": 43,
   "metadata": {},
   "outputs": [
    {
     "name": "stdout",
     "output_type": "stream",
     "text": [
      "<class 'pandas.core.frame.DataFrame'>\n",
      "RangeIndex: 2041 entries, 0 to 2040\n",
      "Columns: 109 entries, Monitoring Point ID to N-Tot-Calc-Water (TOTAL NITROGEN CALCULATED) (mg/L) Greater Than\n",
      "dtypes: float64(99), int64(1), object(9)\n",
      "memory usage: 1.7+ MB\n"
     ]
    }
   ],
   "source": [
    "r1.info()"
   ]
  },
  {
   "cell_type": "code",
   "execution_count": 44,
   "metadata": {
    "scrolled": false
   },
   "outputs": [
    {
     "name": "stdout",
     "output_type": "stream",
     "text": [
      "0 Monitoring Point ID\n",
      "1 Monitoring Point Name\n",
      "2 Latitude\n",
      "3 Longitude\n",
      "4 Located on Feature Name\n",
      "5 Located on Type\n",
      "6 Drainage Region Name\n",
      "7 Feature Reference Code\n",
      "8 Monitoring Active\n",
      "9 Sample Start Date\n",
      "10 Sample Start Time\n",
      "11 Sample End Date\n",
      "12 Sample End Time\n",
      "13 Time Interval\n",
      "14 Sample Start Depth\n",
      "15 Sample End Depth\n",
      "16 Depth Interval\n",
      "17 Preservative\n",
      "18 Action Type\n",
      "19 ASAR-Diss-Water (ADJUSTED SODIUM ADSORPTION RATIO) (null) Result\n",
      "20 ASAR-Diss-Water (ADJUSTED SODIUM ADSORPTION RATIO) (null) Detection Limit\n",
      "21 ASAR-Diss-Water (ADJUSTED SODIUM ADSORPTION RATIO) (null) Greater Than\n",
      "22 CORR-Diss-Water (CORROSIVITY INDEX) (null) Result\n",
      "23 CORR-Diss-Water (CORROSIVITY INDEX) (null) Detection Limit\n",
      "24 CORR-Diss-Water (CORROSIVITY INDEX) (null) Greater Than\n",
      "25 Ca-Diss-Water (CALCIUM) (mg/L) Result\n",
      "26 Ca-Diss-Water (CALCIUM) (mg/L) Detection Limit\n",
      "27 Ca-Diss-Water (CALCIUM) (mg/L) Greater Than\n",
      "28 Cl-Diss-Water (CHLORIDE) (mg/L) Result\n",
      "29 Cl-Diss-Water (CHLORIDE) (mg/L) Detection Limit\n",
      "30 Cl-Diss-Water (CHLORIDE) (mg/L) Greater Than\n",
      "31 DMS-Tot-Water (DISSOLVED MAJOR SALTS) (mg/L) Result\n",
      "32 DMS-Tot-Water (DISSOLVED MAJOR SALTS) (mg/L) Detection Limit\n",
      "33 DMS-Tot-Water (DISSOLVED MAJOR SALTS) (mg/L) Greater Than\n",
      "34 EC-Phys-Water (ELECTRICAL CONDUCTIVITY) (mS/m) Result\n",
      "35 EC-Phys-Water (ELECTRICAL CONDUCTIVITY) (mS/m) Detection Limit\n",
      "36 EC-Phys-Water (ELECTRICAL CONDUCTIVITY) (mS/m) Greater Than\n",
      "37 F-Diss-Water (FLUORIDE) (mg/L) Result\n",
      "38 F-Diss-Water (FLUORIDE) (mg/L) Detection Limit\n",
      "39 F-Diss-Water (FLUORIDE) (mg/L) Greater Than\n",
      "40 HARD-Mg-Calc-Water (HARDNESS MAGNESIUM CALCULATED) (mg/L) Result\n",
      "41 HARD-Mg-Calc-Water (HARDNESS MAGNESIUM CALCULATED) (mg/L) Detection Limit\n",
      "42 HARD-Mg-Calc-Water (HARDNESS MAGNESIUM CALCULATED) (mg/L) Greater Than\n",
      "43 HARD-Tot-Water (HARDNESS AS CACO3 CALCULATED) (mg/L) Result\n",
      "44 HARD-Tot-Water (HARDNESS AS CACO3 CALCULATED) (mg/L) Detection Limit\n",
      "45 HARD-Tot-Water (HARDNESS AS CACO3 CALCULATED) (mg/L) Greater Than\n",
      "46 K-Diss-Water (POTASSIUM) (mg/L) Result\n",
      "47 K-Diss-Water (POTASSIUM) (mg/L) Detection Limit\n",
      "48 K-Diss-Water (POTASSIUM) (mg/L) Greater Than\n",
      "49 KJEL N-Tot-Water (KJELDAHL NITROGEN) (mg/L) Result\n",
      "50 KJEL N-Tot-Water (KJELDAHL NITROGEN) (mg/L) Detection Limit\n",
      "51 KJEL N-Tot-Water (KJELDAHL NITROGEN) (mg/L) Greater Than\n",
      "52 LANGL-Index-Water (LANGLIER INDEX) (null) Result\n",
      "53 LANGL-Index-Water (LANGLIER INDEX) (null) Detection Limit\n",
      "54 LANGL-Index-Water (LANGLIER INDEX) (null) Greater Than\n",
      "55 Mg-Diss-Water (MAGNESIUM) (mg/L) Result\n",
      "56 Mg-Diss-Water (MAGNESIUM) (mg/L) Detection Limit\n",
      "57 Mg-Diss-Water (MAGNESIUM) (mg/L) Greater Than\n",
      "58 NH3(25)-Union-Diss-W (AMMONIA UN-IONISED 25 °C) (mg/L) Result\n",
      "59 NH3(25)-Union-Diss-W (AMMONIA UN-IONISED 25 °C) (mg/L) Detection Limit\n",
      "60 NH3(25)-Union-Diss-W (AMMONIA UN-IONISED 25 °C) (mg/L) Greater Than\n",
      "61 NH4-N-Diss-Water (AMMONIUM NITROGEN) (mg/L) Result\n",
      "62 NH4-N-Diss-Water (AMMONIUM NITROGEN) (mg/L) Detection Limit\n",
      "63 NH4-N-Diss-Water (AMMONIUM NITROGEN) (mg/L) Greater Than\n",
      "64 NO3+NO2-N-Diss-Water (NITRATE + NITRITE NITROGEN) (mg/L) Result\n",
      "65 NO3+NO2-N-Diss-Water (NITRATE + NITRITE NITROGEN) (mg/L) Detection Limit\n",
      "66 NO3+NO2-N-Diss-Water (NITRATE + NITRITE NITROGEN) (mg/L) Greater Than\n",
      "67 Na-Diss-Water (SODIUM) (mg/L) Result\n",
      "68 Na-Diss-Water (SODIUM) (mg/L) Detection Limit\n",
      "69 Na-Diss-Water (SODIUM) (mg/L) Greater Than\n",
      "70 P-Tot-Water (TOTAL PHOSPHORUS) (mg/L) Result\n",
      "71 P-Tot-Water (TOTAL PHOSPHORUS) (mg/L) Detection Limit\n",
      "72 P-Tot-Water (TOTAL PHOSPHORUS) (mg/L) Greater Than\n",
      "73 PO4-P-Diss-Water (ORTHO PHOSPHATE AS PHOSPHORUS) (mg/L) Result\n",
      "74 PO4-P-Diss-Water (ORTHO PHOSPHATE AS PHOSPHORUS) (mg/L) Detection Limit\n",
      "75 PO4-P-Diss-Water (ORTHO PHOSPHATE AS PHOSPHORUS) (mg/L) Greater Than\n",
      "76 RYZNAR-Index-Water (RYZNAR) (null) Result\n",
      "77 RYZNAR-Index-Water (RYZNAR) (null) Detection Limit\n",
      "78 RYZNAR-Index-Water (RYZNAR) (null) Greater Than\n",
      "79 SAR-Diss-Water (SODIUM ADSORPTION RATIO) (null) Result\n",
      "80 SAR-Diss-Water (SODIUM ADSORPTION RATIO) (null) Detection Limit\n",
      "81 SAR-Diss-Water (SODIUM ADSORPTION RATIO) (null) Greater Than\n",
      "82 SO4-Diss-Water (SULPHATE) (mg/L) Result\n",
      "83 SO4-Diss-Water (SULPHATE) (mg/L) Detection Limit\n",
      "84 SO4-Diss-Water (SULPHATE) (mg/L) Greater Than\n",
      "85 SO4Ion/MajAnions-Wat (SULPHATE ION TO MAJOR ANION RATIO) (null) Result\n",
      "86 SO4Ion/MajAnions-Wat (SULPHATE ION TO MAJOR ANION RATIO) (null) Detection Limit\n",
      "87 SO4Ion/MajAnions-Wat (SULPHATE ION TO MAJOR ANION RATIO) (null) Greater Than\n",
      "88 SO4Ion/TotAnions-Wat (SULPHATE ION TO TOTAL ANION RATIO) (null) Result\n",
      "89 SO4Ion/TotAnions-Wat (SULPHATE ION TO TOTAL ANION RATIO) (null) Detection Limit\n",
      "90 SO4Ion/TotAnions-Wat (SULPHATE ION TO TOTAL ANION RATIO) (null) Greater Than\n",
      "91 Si-Diss-Water (SILICON) (mg/L) Result\n",
      "92 Si-Diss-Water (SILICON) (mg/L) Detection Limit\n",
      "93 Si-Diss-Water (SILICON) (mg/L) Greater Than\n",
      "94 TAL-Diss-Water (TOTAL ALKALINITY AS CALCIUM CARBONATE) (mg/L) Result\n",
      "95 TAL-Diss-Water (TOTAL ALKALINITY AS CALCIUM CARBONATE) (mg/L) Detection Limit\n",
      "96 TAL-Diss-Water (TOTAL ALKALINITY AS CALCIUM CARBONATE) (mg/L) Greater Than\n",
      "97 pH-Diss-Water (PH) (pH units) Result\n",
      "98 pH-Diss-Water (PH) (pH units) Detection Limit\n",
      "99 pH-Diss-Water (PH) (pH units) Greater Than\n",
      "100 pHs-Calc-Water (PH AT SATURATION WITH RESPECT TO CACO3) (null) Result\n",
      "101 pHs-Calc-Water (PH AT SATURATION WITH RESPECT TO CACO3) (null) Detection Limit\n",
      "102 pHs-Calc-Water (PH AT SATURATION WITH RESPECT TO CACO3) (null) Greater Than\n",
      "103 NO2-N-Diss-Water (NITRITE NITROGEN) (mg/L) Result\n",
      "104 NO2-N-Diss-Water (NITRITE NITROGEN) (mg/L) Detection Limit\n",
      "105 NO2-N-Diss-Water (NITRITE NITROGEN) (mg/L) Greater Than\n",
      "106 N-Tot-Calc-Water (TOTAL NITROGEN CALCULATED) (mg/L) Result\n",
      "107 N-Tot-Calc-Water (TOTAL NITROGEN CALCULATED) (mg/L) Detection Limit\n",
      "108 N-Tot-Calc-Water (TOTAL NITROGEN CALCULATED) (mg/L) Greater Than\n"
     ]
    }
   ],
   "source": [
    "for i, v in enumerate (r1.columns):\n",
    "    print (i, v)"
   ]
  },
  {
   "cell_type": "code",
   "execution_count": 45,
   "metadata": {},
   "outputs": [
    {
     "name": "stdout",
     "output_type": "stream",
     "text": [
      "<class 'pandas.core.frame.DataFrame'>\n",
      "RangeIndex: 2041 entries, 0 to 2040\n",
      "Data columns (total 49 columns):\n",
      "Monitoring Point ID                                                       2041 non-null int64\n",
      "Monitoring Point Name                                                     2041 non-null object\n",
      "Latitude                                                                  2041 non-null float64\n",
      "Longitude                                                                 2041 non-null float64\n",
      "Located on Feature Name                                                   1988 non-null object\n",
      "Located on Type                                                           1988 non-null object\n",
      "Drainage Region Name                                                      2041 non-null object\n",
      "Feature Reference Code                                                    0 non-null float64\n",
      "Monitoring Active                                                         2041 non-null object\n",
      "Sample Start Date                                                         2041 non-null object\n",
      "Sample Start Time                                                         2041 non-null object\n",
      "Sample End Date                                                           0 non-null float64\n",
      "Sample End Time                                                           0 non-null float64\n",
      "Time Interval                                                             419 non-null float64\n",
      "Sample Start Depth                                                        1629 non-null float64\n",
      "Sample End Depth                                                          0 non-null float64\n",
      "Depth Interval                                                            0 non-null float64\n",
      "Preservative                                                              2041 non-null object\n",
      "Action Type                                                               2041 non-null object\n",
      "ASAR-Diss-Water (ADJUSTED SODIUM ADSORPTION RATIO) (null) Result          1075 non-null float64\n",
      "CORR-Diss-Water (CORROSIVITY INDEX) (null) Result                         1114 non-null float64\n",
      "Ca-Diss-Water (CALCIUM) (mg/L) Result                                     1113 non-null float64\n",
      "Cl-Diss-Water (CHLORIDE) (mg/L) Result                                    1124 non-null float64\n",
      "DMS-Tot-Water (DISSOLVED MAJOR SALTS) (mg/L) Result                       1042 non-null float64\n",
      "EC-Phys-Water (ELECTRICAL CONDUCTIVITY) (mS/m) Result                     1294 non-null float64\n",
      "F-Diss-Water (FLUORIDE) (mg/L) Result                                     1169 non-null float64\n",
      "HARD-Mg-Calc-Water (HARDNESS MAGNESIUM CALCULATED) (mg/L) Result          1182 non-null float64\n",
      "HARD-Tot-Water (HARDNESS AS CACO3 CALCULATED) (mg/L) Result               1109 non-null float64\n",
      "K-Diss-Water (POTASSIUM) (mg/L) Result                                    1155 non-null float64\n",
      "KJEL N-Tot-Water (KJELDAHL NITROGEN) (mg/L) Result                        2 non-null float64\n",
      "LANGL-Index-Water (LANGLIER INDEX) (null) Result                          1042 non-null float64\n",
      "Mg-Diss-Water (MAGNESIUM) (mg/L) Result                                   1182 non-null float64\n",
      "NH3(25)-Union-Diss-W (AMMONIA UN-IONISED 25 °C) (mg/L) Result             1172 non-null float64\n",
      "NH4-N-Diss-Water (AMMONIUM NITROGEN) (mg/L) Result                        1246 non-null float64\n",
      "NO3+NO2-N-Diss-Water (NITRATE + NITRITE NITROGEN) (mg/L) Result           1217 non-null float64\n",
      "Na-Diss-Water (SODIUM) (mg/L) Result                                      1160 non-null float64\n",
      "P-Tot-Water (TOTAL PHOSPHORUS) (mg/L) Result                              2 non-null float64\n",
      "PO4-P-Diss-Water (ORTHO PHOSPHATE AS PHOSPHORUS) (mg/L) Result            1244 non-null float64\n",
      "RYZNAR-Index-Water (RYZNAR) (null) Result                                 1042 non-null float64\n",
      "SAR-Diss-Water (SODIUM ADSORPTION RATIO) (null) Result                    1078 non-null float64\n",
      "SO4-Diss-Water (SULPHATE) (mg/L) Result                                   1220 non-null float64\n",
      "SO4Ion/MajAnions-Wat (SULPHATE ION TO MAJOR ANION RATIO) (null) Result    341 non-null float64\n",
      "SO4Ion/TotAnions-Wat (SULPHATE ION TO TOTAL ANION RATIO) (null) Result    314 non-null float64\n",
      "Si-Diss-Water (SILICON) (mg/L) Result                                     1185 non-null float64\n",
      "TAL-Diss-Water (TOTAL ALKALINITY AS CALCIUM CARBONATE) (mg/L) Result      1192 non-null float64\n",
      "pH-Diss-Water (PH) (pH units) Result                                      1278 non-null float64\n",
      "pHs-Calc-Water (PH AT SATURATION WITH RESPECT TO CACO3) (null) Result     1041 non-null float64\n",
      "NO2-N-Diss-Water (NITRITE NITROGEN) (mg/L) Result                         30 non-null float64\n",
      "N-Tot-Calc-Water (TOTAL NITROGEN CALCULATED) (mg/L) Result                2 non-null float64\n",
      "dtypes: float64(39), int64(1), object(9)\n",
      "memory usage: 781.4+ KB\n"
     ]
    }
   ],
   "source": [
    "filtered_r1 = r1.iloc[:, np.r_[:19, 19,22,25,28,31,34,37,40,43,46,49,52,55,58,61,64,67,70,73,76,79,82,85,88,91,94,97,100,103,106]]\n",
    "filtered_r1.info()"
   ]
  },
  {
   "cell_type": "code",
   "execution_count": 46,
   "metadata": {},
   "outputs": [],
   "source": [
    "filtered_r1.rename(columns = {'Monitoring Point ID': 'ID Monitoring Point'}, inplace = True)"
   ]
  },
  {
   "cell_type": "code",
   "execution_count": 47,
   "metadata": {},
   "outputs": [
    {
     "name": "stdout",
     "output_type": "stream",
     "text": [
      "0 ID Monitoring Point\n",
      "1 Monitoring Point Name\n",
      "2 Latitude\n",
      "3 Longitude\n",
      "4 Located on Feature Name\n",
      "5 Located on Type\n",
      "6 Drainage Region Name\n",
      "7 Feature Reference Code\n",
      "8 Monitoring Active\n",
      "9 Sample Start Date\n",
      "10 Sample Start Time\n",
      "11 Sample End Date\n",
      "12 Sample End Time\n",
      "13 Time Interval\n",
      "14 Sample Start Depth\n",
      "15 Sample End Depth\n",
      "16 Depth Interval\n",
      "17 Preservative\n",
      "18 Action Type\n",
      "19 ASAR-Diss-Water (ADJUSTED SODIUM ADSORPTION RATIO) (null) Result\n",
      "20 CORR-Diss-Water (CORROSIVITY INDEX) (null) Result\n",
      "21 Ca-Diss-Water (CALCIUM) (mg/L) Result\n",
      "22 Cl-Diss-Water (CHLORIDE) (mg/L) Result\n",
      "23 DMS-Tot-Water (DISSOLVED MAJOR SALTS) (mg/L) Result\n",
      "24 EC-Phys-Water (ELECTRICAL CONDUCTIVITY) (mS/m) Result\n",
      "25 F-Diss-Water (FLUORIDE) (mg/L) Result\n",
      "26 HARD-Mg-Calc-Water (HARDNESS MAGNESIUM CALCULATED) (mg/L) Result\n",
      "27 HARD-Tot-Water (HARDNESS AS CACO3 CALCULATED) (mg/L) Result\n",
      "28 K-Diss-Water (POTASSIUM) (mg/L) Result\n",
      "29 KJEL N-Tot-Water (KJELDAHL NITROGEN) (mg/L) Result\n",
      "30 LANGL-Index-Water (LANGLIER INDEX) (null) Result\n",
      "31 Mg-Diss-Water (MAGNESIUM) (mg/L) Result\n",
      "32 NH3(25)-Union-Diss-W (AMMONIA UN-IONISED 25 °C) (mg/L) Result\n",
      "33 NH4-N-Diss-Water (AMMONIUM NITROGEN) (mg/L) Result\n",
      "34 NO3+NO2-N-Diss-Water (NITRATE + NITRITE NITROGEN) (mg/L) Result\n",
      "35 Na-Diss-Water (SODIUM) (mg/L) Result\n",
      "36 P-Tot-Water (TOTAL PHOSPHORUS) (mg/L) Result\n",
      "37 PO4-P-Diss-Water (ORTHO PHOSPHATE AS PHOSPHORUS) (mg/L) Result\n",
      "38 RYZNAR-Index-Water (RYZNAR) (null) Result\n",
      "39 SAR-Diss-Water (SODIUM ADSORPTION RATIO) (null) Result\n",
      "40 SO4-Diss-Water (SULPHATE) (mg/L) Result\n",
      "41 SO4Ion/MajAnions-Wat (SULPHATE ION TO MAJOR ANION RATIO) (null) Result\n",
      "42 SO4Ion/TotAnions-Wat (SULPHATE ION TO TOTAL ANION RATIO) (null) Result\n",
      "43 Si-Diss-Water (SILICON) (mg/L) Result\n",
      "44 TAL-Diss-Water (TOTAL ALKALINITY AS CALCIUM CARBONATE) (mg/L) Result\n",
      "45 pH-Diss-Water (PH) (pH units) Result\n",
      "46 pHs-Calc-Water (PH AT SATURATION WITH RESPECT TO CACO3) (null) Result\n",
      "47 NO2-N-Diss-Water (NITRITE NITROGEN) (mg/L) Result\n",
      "48 N-Tot-Calc-Water (TOTAL NITROGEN CALCULATED) (mg/L) Result\n"
     ]
    }
   ],
   "source": [
    "for i, v in enumerate (filtered_r1.columns):\n",
    "    print (i,v)"
   ]
  },
  {
   "cell_type": "code",
   "execution_count": 48,
   "metadata": {},
   "outputs": [
    {
     "name": "stdout",
     "output_type": "stream",
     "text": [
      "<class 'pandas.core.frame.DataFrame'>\n",
      "RangeIndex: 2041 entries, 0 to 2040\n",
      "Data columns (total 49 columns):\n",
      "Monitoring Point ID        2041 non-null int64\n",
      "Monitoring Point Name      2041 non-null object\n",
      "Latitude                   2041 non-null float64\n",
      "Longitude                  2041 non-null float64\n",
      "Located on Feature Name    1988 non-null object\n",
      "Located on Type            1988 non-null object\n",
      "Drainage Region Name       2041 non-null object\n",
      "Feature Reference Code     0 non-null float64\n",
      "Monitoring Active          2041 non-null object\n",
      "Sample Start Date          2041 non-null object\n",
      "Sample Start Time          2041 non-null object\n",
      "Sample End Date            0 non-null float64\n",
      "Sample End Time            0 non-null float64\n",
      "Time Interval              419 non-null float64\n",
      "Sample Start Depth         1629 non-null float64\n",
      "Sample End Dept            0 non-null float64\n",
      "Depth Interval             0 non-null float64\n",
      "Preservative               2041 non-null object\n",
      "Action Type                2041 non-null object\n",
      "ASAR                       1075 non-null float64\n",
      "CORR                       1114 non-null float64\n",
      "Ca                         1113 non-null float64\n",
      "Cl                         1124 non-null float64\n",
      "DMS                        1042 non-null float64\n",
      "EC                         1294 non-null float64\n",
      "F                          1169 non-null float64\n",
      "HARD-Mg-Calc               1182 non-null float64\n",
      "HARD-Tot-Water             1109 non-null float64\n",
      "K                          1155 non-null float64\n",
      "KJEL N-Tot                 2 non-null float64\n",
      "LANGL-Index                1042 non-null float64\n",
      "Mg                         1182 non-null float64\n",
      "NH3(25)-Union              1172 non-null float64\n",
      "NH4-N                      1246 non-null float64\n",
      "NO3+NO2-N                  1217 non-null float64\n",
      "Na                         1160 non-null float64\n",
      "P-Tot                      2 non-null float64\n",
      "PO4-P                      1244 non-null float64\n",
      "RYZNAR-Index               1042 non-null float64\n",
      "SAR                        1078 non-null float64\n",
      "SO4                        1220 non-null float64\n",
      "SO4Ion/MajAnion            341 non-null float64\n",
      "SO4Ion/TotAnion            314 non-null float64\n",
      "Si                         1185 non-null float64\n",
      "TAL                        1192 non-null float64\n",
      "pH                         1278 non-null float64\n",
      "pHs-Calc                   1041 non-null float64\n",
      "NO2-N                      30 non-null float64\n",
      "N-Tot-Calc                 2 non-null float64\n",
      "dtypes: float64(39), int64(1), object(9)\n",
      "memory usage: 781.4+ KB\n"
     ]
    }
   ],
   "source": [
    "filtered_r1.rename(columns = lambda x : str(x)[:15], inplace = True)\n",
    "\n",
    "filtered_r1.rename(columns = {\n",
    "    \n",
    "'ID Monitoring P': 'Monitoring Point ID', 'Monitoring Poin': 'Monitoring Point Name',\n",
    "'Located on Feat': 'Located on Feature Name', 'Drainage Region': 'Drainage Region Name',\n",
    "'Feature Referen': 'Feature Reference Code', 'Monitoring Acti': 'Monitoring Active',\n",
    "'Sample Start Da':'Sample Start Date', 'Sample Start Ti':'Sample Start Time', 'Sample Start De':'Sample Start Depth',\n",
    "'ASAR-Diss-Water': 'ASAR', 'CORR-Diss-Water': 'CORR', 'Ca-Diss-Water (': 'Ca',\n",
    "'Cl-Diss-Water (': 'Cl', 'DMS-Tot-Water (': 'DMS', 'EC-Phys-Water (': 'EC',\n",
    "'F-Diss-Water (F': 'F', 'HARD-Mg-Calc-Wa': 'HARD-Mg-Calc', 'HARD-Tot-Water': 'HARD-Tot',\n",
    "'K-Diss-Water (P': 'K', 'KJEL N-Tot-Wate': 'KJEL N-Tot', 'LANGL-Index-Wat': 'LANGL-Index',\n",
    "'Mg-Diss-Water (': 'Mg', 'NH3(25)-Union-D': 'NH3(25)-Union', 'NH4-N-Diss-Wate': 'NH4-N',\n",
    "'NO3+NO2-N-Diss-': 'NO3+NO2-N', 'Na-Diss-Water (': 'Na', 'P-Tot-Water (TO': 'P-Tot', 'PO4-P-Diss-Wate': 'PO4-P',\n",
    "'RYZNAR-Index-Wa': 'RYZNAR-Index', 'SAR-Diss-Water ':  'SAR', 'SO4-Diss-Water ':  'SO4', 'Si-Diss-Water (': 'Si',\n",
    "'TAL-Diss-Water ':  'TAL', 'pH-Diss-Water (': 'pH', 'pHs-Calc-Water ': 'pHs-Calc',\n",
    "'NO2-N-Diss-Wate': 'NO2-N', 'N-Tot-Calc-Wate': 'N-Tot-Calc'  \n",
    "\n",
    "}, inplace = True)\n",
    "\n",
    "filtered_r1.info()"
   ]
  },
  {
   "cell_type": "code",
   "execution_count": 49,
   "metadata": {},
   "outputs": [],
   "source": [
    "# Insert data source details i.e. data owner, contact, email and file name\n",
    "filtered_r1 ['dataowner'] = \"Department of Water and Sanitation South Africa\"\n",
    "filtered_r1 ['contact_person'] = \"Ramusiya, Fhedzisani\"\n",
    "filtered_r1 ['email'] = \"RamusiyaF@dws.gov.za\"\n",
    "filtered_r1 ['file_name'] = \"Ramotswa data 1 20190904.csv\""
   ]
  },
  {
   "cell_type": "code",
   "execution_count": 50,
   "metadata": {},
   "outputs": [
    {
     "data": {
      "text/html": [
       "<div>\n",
       "<style scoped>\n",
       "    .dataframe tbody tr th:only-of-type {\n",
       "        vertical-align: middle;\n",
       "    }\n",
       "\n",
       "    .dataframe tbody tr th {\n",
       "        vertical-align: top;\n",
       "    }\n",
       "\n",
       "    .dataframe thead th {\n",
       "        text-align: right;\n",
       "    }\n",
       "</style>\n",
       "<table border=\"1\" class=\"dataframe\">\n",
       "  <thead>\n",
       "    <tr style=\"text-align: right;\">\n",
       "      <th></th>\n",
       "      <th>Monitoring Point ID</th>\n",
       "      <th>Monitoring Point Name</th>\n",
       "      <th>Latitude</th>\n",
       "      <th>Longitude</th>\n",
       "      <th>Located on Feature Name</th>\n",
       "      <th>Located on Type</th>\n",
       "      <th>Drainage Region Name</th>\n",
       "      <th>Feature Reference Code</th>\n",
       "      <th>Monitoring Active</th>\n",
       "      <th>Sample Start Date</th>\n",
       "      <th>...</th>\n",
       "      <th>Si</th>\n",
       "      <th>TAL</th>\n",
       "      <th>pH</th>\n",
       "      <th>pHs-Calc</th>\n",
       "      <th>NO2-N</th>\n",
       "      <th>N-Tot-Calc</th>\n",
       "      <th>dataowner</th>\n",
       "      <th>contact_person</th>\n",
       "      <th>email</th>\n",
       "      <th>file_name</th>\n",
       "    </tr>\n",
       "  </thead>\n",
       "  <tbody>\n",
       "    <tr>\n",
       "      <th>0</th>\n",
       "      <td>84958</td>\n",
       "      <td>A1E001 MOILWAS 900 JO (GOPANE) EVAPORATION STA...</td>\n",
       "      <td>-25.193581</td>\n",
       "      <td>25.801222</td>\n",
       "      <td>NaN</td>\n",
       "      <td>NaN</td>\n",
       "      <td>A10B</td>\n",
       "      <td>NaN</td>\n",
       "      <td>No</td>\n",
       "      <td>1999-10-25</td>\n",
       "      <td>...</td>\n",
       "      <td>6.226</td>\n",
       "      <td>115.446</td>\n",
       "      <td>7.788</td>\n",
       "      <td>7.687</td>\n",
       "      <td>NaN</td>\n",
       "      <td>NaN</td>\n",
       "      <td>Department of Water and Sanitation South Africa</td>\n",
       "      <td>Ramusiya, Fhedzisani</td>\n",
       "      <td>RamusiyaF@dws.gov.za</td>\n",
       "      <td>Ramotswa data 1 20190904.csv</td>\n",
       "    </tr>\n",
       "    <tr>\n",
       "      <th>1</th>\n",
       "      <td>84958</td>\n",
       "      <td>A1E001 MOILWAS 900 JO (GOPANE) EVAPORATION STA...</td>\n",
       "      <td>-25.193581</td>\n",
       "      <td>25.801222</td>\n",
       "      <td>NaN</td>\n",
       "      <td>NaN</td>\n",
       "      <td>A10B</td>\n",
       "      <td>NaN</td>\n",
       "      <td>No</td>\n",
       "      <td>1999-11-16</td>\n",
       "      <td>...</td>\n",
       "      <td>5.637</td>\n",
       "      <td>108.982</td>\n",
       "      <td>7.932</td>\n",
       "      <td>7.939</td>\n",
       "      <td>NaN</td>\n",
       "      <td>NaN</td>\n",
       "      <td>Department of Water and Sanitation South Africa</td>\n",
       "      <td>Ramusiya, Fhedzisani</td>\n",
       "      <td>RamusiyaF@dws.gov.za</td>\n",
       "      <td>Ramotswa data 1 20190904.csv</td>\n",
       "    </tr>\n",
       "  </tbody>\n",
       "</table>\n",
       "<p>2 rows × 53 columns</p>\n",
       "</div>"
      ],
      "text/plain": [
       "   Monitoring Point ID                              Monitoring Point Name  \\\n",
       "0                84958  A1E001 MOILWAS 900 JO (GOPANE) EVAPORATION STA...   \n",
       "1                84958  A1E001 MOILWAS 900 JO (GOPANE) EVAPORATION STA...   \n",
       "\n",
       "    Latitude  Longitude Located on Feature Name Located on Type  \\\n",
       "0 -25.193581  25.801222                     NaN             NaN   \n",
       "1 -25.193581  25.801222                     NaN             NaN   \n",
       "\n",
       "  Drainage Region Name  Feature Reference Code Monitoring Active  \\\n",
       "0                 A10B                     NaN                No   \n",
       "1                 A10B                     NaN                No   \n",
       "\n",
       "  Sample Start Date  ...     Si      TAL     pH  pHs-Calc  NO2-N  N-Tot-Calc  \\\n",
       "0        1999-10-25  ...  6.226  115.446  7.788     7.687    NaN         NaN   \n",
       "1        1999-11-16  ...  5.637  108.982  7.932     7.939    NaN         NaN   \n",
       "\n",
       "                                         dataowner        contact_person  \\\n",
       "0  Department of Water and Sanitation South Africa  Ramusiya, Fhedzisani   \n",
       "1  Department of Water and Sanitation South Africa  Ramusiya, Fhedzisani   \n",
       "\n",
       "                  email                     file_name  \n",
       "0  RamusiyaF@dws.gov.za  Ramotswa data 1 20190904.csv  \n",
       "1  RamusiyaF@dws.gov.za  Ramotswa data 1 20190904.csv  \n",
       "\n",
       "[2 rows x 53 columns]"
      ]
     },
     "execution_count": 50,
     "metadata": {},
     "output_type": "execute_result"
    }
   ],
   "source": [
    "filtered_r1.head(2)"
   ]
  },
  {
   "cell_type": "markdown",
   "metadata": {},
   "source": [
    "#### Cleaning Ramotswa 2"
   ]
  },
  {
   "cell_type": "code",
   "execution_count": 51,
   "metadata": {},
   "outputs": [],
   "source": [
    "r2 = ramotswa2.copy()"
   ]
  },
  {
   "cell_type": "code",
   "execution_count": 52,
   "metadata": {},
   "outputs": [
    {
     "name": "stdout",
     "output_type": "stream",
     "text": [
      "0 Monitoring Point ID\n",
      "1 Monitoring Point Name\n",
      "2 Latitude\n",
      "3 Longitude\n",
      "4 Located on Feature Name\n",
      "5 Located on Type\n",
      "6 Drainage Region Name\n",
      "7 Feature Reference Code\n",
      "8 Monitoring Active\n",
      "9 Sample Start Date\n",
      "10 Sample Start Time\n",
      "11 Sample End Date\n",
      "12 Sample End Time\n",
      "13 Time Interval\n",
      "14 Sample Start Depth\n",
      "15 Sample End Depth\n",
      "16 Depth Interval\n",
      "17 Preservative\n",
      "18 Action Type\n",
      "19 Al-Diss-Water (ALUMINIUM) (mg/L) Result\n",
      "20 Al-Diss-Water (ALUMINIUM) (mg/L) Detection Limit\n",
      "21 Al-Diss-Water (ALUMINIUM) (mg/L) Greater Than\n",
      "22 As-Diss-Water (ARSENIC) (mg/L) Result\n",
      "23 As-Diss-Water (ARSENIC) (mg/L) Detection Limit\n",
      "24 As-Diss-Water (ARSENIC) (mg/L) Greater Than\n",
      "25 B-Diss-Water (BORON) (mg/L) Result\n",
      "26 B-Diss-Water (BORON) (mg/L) Detection Limit\n",
      "27 B-Diss-Water (BORON) (mg/L) Greater Than\n",
      "28 Ba-Diss-Water (BARIUM) (mg/L) Result\n",
      "29 Ba-Diss-Water (BARIUM) (mg/L) Detection Limit\n",
      "30 Ba-Diss-Water (BARIUM) (mg/L) Greater Than\n",
      "31 COD (CHEMICAL OXYGEN DEMAND) (mg/L) Result\n",
      "32 COD (CHEMICAL OXYGEN DEMAND) (mg/L) Detection Limit\n",
      "33 COD (CHEMICAL OXYGEN DEMAND) (mg/L) Greater Than\n",
      "34 Cd-Diss-Water (CADMIUM) (mg/L) Result\n",
      "35 Cd-Diss-Water (CADMIUM) (mg/L) Detection Limit\n",
      "36 Cd-Diss-Water (CADMIUM) (mg/L) Greater Than\n",
      "37 Cr-Diss-Water (CHROMIUM) (mg/L) Result\n",
      "38 Cr-Diss-Water (CHROMIUM) (mg/L) Detection Limit\n",
      "39 Cr-Diss-Water (CHROMIUM) (mg/L) Greater Than\n",
      "40 Cu-Diss-Water (COPPER) (mg/L) Result\n",
      "41 Cu-Diss-Water (COPPER) (mg/L) Detection Limit\n",
      "42 Cu-Diss-Water (COPPER) (mg/L) Greater Than\n",
      "43 Fe-Diss-Water (IRON) (mg/L) Result\n",
      "44 Fe-Diss-Water (IRON) (mg/L) Detection Limit\n",
      "45 Fe-Diss-Water (IRON) (mg/L) Greater Than\n",
      "46 Mn-Diss-Water (MANGANESE) (mg/L) Result\n",
      "47 Mn-Diss-Water (MANGANESE) (mg/L) Detection Limit\n",
      "48 Mn-Diss-Water (MANGANESE) (mg/L) Greater Than\n",
      "49 Mo-Diss-Water (MOLYBDENUM) (mg/L) Result\n",
      "50 Mo-Diss-Water (MOLYBDENUM) (mg/L) Detection Limit\n",
      "51 Mo-Diss-Water (MOLYBDENUM) (mg/L) Greater Than\n",
      "52 Ni-Diss-Water (NICKEL) (mg/L) Result\n",
      "53 Ni-Diss-Water (NICKEL) (mg/L) Detection Limit\n",
      "54 Ni-Diss-Water (NICKEL) (mg/L) Greater Than\n",
      "55 Pb-Diss-Water (LEAD) (mg/L) Result\n",
      "56 Pb-Diss-Water (LEAD) (mg/L) Detection Limit\n",
      "57 Pb-Diss-Water (LEAD) (mg/L) Greater Than\n",
      "58 Sr-Diss-Water (STRONTIUM) (mg/L) Result\n",
      "59 Sr-Diss-Water (STRONTIUM) (mg/L) Detection Limit\n",
      "60 Sr-Diss-Water (STRONTIUM) (mg/L) Greater Than\n",
      "61 V-Diss-Water (VANADIUM) (mg/L) Result\n",
      "62 V-Diss-Water (VANADIUM) (mg/L) Detection Limit\n",
      "63 V-Diss-Water (VANADIUM) (mg/L) Greater Than\n",
      "64 Zn-Diss-Water (ZINC) (mg/L) Result\n",
      "65 Zn-Diss-Water (ZINC) (mg/L) Detection Limit\n",
      "66 Zn-Diss-Water (ZINC) (mg/L) Greater Than\n",
      "67 E.COLI-Susp-Water (ESCHERICHIA COLI) (cfu/100mL) Result\n",
      "68 E.COLI-Susp-Water (ESCHERICHIA COLI) (cfu/100mL) Detection Limit\n",
      "69 E.COLI-Susp-Water (ESCHERICHIA COLI) (cfu/100mL) Greater Than\n",
      "70 E.COLI-SuspMPN-Water (ESCHERICHIA COLI BY MPN METHOD) (MPN/100mL) Result\n",
      "71 E.COLI-SuspMPN-Water (ESCHERICHIA COLI BY MPN METHOD) (MPN/100mL) Detection Limit\n",
      "72 E.COLI-SuspMPN-Water (ESCHERICHIA COLI BY MPN METHOD) (MPN/100mL) Greater Than\n",
      "73 Eh-Phys-Water (REDOX POTENTIAL) (mV) Result\n",
      "74 Eh-Phys-Water (REDOX POTENTIAL) (mV) Detection Limit\n",
      "75 Eh-Phys-Water (REDOX POTENTIAL) (mV) Greater Than\n",
      "76 Hydrogen-3-Water (TRITIUM ATOM RATIO WITH RESPECT TO HYDROGEN (3H/1H)) (TU) Result\n",
      "77 Hydrogen-3-Water (TRITIUM ATOM RATIO WITH RESPECT TO HYDROGEN (3H/1H)) (TU) Counting Stat\n",
      "78 Hydrogen-3-Water (TRITIUM ATOM RATIO WITH RESPECT TO HYDROGEN (3H/1H)) (TU) Greater Than\n",
      "79 O-Abs-Water (OXYGEN ABSORBED) (mg/L) Result\n",
      "80 O-Abs-Water (OXYGEN ABSORBED) (mg/L) Detection Limit\n",
      "81 O-Abs-Water (OXYGEN ABSORBED) (mg/L) Greater Than\n",
      "82 O-Diss-Water (OXYGEN DISSOLVED) (mg/L) Result\n",
      "83 O-Diss-Water (OXYGEN DISSOLVED) (mg/L) Detection Limit\n",
      "84 O-Diss-Water (OXYGEN DISSOLVED) (mg/L) Greater Than\n",
      "85 SOLIDS-Susp-Water (TOTAL SUSPENDED SOLIDS) (mg/L) Result\n",
      "86 SOLIDS-Susp-Water (TOTAL SUSPENDED SOLIDS) (mg/L) Detection Limit\n",
      "87 SOLIDS-Susp-Water (TOTAL SUSPENDED SOLIDS) (mg/L) Greater Than\n",
      "88 TC-SuspMPN-Water (TOTAL COLIFORM COUNT BY MPN METHOD) (MPN/100mL) Result\n",
      "89 TC-SuspMPN-Water (TOTAL COLIFORM COUNT BY MPN METHOD) (MPN/100mL) Detection Limit\n",
      "90 TC-SuspMPN-Water (TOTAL COLIFORM COUNT BY MPN METHOD) (MPN/100mL) Greater Than\n",
      "91 TEMP-Phys-Water (TEMPERATURE) (°C) Result\n",
      "92 TEMP-Phys-Water (TEMPERATURE) (°C) Detection Limit\n",
      "93 TEMP-Phys-Water (TEMPERATURE) (°C) Greater Than\n"
     ]
    }
   ],
   "source": [
    "for i, v in enumerate (r2.columns):\n",
    "    print (i, v)"
   ]
  },
  {
   "cell_type": "code",
   "execution_count": 53,
   "metadata": {},
   "outputs": [
    {
     "name": "stdout",
     "output_type": "stream",
     "text": [
      "<class 'pandas.core.frame.DataFrame'>\n",
      "RangeIndex: 630 entries, 0 to 629\n",
      "Data columns (total 44 columns):\n",
      "Monitoring Point ID                                                                   630 non-null int64\n",
      "Monitoring Point Name                                                                 630 non-null object\n",
      "Latitude                                                                              630 non-null float64\n",
      "Longitude                                                                             630 non-null float64\n",
      "Located on Feature Name                                                               615 non-null object\n",
      "Located on Type                                                                       615 non-null object\n",
      "Drainage Region Name                                                                  630 non-null object\n",
      "Feature Reference Code                                                                0 non-null float64\n",
      "Monitoring Active                                                                     630 non-null object\n",
      "Sample Start Date                                                                     543 non-null object\n",
      "Sample Start Time                                                                     543 non-null object\n",
      "Sample End Date                                                                       0 non-null float64\n",
      "Sample End Time                                                                       0 non-null float64\n",
      "Time Interval                                                                         0 non-null float64\n",
      "Sample Start Depth                                                                    445 non-null float64\n",
      "Sample End Depth                                                                      0 non-null float64\n",
      "Depth Interval                                                                        0 non-null float64\n",
      "Preservative                                                                          513 non-null object\n",
      "Action Type                                                                           543 non-null object\n",
      "Al-Diss-Water (ALUMINIUM) (mg/L) Result                                               25 non-null float64\n",
      "As-Diss-Water (ARSENIC) (mg/L) Result                                                 26 non-null float64\n",
      "B-Diss-Water (BORON) (mg/L) Result                                                    27 non-null float64\n",
      "Ba-Diss-Water (BARIUM) (mg/L) Result                                                  26 non-null float64\n",
      "COD (CHEMICAL OXYGEN DEMAND) (mg/L) Result                                            30 non-null float64\n",
      "Cd-Diss-Water (CADMIUM) (mg/L) Result                                                 26 non-null float64\n",
      "Cr-Diss-Water (CHROMIUM) (mg/L) Result                                                26 non-null float64\n",
      "Cu-Diss-Water (COPPER) (mg/L) Result                                                  26 non-null float64\n",
      "Fe-Diss-Water (IRON) (mg/L) Result                                                    31 non-null float64\n",
      "Mn-Diss-Water (MANGANESE) (mg/L) Result                                               31 non-null float64\n",
      "Mo-Diss-Water (MOLYBDENUM) (mg/L) Result                                              26 non-null float64\n",
      "Ni-Diss-Water (NICKEL) (mg/L) Result                                                  26 non-null float64\n",
      "Pb-Diss-Water (LEAD) (mg/L) Result                                                    26 non-null float64\n",
      "Sr-Diss-Water (STRONTIUM) (mg/L) Result                                               26 non-null float64\n",
      "V-Diss-Water (VANADIUM) (mg/L) Result                                                 26 non-null float64\n",
      "Zn-Diss-Water (ZINC) (mg/L) Result                                                    26 non-null float64\n",
      "E.COLI-Susp-Water (ESCHERICHIA COLI) (cfu/100mL) Result                               12 non-null float64\n",
      "E.COLI-SuspMPN-Water (ESCHERICHIA COLI BY MPN METHOD) (MPN/100mL) Result              3 non-null float64\n",
      "Eh-Phys-Water (REDOX POTENTIAL) (mV) Result                                           1 non-null float64\n",
      "Hydrogen-3-Water (TRITIUM ATOM RATIO WITH RESPECT TO HYDROGEN (3H/1H)) (TU) Result    1 non-null float64\n",
      "O-Abs-Water (OXYGEN ABSORBED) (mg/L) Result                                           30 non-null float64\n",
      "O-Diss-Water (OXYGEN DISSOLVED) (mg/L) Result                                         1 non-null float64\n",
      "SOLIDS-Susp-Water (TOTAL SUSPENDED SOLIDS) (mg/L) Result                              30 non-null float64\n",
      "TC-SuspMPN-Water (TOTAL COLIFORM COUNT BY MPN METHOD) (MPN/100mL) Result              15 non-null float64\n",
      "TEMP-Phys-Water (TEMPERATURE) (°C) Result                                             441 non-null float64\n",
      "dtypes: float64(34), int64(1), object(9)\n",
      "memory usage: 216.7+ KB\n"
     ]
    }
   ],
   "source": [
    "filtered_r2 = r2.iloc[:, np.r_[:19, 19, 22, 25, 28, 31, 34, 37, 40, 43, 46, 49, 52, 55, 58, 61, 64, 67, 70, 73, 76, 79, 82, 85, 88, 91]]\n",
    "filtered_r2.info()"
   ]
  },
  {
   "cell_type": "code",
   "execution_count": 54,
   "metadata": {},
   "outputs": [
    {
     "data": {
      "text/plain": [
       "Index(['Monitoring Point ID', 'Monitoring Point Name', 'Latitude', 'Longitude',\n",
       "       'Located on Feature Name', 'Located on Type', 'Drainage Region Name',\n",
       "       'Feature Reference Code', 'Monitoring Active', 'Sample Start Date',\n",
       "       'Sample Start Time', 'Sample End Date', 'Sample End Time',\n",
       "       'Time Interval', 'Sample Start Depth', 'Sample End Depth',\n",
       "       'Depth Interval', 'Preservative', 'Action Type',\n",
       "       'Al-Diss-Water (ALUMINIUM) (mg/L) Result',\n",
       "       'As-Diss-Water (ARSENIC) (mg/L) Result',\n",
       "       'B-Diss-Water (BORON) (mg/L) Result',\n",
       "       'Ba-Diss-Water (BARIUM) (mg/L) Result',\n",
       "       'COD (CHEMICAL OXYGEN DEMAND) (mg/L) Result',\n",
       "       'Cd-Diss-Water (CADMIUM) (mg/L) Result',\n",
       "       'Cr-Diss-Water (CHROMIUM) (mg/L) Result',\n",
       "       'Cu-Diss-Water (COPPER) (mg/L) Result',\n",
       "       'Fe-Diss-Water (IRON) (mg/L) Result',\n",
       "       'Mn-Diss-Water (MANGANESE) (mg/L) Result',\n",
       "       'Mo-Diss-Water (MOLYBDENUM) (mg/L) Result',\n",
       "       'Ni-Diss-Water (NICKEL) (mg/L) Result',\n",
       "       'Pb-Diss-Water (LEAD) (mg/L) Result',\n",
       "       'Sr-Diss-Water (STRONTIUM) (mg/L) Result',\n",
       "       'V-Diss-Water (VANADIUM) (mg/L) Result',\n",
       "       'Zn-Diss-Water (ZINC) (mg/L) Result',\n",
       "       'E.COLI-Susp-Water (ESCHERICHIA COLI) (cfu/100mL) Result',\n",
       "       'E.COLI-SuspMPN-Water (ESCHERICHIA COLI BY MPN METHOD) (MPN/100mL) Result',\n",
       "       'Eh-Phys-Water (REDOX POTENTIAL) (mV) Result',\n",
       "       'Hydrogen-3-Water (TRITIUM ATOM RATIO WITH RESPECT TO HYDROGEN (3H/1H)) (TU) Result',\n",
       "       'O-Abs-Water (OXYGEN ABSORBED) (mg/L) Result',\n",
       "       'O-Diss-Water (OXYGEN DISSOLVED) (mg/L) Result',\n",
       "       'SOLIDS-Susp-Water (TOTAL SUSPENDED SOLIDS) (mg/L) Result',\n",
       "       'TC-SuspMPN-Water (TOTAL COLIFORM COUNT BY MPN METHOD) (MPN/100mL) Result',\n",
       "       'TEMP-Phys-Water (TEMPERATURE) (°C) Result'],\n",
       "      dtype='object')"
      ]
     },
     "execution_count": 54,
     "metadata": {},
     "output_type": "execute_result"
    }
   ],
   "source": [
    "filtered_r2.columns"
   ]
  },
  {
   "cell_type": "code",
   "execution_count": 55,
   "metadata": {},
   "outputs": [],
   "source": [
    "filtered_r2.rename(columns = {'Monitoring Point ID': 'ID Monitoring Point'}, inplace = True)"
   ]
  },
  {
   "cell_type": "code",
   "execution_count": 56,
   "metadata": {},
   "outputs": [
    {
     "name": "stdout",
     "output_type": "stream",
     "text": [
      "0 ID Monitoring Point\n",
      "1 Monitoring Point Name\n",
      "2 Latitude\n",
      "3 Longitude\n",
      "4 Located on Feature Name\n",
      "5 Located on Type\n",
      "6 Drainage Region Name\n",
      "7 Feature Reference Code\n",
      "8 Monitoring Active\n",
      "9 Sample Start Date\n",
      "10 Sample Start Time\n",
      "11 Sample End Date\n",
      "12 Sample End Time\n",
      "13 Time Interval\n",
      "14 Sample Start Depth\n",
      "15 Sample End Depth\n",
      "16 Depth Interval\n",
      "17 Preservative\n",
      "18 Action Type\n",
      "19 Al-Diss-Water (ALUMINIUM) (mg/L) Result\n",
      "20 As-Diss-Water (ARSENIC) (mg/L) Result\n",
      "21 B-Diss-Water (BORON) (mg/L) Result\n",
      "22 Ba-Diss-Water (BARIUM) (mg/L) Result\n",
      "23 COD (CHEMICAL OXYGEN DEMAND) (mg/L) Result\n",
      "24 Cd-Diss-Water (CADMIUM) (mg/L) Result\n",
      "25 Cr-Diss-Water (CHROMIUM) (mg/L) Result\n",
      "26 Cu-Diss-Water (COPPER) (mg/L) Result\n",
      "27 Fe-Diss-Water (IRON) (mg/L) Result\n",
      "28 Mn-Diss-Water (MANGANESE) (mg/L) Result\n",
      "29 Mo-Diss-Water (MOLYBDENUM) (mg/L) Result\n",
      "30 Ni-Diss-Water (NICKEL) (mg/L) Result\n",
      "31 Pb-Diss-Water (LEAD) (mg/L) Result\n",
      "32 Sr-Diss-Water (STRONTIUM) (mg/L) Result\n",
      "33 V-Diss-Water (VANADIUM) (mg/L) Result\n",
      "34 Zn-Diss-Water (ZINC) (mg/L) Result\n",
      "35 E.COLI-Susp-Water (ESCHERICHIA COLI) (cfu/100mL) Result\n",
      "36 E.COLI-SuspMPN-Water (ESCHERICHIA COLI BY MPN METHOD) (MPN/100mL) Result\n",
      "37 Eh-Phys-Water (REDOX POTENTIAL) (mV) Result\n",
      "38 Hydrogen-3-Water (TRITIUM ATOM RATIO WITH RESPECT TO HYDROGEN (3H/1H)) (TU) Result\n",
      "39 O-Abs-Water (OXYGEN ABSORBED) (mg/L) Result\n",
      "40 O-Diss-Water (OXYGEN DISSOLVED) (mg/L) Result\n",
      "41 SOLIDS-Susp-Water (TOTAL SUSPENDED SOLIDS) (mg/L) Result\n",
      "42 TC-SuspMPN-Water (TOTAL COLIFORM COUNT BY MPN METHOD) (MPN/100mL) Result\n",
      "43 TEMP-Phys-Water (TEMPERATURE) (°C) Result\n"
     ]
    }
   ],
   "source": [
    "for i, v in enumerate (filtered_r2.columns):\n",
    "    print(i, v)"
   ]
  },
  {
   "cell_type": "code",
   "execution_count": 57,
   "metadata": {},
   "outputs": [],
   "source": [
    "filtered_r2.rename(columns = lambda x : str(x)[:15], inplace = True)\n",
    "\n",
    "filtered_r2.rename(columns = {\n",
    "    \n",
    "'ID Monitoring P': 'Monitoring Point ID', 'Monitoring Poin': 'Monitoring Point Name',\n",
    "'Located on Feat': 'Located on Feature Name', 'Drainage Region': 'Drainage Region Name',\n",
    "'Feature Referen': 'Feature Reference Code', 'Monitoring Acti': 'Monitoring Active',\n",
    "'Sample Start Da':'Sample Start Date', 'Sample Start Ti':'Sample Start Time', 'Sample Start De':'Sample Start Depth',\n",
    "'Al-Diss-Water (': 'Al', 'As-Diss-Water (': 'As', 'B-Diss-Water (B': 'B', 'Ba-Diss-Water (': 'Ba', 'COD (CHEMICAL O': 'COD',\n",
    "'Cd-Diss-Water (': 'Cd', 'Cr-Diss-Water (': 'Cr', 'Cu-Diss-Water (': 'Cu', 'Fe-Diss-Water (': 'Fe', 'Mn-Diss-Water (': 'Mn', \n",
    "'Mo-Diss-Water (': 'Mo', 'Ni-Diss-Water (': 'Ni', 'Pb-Diss-Water (': 'Pb', 'Sr-Diss-Water (': 'Sr', 'V-Diss-Water (V': 'V',\n",
    "'Zn-Diss-Water (': 'Zn', 'E.COLI-Susp-Wat': 'E.COLI-Susp', 'E.COLI-SuspMPN-': 'E.COLI-SuspMPN', 'Eh-Phys-Water (': 'Eh-Phys',\n",
    "'Hydrogen-3-Wate': 'Hydrogen-3', 'O-Abs-Water (OX': 'O-Ab', 'O-Diss-Water (O': 'O', 'SOLIDS-Susp-Wat': 'SOLIDS-Susp',\n",
    "'TC-SuspMPN-Wate': 'TC-SuspMPN', 'TEMP-Phys-Water': 'TEMP-Phy'\n",
    "\n",
    "}, inplace = True)"
   ]
  },
  {
   "cell_type": "code",
   "execution_count": 58,
   "metadata": {},
   "outputs": [
    {
     "name": "stdout",
     "output_type": "stream",
     "text": [
      "<class 'pandas.core.frame.DataFrame'>\n",
      "RangeIndex: 630 entries, 0 to 629\n",
      "Data columns (total 44 columns):\n",
      "Monitoring Point ID        630 non-null int64\n",
      "Monitoring Point Name      630 non-null object\n",
      "Latitude                   630 non-null float64\n",
      "Longitude                  630 non-null float64\n",
      "Located on Feature Name    615 non-null object\n",
      "Located on Type            615 non-null object\n",
      "Drainage Region Name       630 non-null object\n",
      "Feature Reference Code     0 non-null float64\n",
      "Monitoring Active          630 non-null object\n",
      "Sample Start Date          543 non-null object\n",
      "Sample Start Time          543 non-null object\n",
      "Sample End Date            0 non-null float64\n",
      "Sample End Time            0 non-null float64\n",
      "Time Interval              0 non-null float64\n",
      "Sample Start Depth         445 non-null float64\n",
      "Sample End Dept            0 non-null float64\n",
      "Depth Interval             0 non-null float64\n",
      "Preservative               513 non-null object\n",
      "Action Type                543 non-null object\n",
      "Al                         25 non-null float64\n",
      "As                         26 non-null float64\n",
      "B                          27 non-null float64\n",
      "Ba                         26 non-null float64\n",
      "COD                        30 non-null float64\n",
      "Cd                         26 non-null float64\n",
      "Cr                         26 non-null float64\n",
      "Cu                         26 non-null float64\n",
      "Fe                         31 non-null float64\n",
      "Mn                         31 non-null float64\n",
      "Mo                         26 non-null float64\n",
      "Ni                         26 non-null float64\n",
      "Pb                         26 non-null float64\n",
      "Sr                         26 non-null float64\n",
      "V                          26 non-null float64\n",
      "Zn                         26 non-null float64\n",
      "E.COLI-Susp                12 non-null float64\n",
      "E.COLI-SuspMPN             3 non-null float64\n",
      "Eh-Phys                    1 non-null float64\n",
      "Hydrogen-3                 1 non-null float64\n",
      "O-Ab                       30 non-null float64\n",
      "O                          1 non-null float64\n",
      "SOLIDS-Susp                30 non-null float64\n",
      "TC-SuspMPN                 15 non-null float64\n",
      "TEMP-Phy                   441 non-null float64\n",
      "dtypes: float64(34), int64(1), object(9)\n",
      "memory usage: 216.7+ KB\n"
     ]
    }
   ],
   "source": [
    "filtered_r2.info()"
   ]
  },
  {
   "cell_type": "code",
   "execution_count": 59,
   "metadata": {},
   "outputs": [],
   "source": [
    "# Insert data source details i.e. data owner, contact, email and file name\n",
    "filtered_r2 ['dataowner'] = \"Department of Water and Sanitation South Africa\"\n",
    "filtered_r2 ['contact_person'] = \"Ramusiya, Fhedzisani\"\n",
    "filtered_r2 ['email'] = \"RamusiyaF@dws.gov.za\"\n",
    "filtered_r2 ['file_name'] = \"Ramotswa data 2 20190904.csv\""
   ]
  },
  {
   "cell_type": "code",
   "execution_count": 60,
   "metadata": {},
   "outputs": [
    {
     "data": {
      "text/html": [
       "<div>\n",
       "<style scoped>\n",
       "    .dataframe tbody tr th:only-of-type {\n",
       "        vertical-align: middle;\n",
       "    }\n",
       "\n",
       "    .dataframe tbody tr th {\n",
       "        vertical-align: top;\n",
       "    }\n",
       "\n",
       "    .dataframe thead th {\n",
       "        text-align: right;\n",
       "    }\n",
       "</style>\n",
       "<table border=\"1\" class=\"dataframe\">\n",
       "  <thead>\n",
       "    <tr style=\"text-align: right;\">\n",
       "      <th></th>\n",
       "      <th>Monitoring Point ID</th>\n",
       "      <th>Monitoring Point Name</th>\n",
       "      <th>Latitude</th>\n",
       "      <th>Longitude</th>\n",
       "      <th>Located on Feature Name</th>\n",
       "      <th>Located on Type</th>\n",
       "      <th>Drainage Region Name</th>\n",
       "      <th>Feature Reference Code</th>\n",
       "      <th>Monitoring Active</th>\n",
       "      <th>Sample Start Date</th>\n",
       "      <th>...</th>\n",
       "      <th>Hydrogen-3</th>\n",
       "      <th>O-Ab</th>\n",
       "      <th>O</th>\n",
       "      <th>SOLIDS-Susp</th>\n",
       "      <th>TC-SuspMPN</th>\n",
       "      <th>TEMP-Phy</th>\n",
       "      <th>dataowner</th>\n",
       "      <th>contact_person</th>\n",
       "      <th>email</th>\n",
       "      <th>file_name</th>\n",
       "    </tr>\n",
       "  </thead>\n",
       "  <tbody>\n",
       "    <tr>\n",
       "      <th>0</th>\n",
       "      <td>84958</td>\n",
       "      <td>A1E001 MOILWAS 900 JO (GOPANE) EVAPORATION STA...</td>\n",
       "      <td>-25.193581</td>\n",
       "      <td>25.801222</td>\n",
       "      <td>NaN</td>\n",
       "      <td>NaN</td>\n",
       "      <td>A10B</td>\n",
       "      <td>NaN</td>\n",
       "      <td>No</td>\n",
       "      <td>2000-05-30</td>\n",
       "      <td>...</td>\n",
       "      <td>NaN</td>\n",
       "      <td>NaN</td>\n",
       "      <td>NaN</td>\n",
       "      <td>NaN</td>\n",
       "      <td>NaN</td>\n",
       "      <td>NaN</td>\n",
       "      <td>Department of Water and Sanitation South Africa</td>\n",
       "      <td>Ramusiya, Fhedzisani</td>\n",
       "      <td>RamusiyaF@dws.gov.za</td>\n",
       "      <td>Ramotswa data 2 20190904.csv</td>\n",
       "    </tr>\n",
       "    <tr>\n",
       "      <th>1</th>\n",
       "      <td>84961</td>\n",
       "      <td>2525DB00395 TWEEFONTEIN UPPER (A1G003) - WR70</td>\n",
       "      <td>-25.545400</td>\n",
       "      <td>25.940800</td>\n",
       "      <td>2525DB00395 TWEEFONTEIN UPPER (A1H003) - WR70</td>\n",
       "      <td>Spring/Eye</td>\n",
       "      <td>A10A</td>\n",
       "      <td>NaN</td>\n",
       "      <td>No</td>\n",
       "      <td>2007-11-17</td>\n",
       "      <td>...</td>\n",
       "      <td>NaN</td>\n",
       "      <td>NaN</td>\n",
       "      <td>NaN</td>\n",
       "      <td>NaN</td>\n",
       "      <td>NaN</td>\n",
       "      <td>NaN</td>\n",
       "      <td>Department of Water and Sanitation South Africa</td>\n",
       "      <td>Ramusiya, Fhedzisani</td>\n",
       "      <td>RamusiyaF@dws.gov.za</td>\n",
       "      <td>Ramotswa data 2 20190904.csv</td>\n",
       "    </tr>\n",
       "  </tbody>\n",
       "</table>\n",
       "<p>2 rows × 48 columns</p>\n",
       "</div>"
      ],
      "text/plain": [
       "   Monitoring Point ID                              Monitoring Point Name  \\\n",
       "0                84958  A1E001 MOILWAS 900 JO (GOPANE) EVAPORATION STA...   \n",
       "1                84961      2525DB00395 TWEEFONTEIN UPPER (A1G003) - WR70   \n",
       "\n",
       "    Latitude  Longitude                        Located on Feature Name  \\\n",
       "0 -25.193581  25.801222                                            NaN   \n",
       "1 -25.545400  25.940800  2525DB00395 TWEEFONTEIN UPPER (A1H003) - WR70   \n",
       "\n",
       "  Located on Type Drainage Region Name  Feature Reference Code  \\\n",
       "0             NaN                 A10B                     NaN   \n",
       "1      Spring/Eye                 A10A                     NaN   \n",
       "\n",
       "  Monitoring Active Sample Start Date  ... Hydrogen-3  O-Ab   O  SOLIDS-Susp  \\\n",
       "0                No        2000-05-30  ...        NaN   NaN NaN          NaN   \n",
       "1                No        2007-11-17  ...        NaN   NaN NaN          NaN   \n",
       "\n",
       "   TC-SuspMPN  TEMP-Phy                                        dataowner  \\\n",
       "0         NaN       NaN  Department of Water and Sanitation South Africa   \n",
       "1         NaN       NaN  Department of Water and Sanitation South Africa   \n",
       "\n",
       "         contact_person                 email                     file_name  \n",
       "0  Ramusiya, Fhedzisani  RamusiyaF@dws.gov.za  Ramotswa data 2 20190904.csv  \n",
       "1  Ramusiya, Fhedzisani  RamusiyaF@dws.gov.za  Ramotswa data 2 20190904.csv  \n",
       "\n",
       "[2 rows x 48 columns]"
      ]
     },
     "execution_count": 60,
     "metadata": {},
     "output_type": "execute_result"
    }
   ],
   "source": [
    "filtered_r2.head(2)"
   ]
  },
  {
   "cell_type": "code",
   "execution_count": 61,
   "metadata": {},
   "outputs": [],
   "source": [
    "# use this merge for ramotswa 1 and 2\n",
    "# ramotswa_merged = pd.merge (ramotswa1, ramotswa2, on = \"Monitor.ing Point ID\", how = \"inner\", copy = False)"
   ]
  },
  {
   "cell_type": "markdown",
   "metadata": {},
   "source": [
    "Ramotswa variables inventory 20190904.csv\n",
    "\n",
    "SITE_INFORA10A.csv\n",
    "\n",
    "A1H001 Upper Eye Dinokana.xlsx\n",
    "A1H002 Lower Eye Dinokana.xlsx\n",
    "A1H003 Upper Eye Tweefontein.xlsx\n",
    "A1H004 Lower Eye Tweefontein.xlsx\n",
    "A1H005 Skilpad Eye.xlsx\n",
    "\n",
    "Ramotswa study area plus 10km.xlsx"
   ]
  },
  {
   "cell_type": "markdown",
   "metadata": {},
   "source": [
    "## Reading in ramotswa_inventory"
   ]
  },
  {
   "cell_type": "code",
   "execution_count": 62,
   "metadata": {},
   "outputs": [
    {
     "data": {
      "text/html": [
       "<div>\n",
       "<style scoped>\n",
       "    .dataframe tbody tr th:only-of-type {\n",
       "        vertical-align: middle;\n",
       "    }\n",
       "\n",
       "    .dataframe tbody tr th {\n",
       "        vertical-align: top;\n",
       "    }\n",
       "\n",
       "    .dataframe thead th {\n",
       "        text-align: right;\n",
       "    }\n",
       "</style>\n",
       "<table border=\"1\" class=\"dataframe\">\n",
       "  <thead>\n",
       "    <tr style=\"text-align: right;\">\n",
       "      <th></th>\n",
       "      <th>Monitoring Point ID</th>\n",
       "      <th>Monitoring Point Name</th>\n",
       "      <th>Latitude</th>\n",
       "      <th>Longitude</th>\n",
       "      <th>Located on Feature Name</th>\n",
       "      <th>Located on Type</th>\n",
       "      <th>Drainage Region Name</th>\n",
       "      <th>Feature Reference Code</th>\n",
       "      <th>Monitoring Active</th>\n",
       "      <th>Monitoring Variable</th>\n",
       "      <th>Measuring Unit</th>\n",
       "      <th>Number of Analyses</th>\n",
       "      <th>First Analyses</th>\n",
       "      <th>Last Analyses</th>\n",
       "    </tr>\n",
       "  </thead>\n",
       "  <tbody>\n",
       "    <tr>\n",
       "      <th>0</th>\n",
       "      <td>101022</td>\n",
       "      <td>TWEEFONTEIN (DUP NAME 6700)</td>\n",
       "      <td>-25.541667</td>\n",
       "      <td>25.95</td>\n",
       "      <td>NaN</td>\n",
       "      <td>NaN</td>\n",
       "      <td>A10A</td>\n",
       "      <td>NaN</td>\n",
       "      <td>No</td>\n",
       "      <td>ASAR-Diss-Water</td>\n",
       "      <td>NaN</td>\n",
       "      <td>1</td>\n",
       "      <td>1990-05-15</td>\n",
       "      <td>1990-05-15</td>\n",
       "    </tr>\n",
       "    <tr>\n",
       "      <th>1</th>\n",
       "      <td>101022</td>\n",
       "      <td>TWEEFONTEIN (DUP NAME 6700)</td>\n",
       "      <td>-25.541667</td>\n",
       "      <td>25.95</td>\n",
       "      <td>NaN</td>\n",
       "      <td>NaN</td>\n",
       "      <td>A10A</td>\n",
       "      <td>NaN</td>\n",
       "      <td>No</td>\n",
       "      <td>CORR-Diss-Water</td>\n",
       "      <td>NaN</td>\n",
       "      <td>1</td>\n",
       "      <td>1990-05-15</td>\n",
       "      <td>1990-05-15</td>\n",
       "    </tr>\n",
       "  </tbody>\n",
       "</table>\n",
       "</div>"
      ],
      "text/plain": [
       "   Monitoring Point ID        Monitoring Point Name   Latitude  Longitude  \\\n",
       "0               101022  TWEEFONTEIN (DUP NAME 6700) -25.541667      25.95   \n",
       "1               101022  TWEEFONTEIN (DUP NAME 6700) -25.541667      25.95   \n",
       "\n",
       "  Located on Feature Name Located on Type Drainage Region Name  \\\n",
       "0                     NaN             NaN                 A10A   \n",
       "1                     NaN             NaN                 A10A   \n",
       "\n",
       "   Feature Reference Code Monitoring Active Monitoring Variable  \\\n",
       "0                     NaN                No     ASAR-Diss-Water   \n",
       "1                     NaN                No     CORR-Diss-Water   \n",
       "\n",
       "  Measuring Unit  Number of Analyses First Analyses Last Analyses  \n",
       "0            NaN                   1     1990-05-15    1990-05-15  \n",
       "1            NaN                   1     1990-05-15    1990-05-15  "
      ]
     },
     "execution_count": 62,
     "metadata": {},
     "output_type": "execute_result"
    }
   ],
   "source": [
    "ramotswa_inventory = pd.read_csv('Ramotswa variables inventory 20190904.csv', header = 0, encoding = 'unicode_escape')\n",
    "ramotswa_inventory.head(2)"
   ]
  },
  {
   "cell_type": "markdown",
   "metadata": {},
   "source": [
    "### Assessing ramotswa_inventory"
   ]
  },
  {
   "cell_type": "code",
   "execution_count": 63,
   "metadata": {},
   "outputs": [
    {
     "name": "stdout",
     "output_type": "stream",
     "text": [
      "<class 'pandas.core.frame.DataFrame'>\n",
      "RangeIndex: 3299 entries, 0 to 3298\n",
      "Data columns (total 14 columns):\n",
      "Monitoring Point ID        3299 non-null int64\n",
      "Monitoring Point Name      3299 non-null object\n",
      "Latitude                   3299 non-null float64\n",
      "Longitude                  3299 non-null float64\n",
      "Located on Feature Name    2924 non-null object\n",
      "Located on Type            2924 non-null object\n",
      "Drainage Region Name       3299 non-null object\n",
      "Feature Reference Code     0 non-null float64\n",
      "Monitoring Active          3299 non-null object\n",
      "Monitoring Variable        3299 non-null object\n",
      "Measuring Unit             2517 non-null object\n",
      "Number of Analyses         3299 non-null int64\n",
      "First Analyses             3299 non-null object\n",
      "Last Analyses              3299 non-null object\n",
      "dtypes: float64(3), int64(2), object(9)\n",
      "memory usage: 361.0+ KB\n"
     ]
    }
   ],
   "source": [
    "ramotswa_inventory.info()"
   ]
  },
  {
   "cell_type": "code",
   "execution_count": 64,
   "metadata": {},
   "outputs": [
    {
     "data": {
      "text/plain": [
       "array([    101022,     101553, 1000004210,      95419,     150694,\n",
       "           150695,     150696,     150702,     150703,     150704,\n",
       "           150705, 1000260782,     189482,      84961,      84962,\n",
       "            88622,      88626,     101555,     101556,     101764,\n",
       "           101765,     101766,     101767,     101768,      84958,\n",
       "           100306,     174644,      90075,      90076,      99815,\n",
       "            99816,      95416,      95417,     150717,     150725,\n",
       "           150739,     150740,     150741,     150742,     150743,\n",
       "           150748,     150749,     150750,     150751,     150786,\n",
       "           150796,     150797,     166760,     166827,     166901,\n",
       "           166915, 1000259988,     193665,      90300,      90302,\n",
       "            88621,      88627,      99819,     100311,     100312,\n",
       "           100313, 1000260071,      89822,      89892,      95418,\n",
       "            95448,      97094,      97095,     150697,     150698,\n",
       "           150699,     150706,     150707,     150708,     150709,\n",
       "           150711,     150712,     150713,     150714,     150715,\n",
       "           150716,     150718,     150719,     150720,     150721,\n",
       "           150722,     150723,     150724,     150747,     150803,\n",
       "           150804,     150813,     166899,     166914,     167389,\n",
       "           167390,     167392,     167393,     167394,     188254,\n",
       "            90298,      90299,      90308,      90309,     174176,\n",
       "            90109,     175532,     177753,     162887, 1000260784,\n",
       "       1000259989,      95415,     150787,     166900,     194658,\n",
       "           194662,     194664,     194666,     194668,     194670,\n",
       "           194672,     194674,  900190112,  900190139, 1000259984,\n",
       "           161703], dtype=int64)"
      ]
     },
     "execution_count": 64,
     "metadata": {},
     "output_type": "execute_result"
    }
   ],
   "source": [
    "ramotswa_inventory ['Monitoring Point ID'].unique()"
   ]
  },
  {
   "cell_type": "code",
   "execution_count": 65,
   "metadata": {},
   "outputs": [
    {
     "data": {
      "text/plain": [
       "89822     44\n",
       "101556    42\n",
       "90109     42\n",
       "90075     42\n",
       "101764    42\n",
       "          ..\n",
       "90299     14\n",
       "193665    11\n",
       "194658     9\n",
       "194668     9\n",
       "194670     7\n",
       "Name: Monitoring Point ID, Length: 126, dtype: int64"
      ]
     },
     "execution_count": 65,
     "metadata": {},
     "output_type": "execute_result"
    }
   ],
   "source": [
    "ramotswa_inventory ['Monitoring Point ID'].value_counts()"
   ]
  },
  {
   "cell_type": "code",
   "execution_count": 66,
   "metadata": {},
   "outputs": [
    {
     "name": "stdout",
     "output_type": "stream",
     "text": [
      "[nan 'mg/L' 'mS/m' 'pH units' '°C' 'cfu/100mL' 'MPN/100mL' 'mV' 'TU']\n",
      "8\n"
     ]
    }
   ],
   "source": [
    "print(ramotswa_inventory ['Measuring Unit'].unique())\n",
    "print(ramotswa_inventory ['Measuring Unit'].nunique())"
   ]
  },
  {
   "cell_type": "code",
   "execution_count": 67,
   "metadata": {},
   "outputs": [
    {
     "name": "stdout",
     "output_type": "stream",
     "text": [
      "['ASAR-Diss-Water' 'CORR-Diss-Water' 'Ca-Diss-Water' 'Cl-Diss-Water'\n",
      " 'DMS-Tot-Water' 'EC-Phys-Water' 'F-Diss-Water' 'HARD-Mg-Calc-Water'\n",
      " 'HARD-Tot-Water' 'K-Diss-Water' 'LANGL-Index-Water' 'Mg-Diss-Water'\n",
      " 'NH3(25)-Union-Diss-W' 'NH4-N-Diss-Water' 'NO3+NO2-N-Diss-Water'\n",
      " 'Na-Diss-Water' 'PO4-P-Diss-Water' 'RYZNAR-Index-Water' 'SAR-Diss-Water'\n",
      " 'SO4-Diss-Water' 'Si-Diss-Water' 'TAL-Diss-Water' 'pH-Diss-Water'\n",
      " 'pHs-Calc-Water' 'TEMP-Phys-Water' 'Al-Diss-Water' 'As-Diss-Water'\n",
      " 'B-Diss-Water' 'Ba-Diss-Water' 'Cd-Diss-Water' 'Cr-Diss-Water'\n",
      " 'Cu-Diss-Water' 'Fe-Diss-Water' 'Mn-Diss-Water' 'Mo-Diss-Water'\n",
      " 'Ni-Diss-Water' 'Pb-Diss-Water' 'SO4Ion/MajAnions-Wat'\n",
      " 'SO4Ion/TotAnions-Wat' 'Sr-Diss-Water' 'V-Diss-Water' 'Zn-Diss-Water'\n",
      " 'COD' 'E.COLI-Susp-Water' 'NO2-N-Diss-Water' 'O-Abs-Water'\n",
      " 'SOLIDS-Susp-Water' 'TC-SuspMPN-Water' 'KJEL N-Tot-Water'\n",
      " 'N-Tot-Calc-Water' 'P-Tot-Water' 'Eh-Phys-Water' 'Hydrogen-3-Water'\n",
      " 'O-Diss-Water' 'E.COLI-SuspMPN-Water']\n",
      "55\n"
     ]
    }
   ],
   "source": [
    "print(ramotswa_inventory ['Monitoring Variable'].unique())\n",
    "print(ramotswa_inventory ['Monitoring Variable'].nunique())"
   ]
  },
  {
   "cell_type": "markdown",
   "metadata": {},
   "source": [
    "### Cleaning ramotswa_inventory"
   ]
  },
  {
   "cell_type": "markdown",
   "metadata": {},
   "source": [
    "- Missing values for Located on Feature Name, Located on Type and Measuring Unit.\n",
    "- Columns Feature Reference Code has no data\n",
    "- Units of measurements"
   ]
  },
  {
   "cell_type": "markdown",
   "metadata": {},
   "source": [
    "#### Issues listed with ramotswa_inventory"
   ]
  },
  {
   "cell_type": "markdown",
   "metadata": {},
   "source": [
    "## site_info_10A"
   ]
  },
  {
   "cell_type": "code",
   "execution_count": 42,
   "metadata": {},
   "outputs": [
    {
     "data": {
      "text/html": [
       "<div>\n",
       "<style scoped>\n",
       "    .dataframe tbody tr th:only-of-type {\n",
       "        vertical-align: middle;\n",
       "    }\n",
       "\n",
       "    .dataframe tbody tr th {\n",
       "        vertical-align: top;\n",
       "    }\n",
       "\n",
       "    .dataframe thead th {\n",
       "        text-align: right;\n",
       "    }\n",
       "</style>\n",
       "<table border=\"1\" class=\"dataframe\">\n",
       "  <thead>\n",
       "    <tr style=\"text-align: right;\">\n",
       "      <th></th>\n",
       "      <th>station</th>\n",
       "      <th>stname</th>\n",
       "      <th>shortname</th>\n",
       "      <th>mapname</th>\n",
       "      <th>zone</th>\n",
       "      <th>easting</th>\n",
       "      <th>northing</th>\n",
       "      <th>grdatum</th>\n",
       "      <th>latitude</th>\n",
       "      <th>longitude</th>\n",
       "      <th>...</th>\n",
       "      <th>water quality monitoring</th>\n",
       "      <th>monitoring frequency</th>\n",
       "      <th>old wma</th>\n",
       "      <th>water supply system</th>\n",
       "      <th>department number</th>\n",
       "      <th>district municipality</th>\n",
       "      <th>local municipality</th>\n",
       "      <th>groundwater consumer</th>\n",
       "      <th>weather bureau station</th>\n",
       "      <th>wms identifier</th>\n",
       "    </tr>\n",
       "  </thead>\n",
       "  <tbody>\n",
       "    <tr>\n",
       "      <th>0</th>\n",
       "      <td>A1N0001</td>\n",
       "      <td>Tweefontein</td>\n",
       "      <td>BOMOLOPO</td>\n",
       "      <td>NaN</td>\n",
       "      <td>0</td>\n",
       "      <td>0</td>\n",
       "      <td>0</td>\n",
       "      <td>Unknown</td>\n",
       "      <td>-25.549722</td>\n",
       "      <td>25.9275</td>\n",
       "      <td>...</td>\n",
       "      <td>Unknown</td>\n",
       "      <td>Quarterly Monitoring</td>\n",
       "      <td>Crocodile (West) and Marico</td>\n",
       "      <td>(None)</td>\n",
       "      <td>Unknown</td>\n",
       "      <td>Ngaka Modiri Molema</td>\n",
       "      <td>Ramotshere Moiloa</td>\n",
       "      <td>Unknown</td>\n",
       "      <td>Unknown</td>\n",
       "      <td>Unknown</td>\n",
       "    </tr>\n",
       "  </tbody>\n",
       "</table>\n",
       "<p>1 rows × 50 columns</p>\n",
       "</div>"
      ],
      "text/plain": [
       "   station       stname shortname mapname  zone  easting  northing  grdatum  \\\n",
       "0  A1N0001  Tweefontein  BOMOLOPO     NaN     0        0         0  Unknown   \n",
       "\n",
       "    latitude  longitude  ... water quality monitoring  monitoring frequency  \\\n",
       "0 -25.549722    25.9275  ...                  Unknown  Quarterly Monitoring   \n",
       "\n",
       "                       old wma water supply system department number  \\\n",
       "0  Crocodile (West) and Marico              (None)           Unknown   \n",
       "\n",
       "   district municipality  local municipality  groundwater consumer  \\\n",
       "0    Ngaka Modiri Molema   Ramotshere Moiloa               Unknown   \n",
       "\n",
       "   weather bureau station  wms identifier  \n",
       "0                 Unknown         Unknown  \n",
       "\n",
       "[1 rows x 50 columns]"
      ]
     },
     "execution_count": 42,
     "metadata": {},
     "output_type": "execute_result"
    }
   ],
   "source": [
    "#basic information of sites, rename and lower case\n",
    "\n",
    "site_info_10A = pd.read_csv ('SITE_INFORA10A.csv')\n",
    "site_info_10A.rename(columns = lambda x: x.strip().lower(), inplace = True)\n",
    "site_info_10A.rename({'#station': 'station'}, axis = 1, inplace = True)\n",
    "\n",
    "site_info_10A.head(1)"
   ]
  },
  {
   "cell_type": "markdown",
   "metadata": {},
   "source": [
    "### Assessing site_info_10A"
   ]
  },
  {
   "cell_type": "code",
   "execution_count": 466,
   "metadata": {},
   "outputs": [
    {
     "name": "stdout",
     "output_type": "stream",
     "text": [
      "<class 'pandas.core.frame.DataFrame'>\n",
      "RangeIndex: 16 entries, 0 to 15\n",
      "Data columns (total 50 columns):\n",
      "station                                              16 non-null object\n",
      "stname                                               16 non-null object\n",
      "shortname                                            12 non-null object\n",
      "mapname                                              8 non-null object\n",
      "zone                                                 16 non-null int64\n",
      "easting                                              16 non-null int64\n",
      "northing                                             16 non-null int64\n",
      "grdatum                                              16 non-null object\n",
      "latitude                                             16 non-null float64\n",
      "longitude                                            16 non-null float64\n",
      "lldatum                                              16 non-null object\n",
      "posacc                                               16 non-null object\n",
      "elev                                                 16 non-null int64\n",
      "elevdatum                                            16 non-null object\n",
      "elevacc                                              16 non-null object\n",
      "local_map                                            0 non-null float64\n",
      "timezone                                             16 non-null int64\n",
      "qquarter                                             0 non-null float64\n",
      "quarter                                              0 non-null float64\n",
      "section                                              16 non-null int64\n",
      "township                                             0 non-null float64\n",
      "range                                                0 non-null float64\n",
      "meridian                                             16 non-null object\n",
      "active                                               16 non-null object\n",
      "owner                                                16 non-null int64\n",
      "commence                                             16 non-null object\n",
      "cease                                                14 non-null object\n",
      "stntype                                              16 non-null object\n",
      "region                                               16 non-null object\n",
      "orgcode                                              16 non-null object\n",
      "barcode                                              15 non-null object\n",
      "quaternary drainage region                           16 non-null object\n",
      "site survey / registration number                    0 non-null float64\n",
      "province                                             16 non-null object\n",
      "wma                                                  16 non-null object\n",
      "calibration type (structure / flow rating method)    16 non-null object\n",
      "site description                                     16 non-null object\n",
      "station classification                               16 non-null object\n",
      "data collected                                       16 non-null object\n",
      "flood calculations                                   16 non-null object\n",
      "water quality monitoring                             16 non-null object\n",
      "monitoring frequency                                 16 non-null object\n",
      "old wma                                              16 non-null object\n",
      "water supply system                                  16 non-null object\n",
      "department number                                    16 non-null object\n",
      "district municipality                                16 non-null object\n",
      "local municipality                                   16 non-null object\n",
      "groundwater consumer                                 16 non-null object\n",
      "weather bureau station                               16 non-null object\n",
      "wms identifier                                       16 non-null object\n",
      "dtypes: float64(8), int64(7), object(35)\n",
      "memory usage: 6.4+ KB\n"
     ]
    }
   ],
   "source": [
    "site_info_10A.info()"
   ]
  },
  {
   "cell_type": "code",
   "execution_count": 472,
   "metadata": {},
   "outputs": [
    {
     "data": {
      "text/plain": [
       "array(['A1N0001', 'A1N0002', 'A1N0003', 'A3H012', 'A3N0015', 'A3N0513',\n",
       "       'A3N0514', 'A3N0516', 'A3N0519', 'A3N0521', 'D4N1468', 'D4N1658',\n",
       "       'D4N1666', 'D4N2515', 'D4N2516', 'D4N2517'], dtype=object)"
      ]
     },
     "execution_count": 472,
     "metadata": {},
     "output_type": "execute_result"
    }
   ],
   "source": [
    "site_info_10A ['station'].unique()"
   ]
  },
  {
   "cell_type": "markdown",
   "metadata": {},
   "source": [
    "### cleaning site_info_10A"
   ]
  },
  {
   "cell_type": "code",
   "execution_count": null,
   "metadata": {},
   "outputs": [],
   "source": []
  },
  {
   "cell_type": "markdown",
   "metadata": {},
   "source": [
    "- Fill blanks, fill NaN\n",
    "- Replace (None) under water supply systems"
   ]
  },
  {
   "cell_type": "markdown",
   "metadata": {},
   "source": [
    "## Reading in excel files"
   ]
  },
  {
   "cell_type": "code",
   "execution_count": 68,
   "metadata": {},
   "outputs": [],
   "source": [
    "files2 = ['A1H001 Upper Eye Dinokana.xlsx', 'A1H002 Lower Eye Dinokana.xlsx', 'A1H003 Upper Eye Tweefontein.xlsx',\n",
    "          'A1H004 Lower Eye Tweefontein.xlsx', 'A1H005 Skilpad Eye.xlsx']"
   ]
  },
  {
   "cell_type": "code",
   "execution_count": 69,
   "metadata": {},
   "outputs": [],
   "source": [
    "A1 = pd.DataFrame()"
   ]
  },
  {
   "cell_type": "code",
   "execution_count": 70,
   "metadata": {},
   "outputs": [
    {
     "data": {
      "text/html": [
       "<div>\n",
       "<style scoped>\n",
       "    .dataframe tbody tr th:only-of-type {\n",
       "        vertical-align: middle;\n",
       "    }\n",
       "\n",
       "    .dataframe tbody tr th {\n",
       "        vertical-align: top;\n",
       "    }\n",
       "\n",
       "    .dataframe thead th {\n",
       "        text-align: right;\n",
       "    }\n",
       "</style>\n",
       "<table border=\"1\" class=\"dataframe\">\n",
       "  <thead>\n",
       "    <tr style=\"text-align: right;\">\n",
       "      <th></th>\n",
       "      <th>date</th>\n",
       "      <th>mean_discharge_cumecs</th>\n",
       "      <th>qual</th>\n",
       "      <th>name</th>\n",
       "    </tr>\n",
       "  </thead>\n",
       "  <tbody>\n",
       "    <tr>\n",
       "      <th>0</th>\n",
       "      <td>1960-05-10 00:00:00</td>\n",
       "      <td>NaN</td>\n",
       "      <td>255</td>\n",
       "      <td>A1H001</td>\n",
       "    </tr>\n",
       "    <tr>\n",
       "      <th>1</th>\n",
       "      <td>1960-05-11 00:00:00</td>\n",
       "      <td>0.095</td>\n",
       "      <td>26</td>\n",
       "      <td>A1H001</td>\n",
       "    </tr>\n",
       "    <tr>\n",
       "      <th>2</th>\n",
       "      <td>1960-05-12 00:00:00</td>\n",
       "      <td>0.095</td>\n",
       "      <td>26</td>\n",
       "      <td>A1H001</td>\n",
       "    </tr>\n",
       "    <tr>\n",
       "      <th>3</th>\n",
       "      <td>1960-05-13 00:00:00</td>\n",
       "      <td>0.095</td>\n",
       "      <td>26</td>\n",
       "      <td>A1H001</td>\n",
       "    </tr>\n",
       "    <tr>\n",
       "      <th>4</th>\n",
       "      <td>1960-05-14 00:00:00</td>\n",
       "      <td>0.095</td>\n",
       "      <td>26</td>\n",
       "      <td>A1H001</td>\n",
       "    </tr>\n",
       "  </tbody>\n",
       "</table>\n",
       "</div>"
      ],
      "text/plain": [
       "                  date mean_discharge_cumecs qual    name\n",
       "0  1960-05-10 00:00:00                   NaN  255  A1H001\n",
       "1  1960-05-11 00:00:00                 0.095   26  A1H001\n",
       "2  1960-05-12 00:00:00                 0.095   26  A1H001\n",
       "3  1960-05-13 00:00:00                 0.095   26  A1H001\n",
       "4  1960-05-14 00:00:00                 0.095   26  A1H001"
      ]
     },
     "execution_count": 70,
     "metadata": {},
     "output_type": "execute_result"
    }
   ],
   "source": [
    "for f in files2:\n",
    "    df = pd.read_excel(f, header = None, parse_dates = True)\n",
    "    df [\"name\"] = df.iloc[0,1][0:6] # gets the name from the the position located in the excel file, creates a new column and \n",
    "                                    # fills in the name of the site\n",
    "    df = df.iloc[4:, :]\n",
    "    df.columns = [\"date\", \"mean_discharge_cumecs\", \"qual\", \"name\"]\n",
    "    A1 = A1.append(df, ignore_index = True)\n",
    "\n",
    "A1.head()"
   ]
  },
  {
   "cell_type": "markdown",
   "metadata": {},
   "source": [
    "### Assessing excel files"
   ]
  },
  {
   "cell_type": "code",
   "execution_count": 72,
   "metadata": {},
   "outputs": [
    {
     "name": "stdout",
     "output_type": "stream",
     "text": [
      "<class 'pandas.core.frame.DataFrame'>\n",
      "RangeIndex: 68384 entries, 0 to 68383\n",
      "Data columns (total 4 columns):\n",
      "date                     68384 non-null object\n",
      "mean_discharge_cumecs    62927 non-null object\n",
      "qual                     68384 non-null object\n",
      "name                     68384 non-null object\n",
      "dtypes: object(4)\n",
      "memory usage: 2.1+ MB\n"
     ]
    }
   ],
   "source": [
    "A1.info()"
   ]
  },
  {
   "cell_type": "code",
   "execution_count": 93,
   "metadata": {},
   "outputs": [
    {
     "name": "stdout",
     "output_type": "stream",
     "text": [
      "0       1960-05-10\n",
      "21210   1960-05-10\n",
      "21211   1960-05-11\n",
      "1       1960-05-11\n",
      "21212   1960-05-12\n",
      "           ...    \n",
      "21205   2018-05-31\n",
      "21206   2018-06-01\n",
      "21207   2018-06-02\n",
      "21208   2018-06-03\n",
      "21209   2018-06-04\n",
      "Name: date, Length: 68384, dtype: datetime64[ns]\n"
     ]
    }
   ],
   "source": [
    "print (A1 ['date'].sort_values())"
   ]
  },
  {
   "cell_type": "code",
   "execution_count": 89,
   "metadata": {},
   "outputs": [
    {
     "name": "stdout",
     "output_type": "stream",
     "text": [
      "1960-05-10 00:00:00\n",
      "2018-06-04 00:00:00\n"
     ]
    }
   ],
   "source": [
    "print (A1 ['date'].sort_values().min())\n",
    "print (A1 ['date'].sort_values().max())"
   ]
  },
  {
   "cell_type": "code",
   "execution_count": 78,
   "metadata": {},
   "outputs": [
    {
     "data": {
      "text/plain": [
       "0.004    2709\n",
       "0.000    2462\n",
       "0.001    1939\n",
       "0.003    1926\n",
       "0.011    1901\n",
       "         ... \n",
       "0.263       1\n",
       "0.308       1\n",
       "0.290       1\n",
       "0.327       1\n",
       "0.272       1\n",
       "Name: mean_discharge_cumecs, Length: 271, dtype: int64"
      ]
     },
     "execution_count": 78,
     "metadata": {},
     "output_type": "execute_result"
    }
   ],
   "source": [
    "A1 ['mean_discharge_cumecs'].value_counts() "
   ]
  },
  {
   "cell_type": "code",
   "execution_count": 73,
   "metadata": {},
   "outputs": [
    {
     "data": {
      "text/plain": [
       "array([255, 26, 170, 1, 64, 2, 151, 47, 44, 60], dtype=object)"
      ]
     },
     "execution_count": 73,
     "metadata": {},
     "output_type": "execute_result"
    }
   ],
   "source": [
    "A1 ['qual'].unique()"
   ]
  },
  {
   "cell_type": "code",
   "execution_count": 74,
   "metadata": {},
   "outputs": [
    {
     "data": {
      "text/plain": [
       "array(['A1H001', 'A1H002', 'A1H003', 'A1H004', 'A1H005'], dtype=object)"
      ]
     },
     "execution_count": 74,
     "metadata": {},
     "output_type": "execute_result"
    }
   ],
   "source": [
    "A1 ['name'].unique()"
   ]
  },
  {
   "cell_type": "markdown",
   "metadata": {},
   "source": [
    "### Cleaning excel files"
   ]
  },
  {
   "cell_type": "markdown",
   "metadata": {},
   "source": [
    "- mean_discahrge_cumecs has missing data \n",
    "- Change qual number to number description\n",
    "- Fix date column\n",
    "- Convert discharge estimates to appropriate units?\n",
    "- No Coordinates "
   ]
  },
  {
   "cell_type": "code",
   "execution_count": 115,
   "metadata": {},
   "outputs": [],
   "source": [
    "A1_clean = A1.copy()"
   ]
  },
  {
   "cell_type": "code",
   "execution_count": 116,
   "metadata": {},
   "outputs": [
    {
     "data": {
      "text/html": [
       "<div>\n",
       "<style scoped>\n",
       "    .dataframe tbody tr th:only-of-type {\n",
       "        vertical-align: middle;\n",
       "    }\n",
       "\n",
       "    .dataframe tbody tr th {\n",
       "        vertical-align: top;\n",
       "    }\n",
       "\n",
       "    .dataframe thead th {\n",
       "        text-align: right;\n",
       "    }\n",
       "</style>\n",
       "<table border=\"1\" class=\"dataframe\">\n",
       "  <thead>\n",
       "    <tr style=\"text-align: right;\">\n",
       "      <th></th>\n",
       "      <th>date</th>\n",
       "      <th>mean_discharge_cumecs</th>\n",
       "      <th>qual</th>\n",
       "      <th>name</th>\n",
       "      <th>quality_desc</th>\n",
       "    </tr>\n",
       "  </thead>\n",
       "  <tbody>\n",
       "    <tr>\n",
       "      <th>0</th>\n",
       "      <td>1960-05-10 00:00:00</td>\n",
       "      <td>NaN</td>\n",
       "      <td>255</td>\n",
       "      <td>A1H001</td>\n",
       "      <td>Missing data</td>\n",
       "    </tr>\n",
       "    <tr>\n",
       "      <th>1</th>\n",
       "      <td>1960-05-11 00:00:00</td>\n",
       "      <td>0.095</td>\n",
       "      <td>26</td>\n",
       "      <td>A1H001</td>\n",
       "      <td>Audited Gauge Plate Readings / dip level readings</td>\n",
       "    </tr>\n",
       "  </tbody>\n",
       "</table>\n",
       "</div>"
      ],
      "text/plain": [
       "                  date mean_discharge_cumecs qual    name  \\\n",
       "0  1960-05-10 00:00:00                   NaN  255  A1H001   \n",
       "1  1960-05-11 00:00:00                 0.095   26  A1H001   \n",
       "\n",
       "                                        quality_desc  \n",
       "0                                       Missing data  \n",
       "1  Audited Gauge Plate Readings / dip level readings  "
      ]
     },
     "execution_count": 116,
     "metadata": {},
     "output_type": "execute_result"
    }
   ],
   "source": [
    "A1_clean ['quality_desc'] = A1_clean ['qual'].map({\n",
    "    \n",
    "255: 'Missing data', 26: 'Audited Gauge Plate Readings / dip level readings',\n",
    "170: 'Period of No Record (PNR)', 1: 'Good continuous data', 64: 'Audited Estimate',\n",
    "2: 'Good edited data', 151: 'Data Missing', 47: 'Edited and checked\\044 still unaudited',\n",
    "44: 'Checked\\044 still unaudited', 60: 'Above Rating'   \n",
    "    \n",
    "})\n",
    "A1_clean.head(2)"
   ]
  },
  {
   "cell_type": "code",
   "execution_count": 117,
   "metadata": {},
   "outputs": [
    {
     "data": {
      "text/plain": [
       "array(['Missing data',\n",
       "       'Audited Gauge Plate Readings / dip level readings',\n",
       "       'Period of No Record (PNR)', 'Good continuous data',\n",
       "       'Audited Estimate', 'Good edited data', 'Data Missing',\n",
       "       'Edited and checked$ still unaudited', 'Checked$ still unaudited',\n",
       "       'Above Rating'], dtype=object)"
      ]
     },
     "execution_count": 117,
     "metadata": {},
     "output_type": "execute_result"
    }
   ],
   "source": [
    "A1_clean ['quality_desc'].unique()"
   ]
  },
  {
   "cell_type": "code",
   "execution_count": 118,
   "metadata": {},
   "outputs": [
    {
     "data": {
      "text/html": [
       "<div>\n",
       "<style scoped>\n",
       "    .dataframe tbody tr th:only-of-type {\n",
       "        vertical-align: middle;\n",
       "    }\n",
       "\n",
       "    .dataframe tbody tr th {\n",
       "        vertical-align: top;\n",
       "    }\n",
       "\n",
       "    .dataframe thead th {\n",
       "        text-align: right;\n",
       "    }\n",
       "</style>\n",
       "<table border=\"1\" class=\"dataframe\">\n",
       "  <thead>\n",
       "    <tr style=\"text-align: right;\">\n",
       "      <th></th>\n",
       "      <th>date</th>\n",
       "      <th>mean_discharge_cumecs</th>\n",
       "      <th>qual</th>\n",
       "      <th>name</th>\n",
       "      <th>quality_desc</th>\n",
       "      <th>dataowner</th>\n",
       "      <th>contact_person</th>\n",
       "      <th>email</th>\n",
       "      <th>file_name</th>\n",
       "    </tr>\n",
       "  </thead>\n",
       "  <tbody>\n",
       "    <tr>\n",
       "      <th>0</th>\n",
       "      <td>1960-05-10 00:00:00</td>\n",
       "      <td>NaN</td>\n",
       "      <td>255</td>\n",
       "      <td>A1H001</td>\n",
       "      <td>Missing data</td>\n",
       "      <td>Department of Water and Sanitation South Africa</td>\n",
       "      <td>Ramusiya, Fhedzisani</td>\n",
       "      <td>RamusiyaF@dws.gov.za</td>\n",
       "      <td>A1H001 Upper Eye Dinokana.xlsx</td>\n",
       "    </tr>\n",
       "    <tr>\n",
       "      <th>1</th>\n",
       "      <td>1960-05-11 00:00:00</td>\n",
       "      <td>0.095</td>\n",
       "      <td>26</td>\n",
       "      <td>A1H001</td>\n",
       "      <td>Audited Gauge Plate Readings / dip level readings</td>\n",
       "      <td>Department of Water and Sanitation South Africa</td>\n",
       "      <td>Ramusiya, Fhedzisani</td>\n",
       "      <td>RamusiyaF@dws.gov.za</td>\n",
       "      <td>A1H001 Upper Eye Dinokana.xlsx</td>\n",
       "    </tr>\n",
       "  </tbody>\n",
       "</table>\n",
       "</div>"
      ],
      "text/plain": [
       "                  date mean_discharge_cumecs qual    name  \\\n",
       "0  1960-05-10 00:00:00                   NaN  255  A1H001   \n",
       "1  1960-05-11 00:00:00                 0.095   26  A1H001   \n",
       "\n",
       "                                        quality_desc  \\\n",
       "0                                       Missing data   \n",
       "1  Audited Gauge Plate Readings / dip level readings   \n",
       "\n",
       "                                         dataowner        contact_person  \\\n",
       "0  Department of Water and Sanitation South Africa  Ramusiya, Fhedzisani   \n",
       "1  Department of Water and Sanitation South Africa  Ramusiya, Fhedzisani   \n",
       "\n",
       "                  email                       file_name  \n",
       "0  RamusiyaF@dws.gov.za  A1H001 Upper Eye Dinokana.xlsx  \n",
       "1  RamusiyaF@dws.gov.za  A1H001 Upper Eye Dinokana.xlsx  "
      ]
     },
     "execution_count": 118,
     "metadata": {},
     "output_type": "execute_result"
    }
   ],
   "source": [
    "# Insert data source details i.e. data owner, contact, email and file name\n",
    "A1_clean ['dataowner'] = \"Department of Water and Sanitation South Africa\"\n",
    "A1_clean ['contact_person'] = \"Ramusiya, Fhedzisani\"\n",
    "A1_clean ['email'] = \"RamusiyaF@dws.gov.za\"\n",
    "A1_clean.loc[A1['name'].str.contains('A1H001'), 'file_name'] = 'A1H001 Upper Eye Dinokana.xlsx'\n",
    "A1_clean.loc[A1['name'].str.contains('A1H002'), 'file_name'] = 'A1H002 Lower Eye Dinokana.xlsx'\n",
    "A1_clean.loc[A1['name'].str.contains('A1H003'), 'file_name'] = 'A1H003 Upper Eye Tweefontein.xlsx'\n",
    "A1_clean.loc[A1['name'].str.contains('A1H004'), 'file_name'] = 'A1H004 Lower Eye Tweefontein.xlsx'\n",
    "A1_clean.loc[A1['name'].str.contains('A1H005'), 'file_name'] = 'A1H005 Skilpad Eye.xlsx'\n",
    "A1_clean.head(2)"
   ]
  },
  {
   "cell_type": "code",
   "execution_count": 119,
   "metadata": {},
   "outputs": [
    {
     "data": {
      "text/html": [
       "<div>\n",
       "<style scoped>\n",
       "    .dataframe tbody tr th:only-of-type {\n",
       "        vertical-align: middle;\n",
       "    }\n",
       "\n",
       "    .dataframe tbody tr th {\n",
       "        vertical-align: top;\n",
       "    }\n",
       "\n",
       "    .dataframe thead th {\n",
       "        text-align: right;\n",
       "    }\n",
       "</style>\n",
       "<table border=\"1\" class=\"dataframe\">\n",
       "  <thead>\n",
       "    <tr style=\"text-align: right;\">\n",
       "      <th></th>\n",
       "      <th>date</th>\n",
       "      <th>mean_discharge_cumecs</th>\n",
       "      <th>qual</th>\n",
       "      <th>name</th>\n",
       "      <th>quality_desc</th>\n",
       "      <th>dataowner</th>\n",
       "      <th>contact_person</th>\n",
       "      <th>email</th>\n",
       "      <th>file_name</th>\n",
       "    </tr>\n",
       "  </thead>\n",
       "  <tbody>\n",
       "    <tr>\n",
       "      <th>0</th>\n",
       "      <td>1960-05-10</td>\n",
       "      <td>NaN</td>\n",
       "      <td>255</td>\n",
       "      <td>A1H001</td>\n",
       "      <td>Missing data</td>\n",
       "      <td>Department of Water and Sanitation South Africa</td>\n",
       "      <td>Ramusiya, Fhedzisani</td>\n",
       "      <td>RamusiyaF@dws.gov.za</td>\n",
       "      <td>A1H001 Upper Eye Dinokana.xlsx</td>\n",
       "    </tr>\n",
       "    <tr>\n",
       "      <th>1</th>\n",
       "      <td>1960-05-11</td>\n",
       "      <td>0.095</td>\n",
       "      <td>26</td>\n",
       "      <td>A1H001</td>\n",
       "      <td>Audited Gauge Plate Readings / dip level readings</td>\n",
       "      <td>Department of Water and Sanitation South Africa</td>\n",
       "      <td>Ramusiya, Fhedzisani</td>\n",
       "      <td>RamusiyaF@dws.gov.za</td>\n",
       "      <td>A1H001 Upper Eye Dinokana.xlsx</td>\n",
       "    </tr>\n",
       "  </tbody>\n",
       "</table>\n",
       "</div>"
      ],
      "text/plain": [
       "         date mean_discharge_cumecs qual    name  \\\n",
       "0  1960-05-10                   NaN  255  A1H001   \n",
       "1  1960-05-11                 0.095   26  A1H001   \n",
       "\n",
       "                                        quality_desc  \\\n",
       "0                                       Missing data   \n",
       "1  Audited Gauge Plate Readings / dip level readings   \n",
       "\n",
       "                                         dataowner        contact_person  \\\n",
       "0  Department of Water and Sanitation South Africa  Ramusiya, Fhedzisani   \n",
       "1  Department of Water and Sanitation South Africa  Ramusiya, Fhedzisani   \n",
       "\n",
       "                  email                       file_name  \n",
       "0  RamusiyaF@dws.gov.za  A1H001 Upper Eye Dinokana.xlsx  \n",
       "1  RamusiyaF@dws.gov.za  A1H001 Upper Eye Dinokana.xlsx  "
      ]
     },
     "execution_count": 119,
     "metadata": {},
     "output_type": "execute_result"
    }
   ],
   "source": [
    "A1_clean ['date'] = pd.to_datetime(A1_clean ['date'])\n",
    "\n",
    "# Conver OnDate to RIMS requred date format in new column = date_rims\n",
    "A1_clean ['date'] = A1_clean ['date'].dt.strftime('%Y-%m-%d')\n",
    "\n",
    "A1_clean.head(2)"
   ]
  },
  {
   "cell_type": "code",
   "execution_count": 120,
   "metadata": {},
   "outputs": [
    {
     "data": {
      "text/html": [
       "<div>\n",
       "<style scoped>\n",
       "    .dataframe tbody tr th:only-of-type {\n",
       "        vertical-align: middle;\n",
       "    }\n",
       "\n",
       "    .dataframe tbody tr th {\n",
       "        vertical-align: top;\n",
       "    }\n",
       "\n",
       "    .dataframe thead th {\n",
       "        text-align: right;\n",
       "    }\n",
       "</style>\n",
       "<table border=\"1\" class=\"dataframe\">\n",
       "  <thead>\n",
       "    <tr style=\"text-align: right;\">\n",
       "      <th></th>\n",
       "      <th>date</th>\n",
       "      <th>mean_discharge_cumecs</th>\n",
       "      <th>qual</th>\n",
       "      <th>name</th>\n",
       "      <th>quality_desc</th>\n",
       "      <th>dataowner</th>\n",
       "      <th>contact_person</th>\n",
       "      <th>email</th>\n",
       "      <th>file_name</th>\n",
       "    </tr>\n",
       "  </thead>\n",
       "  <tbody>\n",
       "    <tr>\n",
       "      <th>0</th>\n",
       "      <td>1960-05-10</td>\n",
       "      <td>9999</td>\n",
       "      <td>255</td>\n",
       "      <td>A1H001</td>\n",
       "      <td>Missing data</td>\n",
       "      <td>Department of Water and Sanitation South Africa</td>\n",
       "      <td>Ramusiya, Fhedzisani</td>\n",
       "      <td>RamusiyaF@dws.gov.za</td>\n",
       "      <td>A1H001 Upper Eye Dinokana.xlsx</td>\n",
       "    </tr>\n",
       "    <tr>\n",
       "      <th>3180</th>\n",
       "      <td>1969-01-23</td>\n",
       "      <td>9999</td>\n",
       "      <td>170</td>\n",
       "      <td>A1H001</td>\n",
       "      <td>Period of No Record (PNR)</td>\n",
       "      <td>Department of Water and Sanitation South Africa</td>\n",
       "      <td>Ramusiya, Fhedzisani</td>\n",
       "      <td>RamusiyaF@dws.gov.za</td>\n",
       "      <td>A1H001 Upper Eye Dinokana.xlsx</td>\n",
       "    </tr>\n",
       "    <tr>\n",
       "      <th>3181</th>\n",
       "      <td>1969-01-24</td>\n",
       "      <td>9999</td>\n",
       "      <td>170</td>\n",
       "      <td>A1H001</td>\n",
       "      <td>Period of No Record (PNR)</td>\n",
       "      <td>Department of Water and Sanitation South Africa</td>\n",
       "      <td>Ramusiya, Fhedzisani</td>\n",
       "      <td>RamusiyaF@dws.gov.za</td>\n",
       "      <td>A1H001 Upper Eye Dinokana.xlsx</td>\n",
       "    </tr>\n",
       "  </tbody>\n",
       "</table>\n",
       "</div>"
      ],
      "text/plain": [
       "            date mean_discharge_cumecs  qual    name  \\\n",
       "0     1960-05-10                  9999   255  A1H001   \n",
       "3180  1969-01-23                  9999   170  A1H001   \n",
       "3181  1969-01-24                  9999   170  A1H001   \n",
       "\n",
       "                   quality_desc  \\\n",
       "0                  Missing data   \n",
       "3180  Period of No Record (PNR)   \n",
       "3181  Period of No Record (PNR)   \n",
       "\n",
       "                                            dataowner        contact_person  \\\n",
       "0     Department of Water and Sanitation South Africa  Ramusiya, Fhedzisani   \n",
       "3180  Department of Water and Sanitation South Africa  Ramusiya, Fhedzisani   \n",
       "3181  Department of Water and Sanitation South Africa  Ramusiya, Fhedzisani   \n",
       "\n",
       "                     email                       file_name  \n",
       "0     RamusiyaF@dws.gov.za  A1H001 Upper Eye Dinokana.xlsx  \n",
       "3180  RamusiyaF@dws.gov.za  A1H001 Upper Eye Dinokana.xlsx  \n",
       "3181  RamusiyaF@dws.gov.za  A1H001 Upper Eye Dinokana.xlsx  "
      ]
     },
     "execution_count": 120,
     "metadata": {},
     "output_type": "execute_result"
    }
   ],
   "source": [
    "# Fill missing values with np.nan\n",
    "A1_clean = A1_clean.replace(np.nan,'9999')\n",
    "A1_clean[A1_clean ['mean_discharge_cumecs'] == '9999'][:3]"
   ]
  },
  {
   "cell_type": "markdown",
   "metadata": {},
   "source": [
    "## Reading in Ramotswa study area plus 10km"
   ]
  },
  {
   "cell_type": "code",
   "execution_count": 122,
   "metadata": {},
   "outputs": [
    {
     "data": {
      "text/html": [
       "<div>\n",
       "<style scoped>\n",
       "    .dataframe tbody tr th:only-of-type {\n",
       "        vertical-align: middle;\n",
       "    }\n",
       "\n",
       "    .dataframe tbody tr th {\n",
       "        vertical-align: top;\n",
       "    }\n",
       "\n",
       "    .dataframe thead th {\n",
       "        text-align: right;\n",
       "    }\n",
       "</style>\n",
       "<table border=\"1\" class=\"dataframe\">\n",
       "  <thead>\n",
       "    <tr style=\"text-align: right;\">\n",
       "      <th></th>\n",
       "      <th>FEAT_ID</th>\n",
       "      <th>DESCRIPTIO</th>\n",
       "      <th>LOC_TYPE</th>\n",
       "      <th>LOC_NAME</th>\n",
       "      <th>QAT_WMS</th>\n",
       "      <th>MON_IND</th>\n",
       "      <th>N</th>\n",
       "      <th>FIRSTDATE</th>\n",
       "      <th>LASTDATE</th>\n",
       "      <th>STATION</th>\n",
       "      <th>...</th>\n",
       "      <th>WMANUM</th>\n",
       "      <th>WMANAME</th>\n",
       "      <th>WMA2NUM</th>\n",
       "      <th>WMA2NAME</th>\n",
       "      <th>PR</th>\n",
       "      <th>PR_name</th>\n",
       "      <th>PR_type</th>\n",
       "      <th>SQ4HASH</th>\n",
       "      <th>VegterID</th>\n",
       "      <th>VegterNM</th>\n",
       "    </tr>\n",
       "  </thead>\n",
       "  <tbody>\n",
       "    <tr>\n",
       "      <th>0</th>\n",
       "      <td>101764</td>\n",
       "      <td>Moilos 37 JO on Dinokana Upper Eye at Dinokana...</td>\n",
       "      <td>Spring/Eye</td>\n",
       "      <td>DINOKANA UPPER EYE AT DINOKANA (AT PUMP STATIO...</td>\n",
       "      <td>A10A</td>\n",
       "      <td>1</td>\n",
       "      <td>192</td>\n",
       "      <td>1971-09-26</td>\n",
       "      <td>2018-05-30</td>\n",
       "      <td>A1H001</td>\n",
       "      <td>...</td>\n",
       "      <td>3</td>\n",
       "      <td>Crocodile (West) and Marico</td>\n",
       "      <td>1</td>\n",
       "      <td>Limpopo</td>\n",
       "      <td>NW</td>\n",
       "      <td>North West</td>\n",
       "      <td>Province</td>\n",
       "      <td>915</td>\n",
       "      <td>9</td>\n",
       "      <td>Western Bankeveld and Marico Bushveld</td>\n",
       "    </tr>\n",
       "    <tr>\n",
       "      <th>1</th>\n",
       "      <td>90309</td>\n",
       "      <td>Paardenvallei 67 JO on Malmanieloop Lower Eye</td>\n",
       "      <td>Spring/Eye</td>\n",
       "      <td>A3H022Q01 MALMANIELOOP AT PAARDENVALLEI</td>\n",
       "      <td>A31D</td>\n",
       "      <td>1</td>\n",
       "      <td>135</td>\n",
       "      <td>1979-12-19</td>\n",
       "      <td>2018-05-30</td>\n",
       "      <td>A3H022</td>\n",
       "      <td>...</td>\n",
       "      <td>3</td>\n",
       "      <td>Crocodile (West) and Marico</td>\n",
       "      <td>1</td>\n",
       "      <td>Limpopo</td>\n",
       "      <td>NW</td>\n",
       "      <td>North West</td>\n",
       "      <td>Province</td>\n",
       "      <td>964</td>\n",
       "      <td>10</td>\n",
       "      <td>Karst Belt</td>\n",
       "    </tr>\n",
       "  </tbody>\n",
       "</table>\n",
       "<p>2 rows × 42 columns</p>\n",
       "</div>"
      ],
      "text/plain": [
       "   FEAT_ID                                         DESCRIPTIO    LOC_TYPE  \\\n",
       "0   101764  Moilos 37 JO on Dinokana Upper Eye at Dinokana...  Spring/Eye   \n",
       "1    90309      Paardenvallei 67 JO on Malmanieloop Lower Eye  Spring/Eye   \n",
       "\n",
       "                                            LOC_NAME QAT_WMS  MON_IND    N  \\\n",
       "0  DINOKANA UPPER EYE AT DINOKANA (AT PUMP STATIO...    A10A        1  192   \n",
       "1            A3H022Q01 MALMANIELOOP AT PAARDENVALLEI    A31D        1  135   \n",
       "\n",
       "    FIRSTDATE    LASTDATE STATION  ... WMANUM                      WMANAME  \\\n",
       "0  1971-09-26  2018-05-30  A1H001  ...      3  Crocodile (West) and Marico   \n",
       "1  1979-12-19  2018-05-30  A3H022  ...      3  Crocodile (West) and Marico   \n",
       "\n",
       "   WMA2NUM  WMA2NAME  PR     PR_name   PR_type SQ4HASH  VegterID  \\\n",
       "0        1   Limpopo  NW  North West  Province     915         9   \n",
       "1        1   Limpopo  NW  North West  Province     964        10   \n",
       "\n",
       "                                VegterNM  \n",
       "0  Western Bankeveld and Marico Bushveld  \n",
       "1                             Karst Belt  \n",
       "\n",
       "[2 rows x 42 columns]"
      ]
     },
     "execution_count": 122,
     "metadata": {},
     "output_type": "execute_result"
    }
   ],
   "source": [
    "#Quality_Code_Description = pd.read_excel ('Quality Code Description.xlsx', header = 0)\n",
    "Ramotswa_study_area_plus_10km = pd.read_excel ('Ramotswa study area plus 10km.xlsx', header = 0)\n",
    "Ramotswa_study_area_plus_10km.head(2)"
   ]
  },
  {
   "cell_type": "markdown",
   "metadata": {},
   "source": [
    "### Assessing Ramotswa study area plus 10km"
   ]
  },
  {
   "cell_type": "code",
   "execution_count": 123,
   "metadata": {},
   "outputs": [
    {
     "name": "stdout",
     "output_type": "stream",
     "text": [
      "<class 'pandas.core.frame.DataFrame'>\n",
      "RangeIndex: 126 entries, 0 to 125\n",
      "Data columns (total 42 columns):\n",
      "FEAT_ID       126 non-null int64\n",
      "DESCRIPTIO    126 non-null object\n",
      "LOC_TYPE      126 non-null object\n",
      "LOC_NAME      112 non-null object\n",
      "QAT_WMS       126 non-null object\n",
      "MON_IND       126 non-null int64\n",
      "N             126 non-null int64\n",
      "FIRSTDATE     126 non-null object\n",
      "LASTDATE      126 non-null object\n",
      "STATION       35 non-null object\n",
      "QUATERNARY    126 non-null object\n",
      "CATID         126 non-null int64\n",
      "CMAP          126 non-null float64\n",
      "MAR           126 non-null float64\n",
      "CURVE         126 non-null int64\n",
      "HYDROZ        125 non-null object\n",
      "MAR4Q         126 non-null float64\n",
      "TERTIARY      126 non-null object\n",
      "TERT_ID       126 non-null int64\n",
      "MAR3Q         126 non-null float64\n",
      "SCND_ID       126 non-null int64\n",
      "SECONDARY     126 non-null object\n",
      "MAR2Q         126 non-null float64\n",
      "PRIM_ID       126 non-null int64\n",
      "PRIMARY       126 non-null object\n",
      "MAR1Q         126 non-null float64\n",
      "QUAT_CODE     126 non-null int64\n",
      "KM_2          126 non-null float64\n",
      "PRGMS         10 non-null object\n",
      "LONGITUDE     126 non-null float64\n",
      "LATITUDE      126 non-null float64\n",
      "optional      126 non-null int64\n",
      "WMANUM        126 non-null int64\n",
      "WMANAME       126 non-null object\n",
      "WMA2NUM       126 non-null int64\n",
      "WMA2NAME      126 non-null object\n",
      "PR            125 non-null object\n",
      "PR_name       126 non-null object\n",
      "PR_type       126 non-null object\n",
      "SQ4HASH       126 non-null int64\n",
      "VegterID      126 non-null int64\n",
      "VegterNM      125 non-null object\n",
      "dtypes: float64(9), int64(14), object(19)\n",
      "memory usage: 41.5+ KB\n"
     ]
    }
   ],
   "source": [
    "Ramotswa_study_area_plus_10km.info()"
   ]
  },
  {
   "cell_type": "code",
   "execution_count": 124,
   "metadata": {},
   "outputs": [
    {
     "data": {
      "text/plain": [
       "array(['A1H001', 'A3H022', 'A3H021', 'A1H002Q01', 'A1H005Q01',\n",
       "       'A3H015Q01', 'A1H003Q01', 'A1H004Q01', nan, 'A3R005', 'A3H011Q01',\n",
       "       'A3H013Q01', 'ZQMZRS1', 'ZQMMLO1', 'ZQMLRE2', 'A1E001',\n",
       "       'A3NGOT-PUANE', 'ZQMLRE3', '2526CA00750', '2525BD00199',\n",
       "       '2525BD00198', 'A3KARE-GHOLF', '2624DB00233', '2525BC00074',\n",
       "       '2525BC00075', '2525DB00395', '2525DB00394', '2525DB00363',\n",
       "       '2525DB00369', 'ZQMBM40', 'ZQMBM41', 'ZQMBM45', 'ZQMBM46',\n",
       "       'ZQMBM15', 'A3H012Q01', '2526CA00749'], dtype=object)"
      ]
     },
     "execution_count": 124,
     "metadata": {},
     "output_type": "execute_result"
    }
   ],
   "source": [
    "Ramotswa_study_area_plus_10km ['STATION'].unique()"
   ]
  },
  {
   "cell_type": "markdown",
   "metadata": {},
   "source": [
    "### Cleaning Ramotswa study area plus 10km"
   ]
  }
 ],
 "metadata": {
  "kernelspec": {
   "display_name": "Python 3",
   "language": "python",
   "name": "python3"
  },
  "language_info": {
   "codemirror_mode": {
    "name": "ipython",
    "version": 3
   },
   "file_extension": ".py",
   "mimetype": "text/x-python",
   "name": "python",
   "nbconvert_exporter": "python",
   "pygments_lexer": "ipython3",
   "version": "3.7.4"
  },
  "toc": {
   "base_numbering": 1,
   "nav_menu": {},
   "number_sections": true,
   "sideBar": true,
   "skip_h1_title": false,
   "title_cell": "Table of Contents",
   "title_sidebar": "Contents",
   "toc_cell": false,
   "toc_position": {
    "height": "calc(100% - 180px)",
    "left": "10px",
    "top": "150px",
    "width": "286.328px"
   },
   "toc_section_display": true,
   "toc_window_display": true
  }
 },
 "nbformat": 4,
 "nbformat_minor": 2
}
